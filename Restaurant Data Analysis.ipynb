{
 "cells": [
  {
   "cell_type": "markdown",
   "id": "57078e30-ef72-4a59-8f40-1f86d224ebd2",
   "metadata": {},
   "source": [
    "## <span style=\"color:brown;\"><center> Restaurant Data Analysis with Python Libraries </center></span>"
   ]
  },
  {
   "cell_type": "code",
   "execution_count": 1,
   "id": "06f427ec-3442-4ce9-b8e2-6663d7b9992d",
   "metadata": {
    "tags": []
   },
   "outputs": [],
   "source": [
    "#  Importing essential libraries for data analysis and visualization\n",
    "import numpy as np         # Numerical operations and array manipulation\n",
    "import pandas as pd        # Data manipulation and analysis, particularly for structured data\n",
    "import matplotlib.pyplot as plt      # Data visualization library for crating static, interactive, animated plots\n",
    "import seaborn as  sns        # Statistical data visualization based on matplotlib, providing high-level interfaces"
   ]
  },
  {
   "cell_type": "code",
   "execution_count": 2,
   "id": "13541407-c41e-48c4-88d0-aba80d7a9626",
   "metadata": {
    "tags": []
   },
   "outputs": [],
   "source": [
    "# Load the restaurant dataset from a CSV file into a Dataframe\n",
    "restaurant=pd.read_csv('restaurant.csv')        # Reading the restaurant data from the specified CSV file into a pandas dataframe "
   ]
  },
  {
   "cell_type": "markdown",
   "id": "044c8f61-6a39-4c93-a24d-ee655bc7c5b4",
   "metadata": {},
   "source": [
    "### Step 1 : Understand the Data"
   ]
  },
  {
   "cell_type": "code",
   "execution_count": 3,
   "id": "ab13b32a-5bb0-4791-a14c-92ece26523cc",
   "metadata": {
    "tags": []
   },
   "outputs": [
    {
     "data": {
      "text/html": [
       "<div>\n",
       "<style scoped>\n",
       "    .dataframe tbody tr th:only-of-type {\n",
       "        vertical-align: middle;\n",
       "    }\n",
       "\n",
       "    .dataframe tbody tr th {\n",
       "        vertical-align: top;\n",
       "    }\n",
       "\n",
       "    .dataframe thead th {\n",
       "        text-align: right;\n",
       "    }\n",
       "</style>\n",
       "<table border=\"1\" class=\"dataframe\">\n",
       "  <thead>\n",
       "    <tr style=\"text-align: right;\">\n",
       "      <th></th>\n",
       "      <th>total_bill</th>\n",
       "      <th>tip</th>\n",
       "      <th>gender</th>\n",
       "      <th>smoker</th>\n",
       "      <th>day</th>\n",
       "      <th>time</th>\n",
       "      <th>size</th>\n",
       "    </tr>\n",
       "  </thead>\n",
       "  <tbody>\n",
       "    <tr>\n",
       "      <th>0</th>\n",
       "      <td>16.99</td>\n",
       "      <td>1.01</td>\n",
       "      <td>Female</td>\n",
       "      <td>No</td>\n",
       "      <td>Sun</td>\n",
       "      <td>Dinner</td>\n",
       "      <td>2</td>\n",
       "    </tr>\n",
       "    <tr>\n",
       "      <th>1</th>\n",
       "      <td>10.34</td>\n",
       "      <td>1.66</td>\n",
       "      <td>Male</td>\n",
       "      <td>No</td>\n",
       "      <td>Sun</td>\n",
       "      <td>Dinner</td>\n",
       "      <td>3</td>\n",
       "    </tr>\n",
       "    <tr>\n",
       "      <th>2</th>\n",
       "      <td>21.01</td>\n",
       "      <td>3.50</td>\n",
       "      <td>Male</td>\n",
       "      <td>No</td>\n",
       "      <td>Sun</td>\n",
       "      <td>Dinner</td>\n",
       "      <td>3</td>\n",
       "    </tr>\n",
       "    <tr>\n",
       "      <th>3</th>\n",
       "      <td>23.68</td>\n",
       "      <td>3.31</td>\n",
       "      <td>Male</td>\n",
       "      <td>No</td>\n",
       "      <td>Sun</td>\n",
       "      <td>Dinner</td>\n",
       "      <td>2</td>\n",
       "    </tr>\n",
       "    <tr>\n",
       "      <th>4</th>\n",
       "      <td>24.59</td>\n",
       "      <td>3.61</td>\n",
       "      <td>Female</td>\n",
       "      <td>No</td>\n",
       "      <td>Sun</td>\n",
       "      <td>Dinner</td>\n",
       "      <td>4</td>\n",
       "    </tr>\n",
       "    <tr>\n",
       "      <th>...</th>\n",
       "      <td>...</td>\n",
       "      <td>...</td>\n",
       "      <td>...</td>\n",
       "      <td>...</td>\n",
       "      <td>...</td>\n",
       "      <td>...</td>\n",
       "      <td>...</td>\n",
       "    </tr>\n",
       "    <tr>\n",
       "      <th>239</th>\n",
       "      <td>29.03</td>\n",
       "      <td>5.92</td>\n",
       "      <td>Male</td>\n",
       "      <td>No</td>\n",
       "      <td>Sat</td>\n",
       "      <td>Dinner</td>\n",
       "      <td>3</td>\n",
       "    </tr>\n",
       "    <tr>\n",
       "      <th>240</th>\n",
       "      <td>27.18</td>\n",
       "      <td>2.00</td>\n",
       "      <td>Female</td>\n",
       "      <td>Yes</td>\n",
       "      <td>Sat</td>\n",
       "      <td>Dinner</td>\n",
       "      <td>2</td>\n",
       "    </tr>\n",
       "    <tr>\n",
       "      <th>241</th>\n",
       "      <td>22.67</td>\n",
       "      <td>2.00</td>\n",
       "      <td>Male</td>\n",
       "      <td>Yes</td>\n",
       "      <td>Sat</td>\n",
       "      <td>Dinner</td>\n",
       "      <td>2</td>\n",
       "    </tr>\n",
       "    <tr>\n",
       "      <th>242</th>\n",
       "      <td>17.82</td>\n",
       "      <td>1.75</td>\n",
       "      <td>Male</td>\n",
       "      <td>No</td>\n",
       "      <td>Sat</td>\n",
       "      <td>Dinner</td>\n",
       "      <td>2</td>\n",
       "    </tr>\n",
       "    <tr>\n",
       "      <th>243</th>\n",
       "      <td>18.78</td>\n",
       "      <td>3.00</td>\n",
       "      <td>Female</td>\n",
       "      <td>No</td>\n",
       "      <td>Thur</td>\n",
       "      <td>Dinner</td>\n",
       "      <td>2</td>\n",
       "    </tr>\n",
       "  </tbody>\n",
       "</table>\n",
       "<p>244 rows × 7 columns</p>\n",
       "</div>"
      ],
      "text/plain": [
       "     total_bill   tip  gender smoker   day    time  size\n",
       "0         16.99  1.01  Female     No   Sun  Dinner     2\n",
       "1         10.34  1.66    Male     No   Sun  Dinner     3\n",
       "2         21.01  3.50    Male     No   Sun  Dinner     3\n",
       "3         23.68  3.31    Male     No   Sun  Dinner     2\n",
       "4         24.59  3.61  Female     No   Sun  Dinner     4\n",
       "..          ...   ...     ...    ...   ...     ...   ...\n",
       "239       29.03  5.92    Male     No   Sat  Dinner     3\n",
       "240       27.18  2.00  Female    Yes   Sat  Dinner     2\n",
       "241       22.67  2.00    Male    Yes   Sat  Dinner     2\n",
       "242       17.82  1.75    Male     No   Sat  Dinner     2\n",
       "243       18.78  3.00  Female     No  Thur  Dinner     2\n",
       "\n",
       "[244 rows x 7 columns]"
      ]
     },
     "execution_count": 3,
     "metadata": {},
     "output_type": "execute_result"
    }
   ],
   "source": [
    "# Display the contents of the dataframe in Jupyter Notebook for inspection\n",
    "restaurant       # Display the entire dataframe to analyze and visualize"
   ]
  },
  {
   "cell_type": "code",
   "execution_count": 4,
   "id": "5c6ebe03-8a07-4210-bd0a-bc1ceeae0d02",
   "metadata": {
    "tags": []
   },
   "outputs": [
    {
     "data": {
      "text/html": [
       "<div>\n",
       "<style scoped>\n",
       "    .dataframe tbody tr th:only-of-type {\n",
       "        vertical-align: middle;\n",
       "    }\n",
       "\n",
       "    .dataframe tbody tr th {\n",
       "        vertical-align: top;\n",
       "    }\n",
       "\n",
       "    .dataframe thead th {\n",
       "        text-align: right;\n",
       "    }\n",
       "</style>\n",
       "<table border=\"1\" class=\"dataframe\">\n",
       "  <thead>\n",
       "    <tr style=\"text-align: right;\">\n",
       "      <th></th>\n",
       "      <th>total_bill</th>\n",
       "      <th>tip</th>\n",
       "      <th>gender</th>\n",
       "      <th>smoker</th>\n",
       "      <th>day</th>\n",
       "      <th>time</th>\n",
       "      <th>size</th>\n",
       "    </tr>\n",
       "  </thead>\n",
       "  <tbody>\n",
       "    <tr>\n",
       "      <th>0</th>\n",
       "      <td>16.99</td>\n",
       "      <td>1.01</td>\n",
       "      <td>Female</td>\n",
       "      <td>No</td>\n",
       "      <td>Sun</td>\n",
       "      <td>Dinner</td>\n",
       "      <td>2</td>\n",
       "    </tr>\n",
       "    <tr>\n",
       "      <th>1</th>\n",
       "      <td>10.34</td>\n",
       "      <td>1.66</td>\n",
       "      <td>Male</td>\n",
       "      <td>No</td>\n",
       "      <td>Sun</td>\n",
       "      <td>Dinner</td>\n",
       "      <td>3</td>\n",
       "    </tr>\n",
       "    <tr>\n",
       "      <th>2</th>\n",
       "      <td>21.01</td>\n",
       "      <td>3.50</td>\n",
       "      <td>Male</td>\n",
       "      <td>No</td>\n",
       "      <td>Sun</td>\n",
       "      <td>Dinner</td>\n",
       "      <td>3</td>\n",
       "    </tr>\n",
       "    <tr>\n",
       "      <th>3</th>\n",
       "      <td>23.68</td>\n",
       "      <td>3.31</td>\n",
       "      <td>Male</td>\n",
       "      <td>No</td>\n",
       "      <td>Sun</td>\n",
       "      <td>Dinner</td>\n",
       "      <td>2</td>\n",
       "    </tr>\n",
       "    <tr>\n",
       "      <th>4</th>\n",
       "      <td>24.59</td>\n",
       "      <td>3.61</td>\n",
       "      <td>Female</td>\n",
       "      <td>No</td>\n",
       "      <td>Sun</td>\n",
       "      <td>Dinner</td>\n",
       "      <td>4</td>\n",
       "    </tr>\n",
       "  </tbody>\n",
       "</table>\n",
       "</div>"
      ],
      "text/plain": [
       "   total_bill   tip  gender smoker  day    time  size\n",
       "0       16.99  1.01  Female     No  Sun  Dinner     2\n",
       "1       10.34  1.66    Male     No  Sun  Dinner     3\n",
       "2       21.01  3.50    Male     No  Sun  Dinner     3\n",
       "3       23.68  3.31    Male     No  Sun  Dinner     2\n",
       "4       24.59  3.61  Female     No  Sun  Dinner     4"
      ]
     },
     "execution_count": 4,
     "metadata": {},
     "output_type": "execute_result"
    }
   ],
   "source": [
    "# Display the first few rows of the dataframe to get an overview of the data\n",
    "restaurant.head()        # Show the first 5 rows of the dataframe for a quick preview"
   ]
  },
  {
   "cell_type": "code",
   "execution_count": 5,
   "id": "bbc4f0db-dff0-4376-9cea-49ec061e9c35",
   "metadata": {
    "tags": []
   },
   "outputs": [
    {
     "data": {
      "text/html": [
       "<div>\n",
       "<style scoped>\n",
       "    .dataframe tbody tr th:only-of-type {\n",
       "        vertical-align: middle;\n",
       "    }\n",
       "\n",
       "    .dataframe tbody tr th {\n",
       "        vertical-align: top;\n",
       "    }\n",
       "\n",
       "    .dataframe thead th {\n",
       "        text-align: right;\n",
       "    }\n",
       "</style>\n",
       "<table border=\"1\" class=\"dataframe\">\n",
       "  <thead>\n",
       "    <tr style=\"text-align: right;\">\n",
       "      <th></th>\n",
       "      <th>total_bill</th>\n",
       "      <th>tip</th>\n",
       "      <th>gender</th>\n",
       "      <th>smoker</th>\n",
       "      <th>day</th>\n",
       "      <th>time</th>\n",
       "      <th>size</th>\n",
       "    </tr>\n",
       "  </thead>\n",
       "  <tbody>\n",
       "    <tr>\n",
       "      <th>239</th>\n",
       "      <td>29.03</td>\n",
       "      <td>5.92</td>\n",
       "      <td>Male</td>\n",
       "      <td>No</td>\n",
       "      <td>Sat</td>\n",
       "      <td>Dinner</td>\n",
       "      <td>3</td>\n",
       "    </tr>\n",
       "    <tr>\n",
       "      <th>240</th>\n",
       "      <td>27.18</td>\n",
       "      <td>2.00</td>\n",
       "      <td>Female</td>\n",
       "      <td>Yes</td>\n",
       "      <td>Sat</td>\n",
       "      <td>Dinner</td>\n",
       "      <td>2</td>\n",
       "    </tr>\n",
       "    <tr>\n",
       "      <th>241</th>\n",
       "      <td>22.67</td>\n",
       "      <td>2.00</td>\n",
       "      <td>Male</td>\n",
       "      <td>Yes</td>\n",
       "      <td>Sat</td>\n",
       "      <td>Dinner</td>\n",
       "      <td>2</td>\n",
       "    </tr>\n",
       "    <tr>\n",
       "      <th>242</th>\n",
       "      <td>17.82</td>\n",
       "      <td>1.75</td>\n",
       "      <td>Male</td>\n",
       "      <td>No</td>\n",
       "      <td>Sat</td>\n",
       "      <td>Dinner</td>\n",
       "      <td>2</td>\n",
       "    </tr>\n",
       "    <tr>\n",
       "      <th>243</th>\n",
       "      <td>18.78</td>\n",
       "      <td>3.00</td>\n",
       "      <td>Female</td>\n",
       "      <td>No</td>\n",
       "      <td>Thur</td>\n",
       "      <td>Dinner</td>\n",
       "      <td>2</td>\n",
       "    </tr>\n",
       "  </tbody>\n",
       "</table>\n",
       "</div>"
      ],
      "text/plain": [
       "     total_bill   tip  gender smoker   day    time  size\n",
       "239       29.03  5.92    Male     No   Sat  Dinner     3\n",
       "240       27.18  2.00  Female    Yes   Sat  Dinner     2\n",
       "241       22.67  2.00    Male    Yes   Sat  Dinner     2\n",
       "242       17.82  1.75    Male     No   Sat  Dinner     2\n",
       "243       18.78  3.00  Female     No  Thur  Dinner     2"
      ]
     },
     "execution_count": 5,
     "metadata": {},
     "output_type": "execute_result"
    }
   ],
   "source": [
    "# Display the last few rows of the dataframe to examine the end of the dataset\n",
    "restaurant.tail()     # Show the last 5 rows of the dataframe for a quick look at the dataset's conclusion"
   ]
  },
  {
   "cell_type": "code",
   "execution_count": 6,
   "id": "1a859160-b5a0-452f-a9f4-5e51de266ab4",
   "metadata": {
    "tags": []
   },
   "outputs": [
    {
     "name": "stdout",
     "output_type": "stream",
     "text": [
      "<class 'pandas.core.frame.DataFrame'>\n",
      "RangeIndex: 244 entries, 0 to 243\n",
      "Data columns (total 7 columns):\n",
      " #   Column      Non-Null Count  Dtype  \n",
      "---  ------      --------------  -----  \n",
      " 0   total_bill  244 non-null    float64\n",
      " 1   tip         244 non-null    float64\n",
      " 2   gender      244 non-null    object \n",
      " 3   smoker      244 non-null    object \n",
      " 4   day         244 non-null    object \n",
      " 5   time        244 non-null    object \n",
      " 6   size        244 non-null    int64  \n",
      "dtypes: float64(2), int64(1), object(4)\n",
      "memory usage: 13.5+ KB\n"
     ]
    }
   ],
   "source": [
    "# Display a concise summary of the dataframe, including data dypes and non-null counts\n",
    "restaurant.info()       # Provides a quick overview of the dataframe structure, including column names, data types, and missing values"
   ]
  },
  {
   "cell_type": "code",
   "execution_count": 7,
   "id": "ca7e623c-51bc-4ddc-9a99-0627039acb5a",
   "metadata": {
    "tags": []
   },
   "outputs": [
    {
     "data": {
      "text/plain": [
       "(244, 7)"
      ]
     },
     "execution_count": 7,
     "metadata": {},
     "output_type": "execute_result"
    }
   ],
   "source": [
    "# Retrieve the dimensions of the dataframe\n",
    "restaurant.shape       # Returns a tuple representing the number of rows and columns in the dataframe"
   ]
  },
  {
   "cell_type": "code",
   "execution_count": 8,
   "id": "bad72f7f-2709-4342-85af-bf30c5ef0f3a",
   "metadata": {
    "tags": []
   },
   "outputs": [
    {
     "data": {
      "text/plain": [
       "Index(['total_bill', 'tip', 'gender', 'smoker', 'day', 'time', 'size'], dtype='object')"
      ]
     },
     "execution_count": 8,
     "metadata": {},
     "output_type": "execute_result"
    }
   ],
   "source": [
    "# Retrieve the columns names of the dataframe to understand its structure\n",
    "restaurant.columns        # Returns a list of column names in the dataframe, providing an overview of the dataset's features"
   ]
  },
  {
   "cell_type": "code",
   "execution_count": 9,
   "id": "296b822c-1837-45cc-9f7d-ffa0b9116d26",
   "metadata": {
    "tags": []
   },
   "outputs": [
    {
     "data": {
      "text/plain": [
       "total_bill    229\n",
       "tip           123\n",
       "gender          2\n",
       "smoker          2\n",
       "day             4\n",
       "time            2\n",
       "size            6\n",
       "dtype: int64"
      ]
     },
     "execution_count": 9,
     "metadata": {},
     "output_type": "execute_result"
    }
   ],
   "source": [
    "# Get the count of unique values for each column in the dataframe\n",
    "restaurant.nunique()       # Returns the number of unique values per column, helping to identify the diversity of data in each feature"
   ]
  },
  {
   "cell_type": "code",
   "execution_count": 10,
   "id": "4cee0b49-01bc-46f2-853d-95c8a1913c74",
   "metadata": {
    "tags": []
   },
   "outputs": [
    {
     "data": {
      "text/plain": [
       "array(['Female', 'Male'], dtype=object)"
      ]
     },
     "execution_count": 10,
     "metadata": {},
     "output_type": "execute_result"
    }
   ],
   "source": [
    "# Retrieve the unique values in the 'gender' column to understand the distinct categories\n",
    "restaurant['gender'].unique()         # Returns an array of unique values in the 'gender' column, helping to identify the categories present in the data"
   ]
  },
  {
   "cell_type": "markdown",
   "id": "002930fc-4d69-4ccd-b71e-3c86e09e6579",
   "metadata": {},
   "source": [
    "### Step 2 : Data Cleaning"
   ]
  },
  {
   "cell_type": "code",
   "execution_count": 11,
   "id": "373ef312-95e8-4c33-b499-72a36e9432c4",
   "metadata": {
    "tags": []
   },
   "outputs": [
    {
     "data": {
      "text/plain": [
       "total_bill    0\n",
       "tip           0\n",
       "gender        0\n",
       "smoker        0\n",
       "day           0\n",
       "time          0\n",
       "size          0\n",
       "dtype: int64"
      ]
     },
     "execution_count": 11,
     "metadata": {},
     "output_type": "execute_result"
    }
   ],
   "source": [
    "# Check for missing (null) values in each column of the dataframe\n",
    "restaurant.isnull().sum()       # Returns the total count of missing values per column, helping to identify data gaps and handle missing data"
   ]
  },
  {
   "cell_type": "markdown",
   "id": "23125408-0ee7-4505-9937-e09ef6fe49f2",
   "metadata": {},
   "source": [
    "#### Since no missing or null values were found, duplicate rows in the dataframe will now be checked."
   ]
  },
  {
   "cell_type": "code",
   "execution_count": 12,
   "id": "69b5e54d-60b9-4411-9e49-72298b249c07",
   "metadata": {},
   "outputs": [
    {
     "data": {
      "text/html": [
       "<div>\n",
       "<style scoped>\n",
       "    .dataframe tbody tr th:only-of-type {\n",
       "        vertical-align: middle;\n",
       "    }\n",
       "\n",
       "    .dataframe tbody tr th {\n",
       "        vertical-align: top;\n",
       "    }\n",
       "\n",
       "    .dataframe thead th {\n",
       "        text-align: right;\n",
       "    }\n",
       "</style>\n",
       "<table border=\"1\" class=\"dataframe\">\n",
       "  <thead>\n",
       "    <tr style=\"text-align: right;\">\n",
       "      <th></th>\n",
       "      <th>total_bill</th>\n",
       "      <th>tip</th>\n",
       "      <th>gender</th>\n",
       "      <th>smoker</th>\n",
       "      <th>day</th>\n",
       "      <th>time</th>\n",
       "      <th>size</th>\n",
       "    </tr>\n",
       "  </thead>\n",
       "  <tbody>\n",
       "    <tr>\n",
       "      <th>202</th>\n",
       "      <td>13.0</td>\n",
       "      <td>2.0</td>\n",
       "      <td>Female</td>\n",
       "      <td>Yes</td>\n",
       "      <td>Thur</td>\n",
       "      <td>Lunch</td>\n",
       "      <td>2</td>\n",
       "    </tr>\n",
       "  </tbody>\n",
       "</table>\n",
       "</div>"
      ],
      "text/plain": [
       "     total_bill  tip  gender smoker   day   time  size\n",
       "202        13.0  2.0  Female    Yes  Thur  Lunch     2"
      ]
     },
     "execution_count": 12,
     "metadata": {},
     "output_type": "execute_result"
    }
   ],
   "source": [
    "# Identify and display the duplicate rows in the dataframe\n",
    "restaurant[restaurant.duplicated()]         # Returns a dataframe containing all the rows that are duplicates of previous rows"
   ]
  },
  {
   "cell_type": "markdown",
   "id": "9b8b14b3-c38b-4734-a3d3-6567e5625609",
   "metadata": {},
   "source": [
    "#### A duplicate row has been identified and will now be removed to ensure a more accurate analysis"
   ]
  },
  {
   "cell_type": "code",
   "execution_count": 13,
   "id": "a27c72e9-9fc4-476e-9212-176e2b42c2a7",
   "metadata": {},
   "outputs": [],
   "source": [
    "# Remove duplicate rows from dataframe to ensure data accuracy\n",
    "restaurant.drop_duplicates(inplace=True)         # Removes all duplicate rows from the dataframe, modifying it in place to maintain unique data"
   ]
  },
  {
   "cell_type": "code",
   "execution_count": 14,
   "id": "51e9654f-ff1f-4a5d-a2e3-491a2d621578",
   "metadata": {},
   "outputs": [
    {
     "data": {
      "text/plain": [
       "(243, 7)"
      ]
     },
     "execution_count": 14,
     "metadata": {},
     "output_type": "execute_result"
    }
   ],
   "source": [
    "# Check the new dimensions of the dataframe after removing duplicate rows\n",
    "restaurant.shape       # Returns the updated number of rows and columns in the dataframe, reflecting the removal of duplicate entries"
   ]
  },
  {
   "cell_type": "markdown",
   "id": "147b1d5b-387d-4712-a73e-a7b3b8b84cfd",
   "metadata": {},
   "source": [
    "#### So, the data has now been cleaned, Step 3 : Analysis can now be proceeded with."
   ]
  },
  {
   "cell_type": "markdown",
   "id": "d119aef1-331f-499a-9ab2-23696c4d0302",
   "metadata": {},
   "source": [
    "## Step 3 : Analyze the Data and Extract Meaningful Insights"
   ]
  },
  {
   "cell_type": "code",
   "execution_count": 15,
   "id": "c791747b-8a6c-439a-b1e4-6203b62cf1a8",
   "metadata": {
    "tags": []
   },
   "outputs": [
    {
     "data": {
      "text/html": [
       "<div>\n",
       "<style scoped>\n",
       "    .dataframe tbody tr th:only-of-type {\n",
       "        vertical-align: middle;\n",
       "    }\n",
       "\n",
       "    .dataframe tbody tr th {\n",
       "        vertical-align: top;\n",
       "    }\n",
       "\n",
       "    .dataframe thead th {\n",
       "        text-align: right;\n",
       "    }\n",
       "</style>\n",
       "<table border=\"1\" class=\"dataframe\">\n",
       "  <thead>\n",
       "    <tr style=\"text-align: right;\">\n",
       "      <th></th>\n",
       "      <th>total_bill</th>\n",
       "      <th>tip</th>\n",
       "      <th>gender</th>\n",
       "      <th>smoker</th>\n",
       "      <th>day</th>\n",
       "      <th>time</th>\n",
       "      <th>size</th>\n",
       "    </tr>\n",
       "  </thead>\n",
       "  <tbody>\n",
       "    <tr>\n",
       "      <th>0</th>\n",
       "      <td>16.99</td>\n",
       "      <td>1.01</td>\n",
       "      <td>Female</td>\n",
       "      <td>No</td>\n",
       "      <td>Sun</td>\n",
       "      <td>Dinner</td>\n",
       "      <td>2</td>\n",
       "    </tr>\n",
       "    <tr>\n",
       "      <th>1</th>\n",
       "      <td>10.34</td>\n",
       "      <td>1.66</td>\n",
       "      <td>Male</td>\n",
       "      <td>No</td>\n",
       "      <td>Sun</td>\n",
       "      <td>Dinner</td>\n",
       "      <td>3</td>\n",
       "    </tr>\n",
       "    <tr>\n",
       "      <th>2</th>\n",
       "      <td>21.01</td>\n",
       "      <td>3.50</td>\n",
       "      <td>Male</td>\n",
       "      <td>No</td>\n",
       "      <td>Sun</td>\n",
       "      <td>Dinner</td>\n",
       "      <td>3</td>\n",
       "    </tr>\n",
       "    <tr>\n",
       "      <th>3</th>\n",
       "      <td>23.68</td>\n",
       "      <td>3.31</td>\n",
       "      <td>Male</td>\n",
       "      <td>No</td>\n",
       "      <td>Sun</td>\n",
       "      <td>Dinner</td>\n",
       "      <td>2</td>\n",
       "    </tr>\n",
       "    <tr>\n",
       "      <th>4</th>\n",
       "      <td>24.59</td>\n",
       "      <td>3.61</td>\n",
       "      <td>Female</td>\n",
       "      <td>No</td>\n",
       "      <td>Sun</td>\n",
       "      <td>Dinner</td>\n",
       "      <td>4</td>\n",
       "    </tr>\n",
       "  </tbody>\n",
       "</table>\n",
       "</div>"
      ],
      "text/plain": [
       "   total_bill   tip  gender smoker  day    time  size\n",
       "0       16.99  1.01  Female     No  Sun  Dinner     2\n",
       "1       10.34  1.66    Male     No  Sun  Dinner     3\n",
       "2       21.01  3.50    Male     No  Sun  Dinner     3\n",
       "3       23.68  3.31    Male     No  Sun  Dinner     2\n",
       "4       24.59  3.61  Female     No  Sun  Dinner     4"
      ]
     },
     "execution_count": 15,
     "metadata": {},
     "output_type": "execute_result"
    }
   ],
   "source": [
    "# Display the first few rows of the dataframe to begin the analysis and understand the data structure\n",
    "restaurant.head()       # Shows the first 5 rows of the dataframe, providing an initial overview of the data for analysis"
   ]
  },
  {
   "cell_type": "code",
   "execution_count": 16,
   "id": "ba5ad6bc-d382-429b-8b18-61b8553df255",
   "metadata": {
    "tags": []
   },
   "outputs": [
    {
     "data": {
      "text/plain": [
       "4814.77"
      ]
     },
     "execution_count": 16,
     "metadata": {},
     "output_type": "execute_result"
    }
   ],
   "source": [
    "# 1. Calculate the total sum of the 'total_bill' column to assess the overall bill amount\n",
    "restaurant['total_bill'].sum()        # Returns the sum of all values in the 'total_bill', providing the total bill amount"
   ]
  },
  {
   "cell_type": "code",
   "execution_count": 17,
   "id": "61671b5c-9fcb-4c2e-af87-9dde0de6713a",
   "metadata": {
    "tags": []
   },
   "outputs": [
    {
     "data": {
      "text/plain": [
       "729.58"
      ]
     },
     "execution_count": 17,
     "metadata": {},
     "output_type": "execute_result"
    }
   ],
   "source": [
    "# 2. Calculate the total sum of the 'tip' column and round the result to two decimal places for precision\n",
    "restaurant['tip'].sum().round(2)           # Returns the sum of all values in the 'tip' column, rounded to two decimal places"
   ]
  },
  {
   "cell_type": "code",
   "execution_count": 18,
   "id": "d90f2dd7-ebfa-4f46-b698-1d4911a7a0b2",
   "metadata": {
    "tags": []
   },
   "outputs": [
    {
     "data": {
      "text/plain": [
       "50.81"
      ]
     },
     "execution_count": 18,
     "metadata": {},
     "output_type": "execute_result"
    }
   ],
   "source": [
    "# 3. Find the maximum value in the 'total_bill' column to identify the highest bill amount\n",
    "restaurant['total_bill'].max()          # Returns the maximum value from the 'total_bill' column, representing the highest bill amount"
   ]
  },
  {
   "cell_type": "code",
   "execution_count": 19,
   "id": "2c7f3b56-2c41-48ac-bebb-b3ab106bc607",
   "metadata": {
    "tags": []
   },
   "outputs": [
    {
     "data": {
      "text/plain": [
       "3.07"
      ]
     },
     "execution_count": 19,
     "metadata": {},
     "output_type": "execute_result"
    }
   ],
   "source": [
    "# 4. Find the minimum value in the 'total_bill' column to identify the lowest bill amount\n",
    "restaurant['total_bill'].min()            # Returns the minimum value from the 'total_bill' column, representing the lowest bill amount"
   ]
  },
  {
   "cell_type": "code",
   "execution_count": 20,
   "id": "1cf87a3b-0675-4639-9022-4785b5a1b43c",
   "metadata": {
    "tags": []
   },
   "outputs": [
    {
     "data": {
      "text/plain": [
       "10.0"
      ]
     },
     "execution_count": 20,
     "metadata": {},
     "output_type": "execute_result"
    }
   ],
   "source": [
    "# 5. Find the maximum value in the 'tip' column to identify the highest tip amount\n",
    "restaurant['tip'].max()         # Returns the maximum value from the 'tip' column, representing the highest tip amount"
   ]
  },
  {
   "cell_type": "code",
   "execution_count": 21,
   "id": "54bc3350-fc13-4033-9735-daca5107a12b",
   "metadata": {
    "tags": []
   },
   "outputs": [
    {
     "data": {
      "text/plain": [
       "1.0"
      ]
     },
     "execution_count": 21,
     "metadata": {},
     "output_type": "execute_result"
    }
   ],
   "source": [
    "# 6. Find the minimum value in the 'tip' column to identify the lowest tip amount\n",
    "restaurant['tip'].min()          # Returns the minimum value from the 'tip' column, representing the lowest tip amount"
   ]
  },
  {
   "cell_type": "code",
   "execution_count": 22,
   "id": "b9b22302-3d76-483e-9107-1bb2f3ef7a30",
   "metadata": {
    "tags": []
   },
   "outputs": [
    {
     "data": {
      "text/html": [
       "<div>\n",
       "<style scoped>\n",
       "    .dataframe tbody tr th:only-of-type {\n",
       "        vertical-align: middle;\n",
       "    }\n",
       "\n",
       "    .dataframe tbody tr th {\n",
       "        vertical-align: top;\n",
       "    }\n",
       "\n",
       "    .dataframe thead th {\n",
       "        text-align: right;\n",
       "    }\n",
       "</style>\n",
       "<table border=\"1\" class=\"dataframe\">\n",
       "  <thead>\n",
       "    <tr style=\"text-align: right;\">\n",
       "      <th></th>\n",
       "      <th>total_bill</th>\n",
       "      <th>tip</th>\n",
       "    </tr>\n",
       "  </thead>\n",
       "  <tbody>\n",
       "    <tr>\n",
       "      <th>total_bill</th>\n",
       "      <td>1.000000</td>\n",
       "      <td>0.674998</td>\n",
       "    </tr>\n",
       "    <tr>\n",
       "      <th>tip</th>\n",
       "      <td>0.674998</td>\n",
       "      <td>1.000000</td>\n",
       "    </tr>\n",
       "  </tbody>\n",
       "</table>\n",
       "</div>"
      ],
      "text/plain": [
       "            total_bill       tip\n",
       "total_bill    1.000000  0.674998\n",
       "tip           0.674998  1.000000"
      ]
     },
     "execution_count": 22,
     "metadata": {},
     "output_type": "execute_result"
    }
   ],
   "source": [
    "# 7. find the correlation between the values in the 'total_bill' and 'tip' columns to examine their relationship\n",
    "restaurant[['total_bill','tip']].corr()  # Returns the correlation coefficient between the 'total_bill' and 'tip' columns, indicating the strength and direction of their relationship"
   ]
  },
  {
   "cell_type": "code",
   "execution_count": 23,
   "id": "5fb7c2ed-dac3-461b-b28d-ea678deb8a23",
   "metadata": {
    "tags": []
   },
   "outputs": [
    {
     "data": {
      "text/plain": [
       "gender\n",
       "Female    1557.95\n",
       "Male      3256.82\n",
       "Name: total_bill, dtype: float64"
      ]
     },
     "execution_count": 23,
     "metadata": {},
     "output_type": "execute_result"
    }
   ],
   "source": [
    "# 8. Group the data by the 'gender' and calculate the total bill amount for each group\n",
    "restaurant.groupby(by='gender').total_bill.sum()     # Returns the total sum of 'total_bill' column for each category in the 'gender' column, representing the overall bill amount for each group"
   ]
  },
  {
   "cell_type": "code",
   "execution_count": 24,
   "id": "0579e1af-b4da-4cc4-a56b-932a069d169c",
   "metadata": {
    "tags": []
   },
   "outputs": [
    {
     "data": {
      "text/plain": [
       "gender\n",
       "Female    244.51\n",
       "Male      485.07\n",
       "Name: tip, dtype: float64"
      ]
     },
     "execution_count": 24,
     "metadata": {},
     "output_type": "execute_result"
    }
   ],
   "source": [
    "# 9. Goup the data by the 'gender' column and calculate the total tip amount for each group\n",
    "restaurant.groupby(by='gender').tip.sum()      # Returns the total sum of 'tip' column for each category in the 'gender' column, representing the overall tip amount for each group"
   ]
  },
  {
   "cell_type": "code",
   "execution_count": 25,
   "id": "096ede13-f489-4ec0-809b-38446912805b",
   "metadata": {
    "tags": []
   },
   "outputs": [
    {
     "data": {
      "text/html": [
       "<div>\n",
       "<style scoped>\n",
       "    .dataframe tbody tr th:only-of-type {\n",
       "        vertical-align: middle;\n",
       "    }\n",
       "\n",
       "    .dataframe tbody tr th {\n",
       "        vertical-align: top;\n",
       "    }\n",
       "\n",
       "    .dataframe thead th {\n",
       "        text-align: right;\n",
       "    }\n",
       "</style>\n",
       "<table border=\"1\" class=\"dataframe\">\n",
       "  <thead>\n",
       "    <tr style=\"text-align: right;\">\n",
       "      <th></th>\n",
       "      <th>tip</th>\n",
       "      <th>total_bill</th>\n",
       "    </tr>\n",
       "    <tr>\n",
       "      <th>gender</th>\n",
       "      <th></th>\n",
       "      <th></th>\n",
       "    </tr>\n",
       "  </thead>\n",
       "  <tbody>\n",
       "    <tr>\n",
       "      <th>Female</th>\n",
       "      <td>244.51</td>\n",
       "      <td>1557.95</td>\n",
       "    </tr>\n",
       "    <tr>\n",
       "      <th>Male</th>\n",
       "      <td>485.07</td>\n",
       "      <td>3256.82</td>\n",
       "    </tr>\n",
       "  </tbody>\n",
       "</table>\n",
       "</div>"
      ],
      "text/plain": [
       "           tip  total_bill\n",
       "gender                    \n",
       "Female  244.51     1557.95\n",
       "Male    485.07     3256.82"
      ]
     },
     "execution_count": 25,
     "metadata": {},
     "output_type": "execute_result"
    }
   ],
   "source": [
    "# Create a pivot table to calculate the total sum of 'total_bill' and 'tip' column grouped by 'gender' column\n",
    "restaurant.pivot_table(index='gender',values=['total_bill','tip'],aggfunc='sum')     # Returns a pivot table with the total sum of 'total_bill' and 'tip' column for each category in the 'gender' column"
   ]
  },
  {
   "cell_type": "code",
   "execution_count": 26,
   "id": "b82ee281-e078-4562-8cb8-25feb0a51201",
   "metadata": {
    "tags": []
   },
   "outputs": [
    {
     "data": {
      "text/plain": [
       "day\n",
       "Fri      325.88\n",
       "Sat     1778.40\n",
       "Sun     1627.16\n",
       "Thur    1083.33\n",
       "Name: total_bill, dtype: float64"
      ]
     },
     "execution_count": 26,
     "metadata": {},
     "output_type": "execute_result"
    }
   ],
   "source": [
    "# 10. Group the data by the 'day' column and calculate the total bill amount for each day\n",
    "restaurant.groupby(by='day').total_bill.sum()      # Returns the total sum of 'total_bill' column for each day in the 'day' column, representing the overall bill amount for each day"
   ]
  },
  {
   "cell_type": "code",
   "execution_count": 27,
   "id": "8ce61448-b316-45f6-b29a-7b3049fb0ee0",
   "metadata": {
    "tags": []
   },
   "outputs": [
    {
     "data": {
      "text/plain": [
       "day\n",
       "Fri      51.96\n",
       "Sat     260.40\n",
       "Sun     247.39\n",
       "Thur    169.83\n",
       "Name: tip, dtype: float64"
      ]
     },
     "execution_count": 27,
     "metadata": {},
     "output_type": "execute_result"
    }
   ],
   "source": [
    "# 11. Group the data by the 'day' column and calculate the total tip amount for each day\n",
    "restaurant.groupby(by='day').tip.sum()  # Returns the total sum of 'tip' column for each day in the 'day' column, representing the overall tip amount for each day"
   ]
  },
  {
   "cell_type": "code",
   "execution_count": 28,
   "id": "20acf700-0dc1-43c0-ae33-4f091283cbae",
   "metadata": {
    "tags": []
   },
   "outputs": [
    {
     "data": {
      "text/html": [
       "<div>\n",
       "<style scoped>\n",
       "    .dataframe tbody tr th:only-of-type {\n",
       "        vertical-align: middle;\n",
       "    }\n",
       "\n",
       "    .dataframe tbody tr th {\n",
       "        vertical-align: top;\n",
       "    }\n",
       "\n",
       "    .dataframe thead th {\n",
       "        text-align: right;\n",
       "    }\n",
       "</style>\n",
       "<table border=\"1\" class=\"dataframe\">\n",
       "  <thead>\n",
       "    <tr style=\"text-align: right;\">\n",
       "      <th></th>\n",
       "      <th>tip</th>\n",
       "      <th>total_bill</th>\n",
       "    </tr>\n",
       "    <tr>\n",
       "      <th>day</th>\n",
       "      <th></th>\n",
       "      <th></th>\n",
       "    </tr>\n",
       "  </thead>\n",
       "  <tbody>\n",
       "    <tr>\n",
       "      <th>Fri</th>\n",
       "      <td>51.96</td>\n",
       "      <td>325.88</td>\n",
       "    </tr>\n",
       "    <tr>\n",
       "      <th>Sat</th>\n",
       "      <td>260.40</td>\n",
       "      <td>1778.40</td>\n",
       "    </tr>\n",
       "    <tr>\n",
       "      <th>Sun</th>\n",
       "      <td>247.39</td>\n",
       "      <td>1627.16</td>\n",
       "    </tr>\n",
       "    <tr>\n",
       "      <th>Thur</th>\n",
       "      <td>169.83</td>\n",
       "      <td>1083.33</td>\n",
       "    </tr>\n",
       "  </tbody>\n",
       "</table>\n",
       "</div>"
      ],
      "text/plain": [
       "         tip  total_bill\n",
       "day                     \n",
       "Fri    51.96      325.88\n",
       "Sat   260.40     1778.40\n",
       "Sun   247.39     1627.16\n",
       "Thur  169.83     1083.33"
      ]
     },
     "execution_count": 28,
     "metadata": {},
     "output_type": "execute_result"
    }
   ],
   "source": [
    "# Create a pivot table to calculate the total sum of 'total_bill' and 'tip' column grouped by 'day' column\n",
    "restaurant.pivot_table(index='day',values=['total_bill','tip'],aggfunc='sum')     # Returns a pivot table with the total sum of 'total_bill' and 'tip' column for each day in the 'day' column"
   ]
  },
  {
   "cell_type": "code",
   "execution_count": 29,
   "id": "c9d3c0b2-b894-41bc-83cd-9018615585a6",
   "metadata": {
    "tags": []
   },
   "outputs": [
    {
     "data": {
      "text/plain": [
       "time\n",
       "Dinner    3660.30\n",
       "Lunch     1154.47\n",
       "Name: total_bill, dtype: float64"
      ]
     },
     "execution_count": 29,
     "metadata": {},
     "output_type": "execute_result"
    }
   ],
   "source": [
    "# 12. Group the data by the 'time' column and calculate the total bill amount for each time period\n",
    "restaurant.groupby(by='time').total_bill.sum()      # Returns the total sum of 'total_bill' column for each time period in the 'time' column, representing the overall bill amount for each time period"
   ]
  },
  {
   "cell_type": "code",
   "execution_count": 30,
   "id": "7810cb2c-d607-4b0a-8d4b-f5b03379655e",
   "metadata": {
    "tags": []
   },
   "outputs": [
    {
     "data": {
      "text/plain": [
       "time\n",
       "Dinner    546.07\n",
       "Lunch     183.51\n",
       "Name: tip, dtype: float64"
      ]
     },
     "execution_count": 30,
     "metadata": {},
     "output_type": "execute_result"
    }
   ],
   "source": [
    "# 13. Group the data by the 'time' column and calculate the total tip amount for each time period\n",
    "restaurant.groupby(by='time').tip.sum()  # Returns the total sum of 'tip' column for each time period in the 'time' column, representing the overall tip amount for each time period"
   ]
  },
  {
   "cell_type": "code",
   "execution_count": 31,
   "id": "0047a63e-66e7-4b75-8e83-a7d4fc7bcae1",
   "metadata": {
    "tags": []
   },
   "outputs": [
    {
     "data": {
      "text/html": [
       "<div>\n",
       "<style scoped>\n",
       "    .dataframe tbody tr th:only-of-type {\n",
       "        vertical-align: middle;\n",
       "    }\n",
       "\n",
       "    .dataframe tbody tr th {\n",
       "        vertical-align: top;\n",
       "    }\n",
       "\n",
       "    .dataframe thead th {\n",
       "        text-align: right;\n",
       "    }\n",
       "</style>\n",
       "<table border=\"1\" class=\"dataframe\">\n",
       "  <thead>\n",
       "    <tr style=\"text-align: right;\">\n",
       "      <th></th>\n",
       "      <th>tip</th>\n",
       "      <th>total_bill</th>\n",
       "    </tr>\n",
       "    <tr>\n",
       "      <th>time</th>\n",
       "      <th></th>\n",
       "      <th></th>\n",
       "    </tr>\n",
       "  </thead>\n",
       "  <tbody>\n",
       "    <tr>\n",
       "      <th>Dinner</th>\n",
       "      <td>546.07</td>\n",
       "      <td>3660.30</td>\n",
       "    </tr>\n",
       "    <tr>\n",
       "      <th>Lunch</th>\n",
       "      <td>183.51</td>\n",
       "      <td>1154.47</td>\n",
       "    </tr>\n",
       "  </tbody>\n",
       "</table>\n",
       "</div>"
      ],
      "text/plain": [
       "           tip  total_bill\n",
       "time                      \n",
       "Dinner  546.07     3660.30\n",
       "Lunch   183.51     1154.47"
      ]
     },
     "execution_count": 31,
     "metadata": {},
     "output_type": "execute_result"
    }
   ],
   "source": [
    "# Create a pivot table to calculate the total sum of 'total_bill' and 'tip' column grouped by 'time' column\n",
    "restaurant.pivot_table(index='time',values=['total_bill','tip'],aggfunc='sum')      # Returns a pivot table with the total sum of 'total_bill' and 'tip' column for each time period in the 'time' column"
   ]
  },
  {
   "cell_type": "code",
   "execution_count": 32,
   "id": "f188bf8b-ea13-4c21-813c-d1838a6068d1",
   "metadata": {
    "tags": []
   },
   "outputs": [
    {
     "data": {
      "text/html": [
       "<div>\n",
       "<style scoped>\n",
       "    .dataframe tbody tr th:only-of-type {\n",
       "        vertical-align: middle;\n",
       "    }\n",
       "\n",
       "    .dataframe tbody tr th {\n",
       "        vertical-align: top;\n",
       "    }\n",
       "\n",
       "    .dataframe thead th {\n",
       "        text-align: right;\n",
       "    }\n",
       "</style>\n",
       "<table border=\"1\" class=\"dataframe\">\n",
       "  <thead>\n",
       "    <tr style=\"text-align: right;\">\n",
       "      <th></th>\n",
       "      <th>total_bill</th>\n",
       "      <th>tip</th>\n",
       "      <th>size</th>\n",
       "    </tr>\n",
       "  </thead>\n",
       "  <tbody>\n",
       "    <tr>\n",
       "      <th>count</th>\n",
       "      <td>243.000000</td>\n",
       "      <td>243.000000</td>\n",
       "      <td>243.000000</td>\n",
       "    </tr>\n",
       "    <tr>\n",
       "      <th>mean</th>\n",
       "      <td>19.813868</td>\n",
       "      <td>3.002387</td>\n",
       "      <td>2.572016</td>\n",
       "    </tr>\n",
       "    <tr>\n",
       "      <th>std</th>\n",
       "      <td>8.910071</td>\n",
       "      <td>1.385002</td>\n",
       "      <td>0.952356</td>\n",
       "    </tr>\n",
       "    <tr>\n",
       "      <th>min</th>\n",
       "      <td>3.070000</td>\n",
       "      <td>1.000000</td>\n",
       "      <td>1.000000</td>\n",
       "    </tr>\n",
       "    <tr>\n",
       "      <th>25%</th>\n",
       "      <td>13.380000</td>\n",
       "      <td>2.000000</td>\n",
       "      <td>2.000000</td>\n",
       "    </tr>\n",
       "    <tr>\n",
       "      <th>50%</th>\n",
       "      <td>17.810000</td>\n",
       "      <td>2.920000</td>\n",
       "      <td>2.000000</td>\n",
       "    </tr>\n",
       "    <tr>\n",
       "      <th>75%</th>\n",
       "      <td>24.175000</td>\n",
       "      <td>3.575000</td>\n",
       "      <td>3.000000</td>\n",
       "    </tr>\n",
       "    <tr>\n",
       "      <th>max</th>\n",
       "      <td>50.810000</td>\n",
       "      <td>10.000000</td>\n",
       "      <td>6.000000</td>\n",
       "    </tr>\n",
       "  </tbody>\n",
       "</table>\n",
       "</div>"
      ],
      "text/plain": [
       "       total_bill         tip        size\n",
       "count  243.000000  243.000000  243.000000\n",
       "mean    19.813868    3.002387    2.572016\n",
       "std      8.910071    1.385002    0.952356\n",
       "min      3.070000    1.000000    1.000000\n",
       "25%     13.380000    2.000000    2.000000\n",
       "50%     17.810000    2.920000    2.000000\n",
       "75%     24.175000    3.575000    3.000000\n",
       "max     50.810000   10.000000    6.000000"
      ]
     },
     "execution_count": 32,
     "metadata": {},
     "output_type": "execute_result"
    }
   ],
   "source": [
    "# 14. Generate descriptive statistics for all numerical columns in the dataframe\n",
    "restaurant.describe()     # Returns a summary of statistics, including count, mean, standard deviation, min, max, and quartiles for each numerical column in the dataframe"
   ]
  },
  {
   "cell_type": "markdown",
   "id": "9d018b01-6005-442b-b050-6fde3e9fd7b4",
   "metadata": {},
   "source": [
    "#### The 'size' column is categorical; however, due to its numerical values, statistics for this column are also displayed by pandas. \n"
   ]
  },
  {
   "cell_type": "code",
   "execution_count": 33,
   "id": "261bd5e1-48a6-49a8-8b33-99f51d666122",
   "metadata": {
    "tags": []
   },
   "outputs": [
    {
     "data": {
      "text/plain": [
       "array([2, 3, 4, 1, 6, 5], dtype=int64)"
      ]
     },
     "execution_count": 33,
     "metadata": {},
     "output_type": "execute_result"
    }
   ],
   "source": [
    "# Retrieve the unique values in the 'size' column to identify all distinct categories or values in this column\n",
    "restaurant['size'].unique()        # Returns an array of unique values present in the 'size' column"
   ]
  },
  {
   "cell_type": "markdown",
   "id": "9aa87848-48b4-4dbc-8be2-2720b337a24f",
   "metadata": {},
   "source": [
    "#### The data type of 'size' column needs to be converted from int64 to object."
   ]
  },
  {
   "cell_type": "code",
   "execution_count": 34,
   "id": "40d7112a-cd62-4746-b8fa-7c03d0826d80",
   "metadata": {
    "tags": []
   },
   "outputs": [
    {
     "data": {
      "text/plain": [
       "total_bill    float64\n",
       "tip           float64\n",
       "gender         object\n",
       "smoker         object\n",
       "day            object\n",
       "time           object\n",
       "size           object\n",
       "dtype: object"
      ]
     },
     "execution_count": 34,
     "metadata": {},
     "output_type": "execute_result"
    }
   ],
   "source": [
    "# 15. Convert the data type of 'size' column from its current type to 'object' to treat it as a categorical variable\n",
    "restaurant=restaurant.astype({'size':object})      # Changes the data type of 'size' column to 'object', ensuring it is treated as a categorical variable\n",
    "\n",
    "# Display the data types of all columns in the dataframe to verify the changes\n",
    "restaurant.dtypes        # Returns the data types of all columns in the dataframe, allowing verification of the 'size' column type change"
   ]
  },
  {
   "cell_type": "code",
   "execution_count": 35,
   "id": "9a955117-08bb-4090-ab7c-6fa82c1cc321",
   "metadata": {
    "tags": []
   },
   "outputs": [
    {
     "data": {
      "text/html": [
       "<div>\n",
       "<style scoped>\n",
       "    .dataframe tbody tr th:only-of-type {\n",
       "        vertical-align: middle;\n",
       "    }\n",
       "\n",
       "    .dataframe tbody tr th {\n",
       "        vertical-align: top;\n",
       "    }\n",
       "\n",
       "    .dataframe thead th {\n",
       "        text-align: right;\n",
       "    }\n",
       "</style>\n",
       "<table border=\"1\" class=\"dataframe\">\n",
       "  <thead>\n",
       "    <tr style=\"text-align: right;\">\n",
       "      <th></th>\n",
       "      <th>total_bill</th>\n",
       "      <th>tip</th>\n",
       "    </tr>\n",
       "  </thead>\n",
       "  <tbody>\n",
       "    <tr>\n",
       "      <th>count</th>\n",
       "      <td>243.000000</td>\n",
       "      <td>243.000000</td>\n",
       "    </tr>\n",
       "    <tr>\n",
       "      <th>mean</th>\n",
       "      <td>19.813868</td>\n",
       "      <td>3.002387</td>\n",
       "    </tr>\n",
       "    <tr>\n",
       "      <th>std</th>\n",
       "      <td>8.910071</td>\n",
       "      <td>1.385002</td>\n",
       "    </tr>\n",
       "    <tr>\n",
       "      <th>min</th>\n",
       "      <td>3.070000</td>\n",
       "      <td>1.000000</td>\n",
       "    </tr>\n",
       "    <tr>\n",
       "      <th>25%</th>\n",
       "      <td>13.380000</td>\n",
       "      <td>2.000000</td>\n",
       "    </tr>\n",
       "    <tr>\n",
       "      <th>50%</th>\n",
       "      <td>17.810000</td>\n",
       "      <td>2.920000</td>\n",
       "    </tr>\n",
       "    <tr>\n",
       "      <th>75%</th>\n",
       "      <td>24.175000</td>\n",
       "      <td>3.575000</td>\n",
       "    </tr>\n",
       "    <tr>\n",
       "      <th>max</th>\n",
       "      <td>50.810000</td>\n",
       "      <td>10.000000</td>\n",
       "    </tr>\n",
       "  </tbody>\n",
       "</table>\n",
       "</div>"
      ],
      "text/plain": [
       "       total_bill         tip\n",
       "count  243.000000  243.000000\n",
       "mean    19.813868    3.002387\n",
       "std      8.910071    1.385002\n",
       "min      3.070000    1.000000\n",
       "25%     13.380000    2.000000\n",
       "50%     17.810000    2.920000\n",
       "75%     24.175000    3.575000\n",
       "max     50.810000   10.000000"
      ]
     },
     "execution_count": 35,
     "metadata": {},
     "output_type": "execute_result"
    }
   ],
   "source": [
    "# 16. Generate descriptive statistics for all numerical columns in the dataframe after changing the data type of 'size' column\n",
    "restaurant.describe()       # Returns a summary of statistics, including count, mean, standard deviation, min, max, and quartiles for all numerical columns in the dataframe, excluding 'size' column which is now treated as a categorical variable"
   ]
  },
  {
   "cell_type": "code",
   "execution_count": 36,
   "id": "0b7fa117-d6aa-4f09-b2cb-c17e48ea07ae",
   "metadata": {
    "tags": []
   },
   "outputs": [
    {
     "data": {
      "text/plain": [
       "39"
      ]
     },
     "execution_count": 36,
     "metadata": {},
     "output_type": "execute_result"
    }
   ],
   "source": [
    "# 17. Filter the dataframe for rows where the 'gender' is 'Male' and 'total_bill' is greater than 25, then count the number of such rows\n",
    "restaurant[(restaurant.gender=='Male') & (restaurant.total_bill>25)].value_counts().sum()    # Returns the total count of rows where 'gender' is 'Male' and 'total_bill' exceeds 25, showing the number of qualifying entries"
   ]
  },
  {
   "cell_type": "code",
   "execution_count": 37,
   "id": "fe54e9a7-538a-440d-a048-8436464e1e1c",
   "metadata": {
    "tags": []
   },
   "outputs": [
    {
     "data": {
      "text/plain": [
       "28"
      ]
     },
     "execution_count": 37,
     "metadata": {},
     "output_type": "execute_result"
    }
   ],
   "source": [
    "# 18. Filter the dataframe for rows where the 'gender' is 'Female', 'time' is 'Dinner', and 'day' is 'Sat', then count the number of such rows\n",
    "restaurant[(restaurant.gender=='Female') & (restaurant.time=='Dinner') & (restaurant.day=='Sat')].value_counts().sum()\n",
    "# Returns the total count of rows where 'gender' is 'Female', 'time' is 'Dinner', and 'day' is 'Sat', showing the number of qualifying entries"
   ]
  },
  {
   "cell_type": "markdown",
   "id": "8a2b4090-d007-4ccd-b85e-92b59b191974",
   "metadata": {},
   "source": [
    "#### Visualizations are now used to facilitate the discovery of insights."
   ]
  },
  {
   "cell_type": "code",
   "execution_count": 38,
   "id": "0fbeb215-8cb1-42d1-8ce5-f981af171ef6",
   "metadata": {
    "tags": []
   },
   "outputs": [
    {
     "data": {
      "text/html": [
       "<div>\n",
       "<style scoped>\n",
       "    .dataframe tbody tr th:only-of-type {\n",
       "        vertical-align: middle;\n",
       "    }\n",
       "\n",
       "    .dataframe tbody tr th {\n",
       "        vertical-align: top;\n",
       "    }\n",
       "\n",
       "    .dataframe thead th {\n",
       "        text-align: right;\n",
       "    }\n",
       "</style>\n",
       "<table border=\"1\" class=\"dataframe\">\n",
       "  <thead>\n",
       "    <tr style=\"text-align: right;\">\n",
       "      <th></th>\n",
       "      <th>total_bill</th>\n",
       "      <th>tip</th>\n",
       "      <th>gender</th>\n",
       "      <th>smoker</th>\n",
       "      <th>day</th>\n",
       "      <th>time</th>\n",
       "      <th>size</th>\n",
       "    </tr>\n",
       "  </thead>\n",
       "  <tbody>\n",
       "    <tr>\n",
       "      <th>0</th>\n",
       "      <td>16.99</td>\n",
       "      <td>1.01</td>\n",
       "      <td>Female</td>\n",
       "      <td>No</td>\n",
       "      <td>Sun</td>\n",
       "      <td>Dinner</td>\n",
       "      <td>2</td>\n",
       "    </tr>\n",
       "    <tr>\n",
       "      <th>1</th>\n",
       "      <td>10.34</td>\n",
       "      <td>1.66</td>\n",
       "      <td>Male</td>\n",
       "      <td>No</td>\n",
       "      <td>Sun</td>\n",
       "      <td>Dinner</td>\n",
       "      <td>3</td>\n",
       "    </tr>\n",
       "    <tr>\n",
       "      <th>2</th>\n",
       "      <td>21.01</td>\n",
       "      <td>3.50</td>\n",
       "      <td>Male</td>\n",
       "      <td>No</td>\n",
       "      <td>Sun</td>\n",
       "      <td>Dinner</td>\n",
       "      <td>3</td>\n",
       "    </tr>\n",
       "    <tr>\n",
       "      <th>3</th>\n",
       "      <td>23.68</td>\n",
       "      <td>3.31</td>\n",
       "      <td>Male</td>\n",
       "      <td>No</td>\n",
       "      <td>Sun</td>\n",
       "      <td>Dinner</td>\n",
       "      <td>2</td>\n",
       "    </tr>\n",
       "    <tr>\n",
       "      <th>4</th>\n",
       "      <td>24.59</td>\n",
       "      <td>3.61</td>\n",
       "      <td>Female</td>\n",
       "      <td>No</td>\n",
       "      <td>Sun</td>\n",
       "      <td>Dinner</td>\n",
       "      <td>4</td>\n",
       "    </tr>\n",
       "  </tbody>\n",
       "</table>\n",
       "</div>"
      ],
      "text/plain": [
       "   total_bill   tip  gender smoker  day    time size\n",
       "0       16.99  1.01  Female     No  Sun  Dinner    2\n",
       "1       10.34  1.66    Male     No  Sun  Dinner    3\n",
       "2       21.01  3.50    Male     No  Sun  Dinner    3\n",
       "3       23.68  3.31    Male     No  Sun  Dinner    2\n",
       "4       24.59  3.61  Female     No  Sun  Dinner    4"
      ]
     },
     "execution_count": 38,
     "metadata": {},
     "output_type": "execute_result"
    }
   ],
   "source": [
    "# Display the first few rows of the dataframe to get an overview of the data before visualizing\n",
    "restaurant.head()      # Returns the first five rows of the dataframe, providing a snapshot of the data for initial inspection prior to visualization"
   ]
  },
  {
   "cell_type": "code",
   "execution_count": 39,
   "id": "f77cbcbb-8e27-431b-8a1c-fa960b6bd926",
   "metadata": {
    "tags": []
   },
   "outputs": [
    {
     "data": {
      "image/png": "[encoded data removed]",
      "text/plain": [
       "<Figure size 640x480 with 1 Axes>"
      ]
     },
     "metadata": {},
     "output_type": "display_data"
    }
   ],
   "source": [
    "# 1. Create a bar chart to visualize the distribution of 'gender' values, with custom colors for the bars and edges\n",
    "plt.bar(x=restaurant.gender.value_counts().index,height=restaurant.gender.value_counts().values,edgecolor='red',color='yellow')    # Plots a bar chart showing the count of each unique value in the 'gender' column with yellow bars and red edges\n",
    "plt.show()     # Displays the bar chart for visual analysis"
   ]
  },
  {
   "cell_type": "code",
   "execution_count": 40,
   "id": "299fedea-1d92-4f2d-9082-5b1654653efa",
   "metadata": {
    "tags": []
   },
   "outputs": [
    {
     "data": {
      "image/png": "[encoded data removed]",
      "text/plain": [
       "<Figure size 640x480 with 1 Axes>"
      ]
     },
     "metadata": {},
     "output_type": "display_data"
    }
   ],
   "source": [
    "# Create a count plot to visualize the distribution of values in the 'gender' column\n",
    "sns.countplot(x=restaurant.gender)      # Plots a count plot showing the frequency of each unique value in the 'gender' column\n",
    "plt.show()       # Displays the count plot for visual analysis"
   ]
  },
  {
   "cell_type": "code",
   "execution_count": 41,
   "id": "7037ed54-2e10-41fa-9b10-fe29f424e67b",
   "metadata": {
    "tags": []
   },
   "outputs": [
    {
     "data": {
      "image/png": "[encoded data removed]",
      "text/plain": [
       "<Figure size 640x480 with 1 Axes>"
      ]
     },
     "metadata": {},
     "output_type": "display_data"
    }
   ],
   "source": [
    "# 2. Create a scatter plot to visualize the relationship between 'total_bill' and 'tip' columns\n",
    "sns.scatterplot(x=restaurant.total_bill,y=restaurant.tip)    # Plots a scatter plot to show the correlation between the 'total_bill' and 'tip' values\n",
    "plt.show()      # Displays the scatter plot for visual analysis"
   ]
  },
  {
   "cell_type": "code",
   "execution_count": 42,
   "id": "34855bcd-e15b-4a90-86d8-1b76038deb1a",
   "metadata": {
    "tags": []
   },
   "outputs": [
    {
     "data": {
      "image/png": "[encoded data removed]",
      "text/plain": [
       "<Figure size 640x480 with 1 Axes>"
      ]
     },
     "metadata": {},
     "output_type": "display_data"
    }
   ],
   "source": [
    " # 3. Create a scatter plot to visualize the relationship between 'total_bill' and 'tip', with data points colored by 'gender'\n",
    "sns.scatterplot(x=restaurant.total_bill,y=restaurant.tip,hue=restaurant.gender)     # Plots a scatter plot showing the correlation between 'total_bill' and 'tip', with points colored by the 'gender' column\n",
    "plt.show()     # Displays the scatter plot for visual analysis"
   ]
  },
  {
   "cell_type": "code",
   "execution_count": 43,
   "id": "599996c8-6b83-4b0c-aefc-ab446cfbdcd4",
   "metadata": {
    "tags": []
   },
   "outputs": [
    {
     "data": {
      "text/html": [
       "<div>\n",
       "<style scoped>\n",
       "    .dataframe tbody tr th:only-of-type {\n",
       "        vertical-align: middle;\n",
       "    }\n",
       "\n",
       "    .dataframe tbody tr th {\n",
       "        vertical-align: top;\n",
       "    }\n",
       "\n",
       "    .dataframe thead th {\n",
       "        text-align: right;\n",
       "    }\n",
       "</style>\n",
       "<table border=\"1\" class=\"dataframe\">\n",
       "  <thead>\n",
       "    <tr style=\"text-align: right;\">\n",
       "      <th></th>\n",
       "      <th>total_bill</th>\n",
       "      <th>tip</th>\n",
       "      <th>gender</th>\n",
       "      <th>smoker</th>\n",
       "      <th>day</th>\n",
       "      <th>time</th>\n",
       "      <th>size</th>\n",
       "    </tr>\n",
       "  </thead>\n",
       "  <tbody>\n",
       "    <tr>\n",
       "      <th>172</th>\n",
       "      <td>7.25</td>\n",
       "      <td>5.15</td>\n",
       "      <td>Male</td>\n",
       "      <td>Yes</td>\n",
       "      <td>Sun</td>\n",
       "      <td>Dinner</td>\n",
       "      <td>2</td>\n",
       "    </tr>\n",
       "  </tbody>\n",
       "</table>\n",
       "</div>"
      ],
      "text/plain": [
       "     total_bill   tip gender smoker  day    time size\n",
       "172        7.25  5.15   Male    Yes  Sun  Dinner    2"
      ]
     },
     "execution_count": 43,
     "metadata": {},
     "output_type": "execute_result"
    }
   ],
   "source": [
    "# Filter the dataframe to find customers who paid a bill of less than 10 but gave a tip greater than 5\n",
    "restaurant[(restaurant.total_bill<10) & (restaurant.tip>5)]      # Returns rows where the 'total_bill' is less than 10 and the 'tip' is greater than 5, identifying customers with a high tip relative to their bill"
   ]
  },
  {
   "cell_type": "code",
   "execution_count": 44,
   "id": "75cf067b-1d3f-4c17-943f-c45198b41a56",
   "metadata": {
    "tags": []
   },
   "outputs": [
    {
     "data": {
      "text/plain": [
       "<Axes: xlabel='total_bill'>"
      ]
     },
     "execution_count": 44,
     "metadata": {},
     "output_type": "execute_result"
    },
    {
     "data": {
      "image/png": "[encoded data removed]",
      "text/plain": [
       "<Figure size 640x480 with 1 Axes>"
      ]
     },
     "metadata": {},
     "output_type": "display_data"
    }
   ],
   "source": [
    "# 4. Create a box plot to visualize the distribution and detect outliers in the 'total_bill' column\n",
    "sns.boxplot(x=restaurant.total_bill)    # Plots a box plot to show the distribution, median, and potential outliers in the 'total_bill' column"
   ]
  },
  {
   "cell_type": "code",
   "execution_count": 45,
   "id": "fd1f7c71-15c7-4f51-a753-04a0a5313939",
   "metadata": {
    "tags": []
   },
   "outputs": [
    {
     "data": {
      "text/plain": [
       "10"
      ]
     },
     "execution_count": 45,
     "metadata": {},
     "output_type": "execute_result"
    }
   ],
   "source": [
    "# Filter the dataframe to find customers who paid more than 40 for their bill and count the number of such entries\n",
    "restaurant[restaurant.total_bill>40].value_counts().sum()    # Returns the total count of rows where the 'total_bill' exceeds 40, identifying the number of customers with a bill greater than 40"
   ]
  },
  {
   "cell_type": "code",
   "execution_count": 46,
   "id": "bca26f92-8ae6-4fac-9218-4ea08169789e",
   "metadata": {
    "tags": []
   },
   "outputs": [
    {
     "data": {
      "image/png": "[encoded data removed]",
      "text/plain": [
       "<Figure size 640x480 with 1 Axes>"
      ]
     },
     "metadata": {},
     "output_type": "display_data"
    }
   ],
   "source": [
    "# 5. Create a pie chart to visualize the distribution of 'gender' values as percentages\n",
    "plt.pie(x=restaurant.gender.value_counts().values,labels=restaurant.gender.value_counts().index,autopct='%.2f%%')    # Plots a pie chart showing the percentage distribution of each 'gender' category, with labels and percentage values displayed\n",
    "plt.show()     # Displays the pie chart for visual analysis"
   ]
  },
  {
   "cell_type": "code",
   "execution_count": 47,
   "id": "3ec970c5-9050-42bc-89c0-72c5623bfba8",
   "metadata": {
    "tags": []
   },
   "outputs": [
    {
     "data": {
      "image/png": "[encoded data removed]",
      "text/plain": [
       "<Figure size 640x480 with 1 Axes>"
      ]
     },
     "metadata": {},
     "output_type": "display_data"
    }
   ],
   "source": [
    "# 6. Create a pie chart to visualize the distribution of 'day' values as percentages\n",
    "plt.pie(x=restaurant.day.value_counts().values,labels=restaurant.day.value_counts().index,autopct='%.2f%%')     # Plots a pie chart showing the percentage distribution of each 'day' category, with labels and percentage values displayed\n",
    "plt.show()     # Displays the pie chart for visual analysis"
   ]
  },
  {
   "cell_type": "code",
   "execution_count": 48,
   "id": "99ec9380-0129-4324-a283-86fe4fd0c1c6",
   "metadata": {
    "tags": []
   },
   "outputs": [
    {
     "data": {
      "image/png": "[encoded data removed]",
      "text/plain": [
       "<Figure size 640x480 with 1 Axes>"
      ]
     },
     "metadata": {},
     "output_type": "display_data"
    }
   ],
   "source": [
    "# 7. Create a count plot to visualize the distribution of 'day' values, grouped by 'gender'\n",
    "sns.countplot(x=restaurant.day,hue=restaurant.gender)    # Plots a count plot showing the frequency of each 'day' category, with different colors representing the 'gender' groups\n",
    "plt.show()       # Displays the count plot for visual analysis"
   ]
  },
  {
   "cell_type": "code",
   "execution_count": 49,
   "id": "8167f8f0-5faf-42b5-97c0-8e7346d3ba2d",
   "metadata": {
    "tags": []
   },
   "outputs": [
    {
     "data": {
      "image/png": "[encoded data removed]",
      "text/plain": [
       "<Figure size 640x480 with 1 Axes>"
      ]
     },
     "metadata": {},
     "output_type": "display_data"
    }
   ],
   "source": [
    "# 8. Create a count plot to visualize the distribution of 'day' values, grouped by 'time'\n",
    "sns.countplot(x=restaurant.day,hue=restaurant.time)       # Plots a count plot showing the frequency of each 'day' category, with different colors representing the 'time' (e.g., lunch or dinner) groups\n",
    "plt.show()       # Displays the count plot for visual analysis"
   ]
  },
  {
   "cell_type": "markdown",
   "id": "de82dbaa-4969-489d-bec9-8e5607a76176",
   "metadata": {},
   "source": [
    "## Final Conclusion of the Analysis:\n",
    "1. Customers do not typically visit for lunch on Saturdays and Sundays, and very few dine for dinner on Thursdays.\n",
    "2. The majority of customers are male, with a male-to-female ratio of approximately 2:1.\n",
    "3. A positive correlation exists between the total bill and tip. However, there are instances where customers with a higher bill may leave a lower tip, and vice versa."
   ]
  },
  {
   "cell_type": "code",
   "execution_count": null,
   "id": "65b81086-50e3-42a2-aac2-b536b5bf4fc4",
   "metadata": {},
   "outputs": [],
   "source": []
  },
  {
   "cell_type": "code",
   "execution_count": null,
   "id": "a3e6d9c2-f334-470f-8d08-0f74f585d4ab",
   "metadata": {},
   "outputs": [],
   "source": []
  }
 ],
 "metadata": {
  "kernelspec": {
   "display_name": "Python 3 (ipykernel)",
   "language": "python",
   "name": "python3"
  },
  "language_info": {
   "codemirror_mode": {
    "name": "ipython",
    "version": 3
   },
   "file_extension": ".py",
   "mimetype": "text/x-python",
   "name": "python",
   "nbconvert_exporter": "python",
   "pygments_lexer": "ipython3",
   "version": "3.12.6"
  }
 },
 "nbformat": 4,
 "nbformat_minor": 5
}
