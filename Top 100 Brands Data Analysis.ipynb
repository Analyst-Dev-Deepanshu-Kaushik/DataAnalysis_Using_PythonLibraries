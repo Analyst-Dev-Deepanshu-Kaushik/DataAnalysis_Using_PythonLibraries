{
 "cells": [
  {
   "cell_type": "markdown",
   "id": "a5331def-27f0-4792-a442-13c865117ecd",
   "metadata": {},
   "source": [
    "## <span style=\"color:brown;\"><center> Data Analysis of the World's Top 100 Brands Using Python Libraries </center></span>"
   ]
  },
  {
   "cell_type": "code",
   "execution_count": 1,
   "id": "2558db80-19ec-41b5-9d89-432763071cb7",
   "metadata": {
    "tags": []
   },
   "outputs": [],
   "source": [
    "# Importing essential libraries for data analysis, visualization, and plotting\n",
    "import numpy as np        # Numerical operations and array handling\n",
    "import pandas as pd        # Data manipulation and analysis\n",
    "import matplotlib.pyplot as plt        # Plotting and data visualization\n",
    "import seaborn as sns        # Advanced statistical data visualization"
   ]
  },
  {
   "cell_type": "markdown",
   "id": "628f4b5d-95e3-44ea-b97a-b7a432843a3c",
   "metadata": {},
   "source": [
    "#### Load the Dataset"
   ]
  },
  {
   "cell_type": "code",
   "execution_count": 2,
   "id": "f8d4b971-2e40-423b-92cc-c2f64bf4c9da",
   "metadata": {
    "tags": []
   },
   "outputs": [
    {
     "data": {
      "text/html": [
       "<div>\n",
       "<style scoped>\n",
       "    .dataframe tbody tr th:only-of-type {\n",
       "        vertical-align: middle;\n",
       "    }\n",
       "\n",
       "    .dataframe tbody tr th {\n",
       "        vertical-align: top;\n",
       "    }\n",
       "\n",
       "    .dataframe thead th {\n",
       "        text-align: right;\n",
       "    }\n",
       "</style>\n",
       "<table border=\"1\" class=\"dataframe\">\n",
       "  <thead>\n",
       "    <tr style=\"text-align: right;\">\n",
       "      <th></th>\n",
       "      <th>Brand</th>\n",
       "      <th>Founded By/How it was founded</th>\n",
       "      <th>Founded In</th>\n",
       "      <th>Country</th>\n",
       "      <th>Key People</th>\n",
       "      <th>Genre/Industry</th>\n",
       "      <th>Website</th>\n",
       "      <th>Rank in 2022</th>\n",
       "      <th>Rank in 2021</th>\n",
       "      <th>Brand Value ($M) in 2022</th>\n",
       "      <th>Brand Value ($M) in 2021</th>\n",
       "      <th>% Change</th>\n",
       "      <th>Rating in 2022</th>\n",
       "      <th>Rating in 2021</th>\n",
       "    </tr>\n",
       "  </thead>\n",
       "  <tbody>\n",
       "    <tr>\n",
       "      <th>0</th>\n",
       "      <td>Apple</td>\n",
       "      <td>Steve Jobs, Steve Wozniak,Ronald Wayne</td>\n",
       "      <td>1976</td>\n",
       "      <td>United States</td>\n",
       "      <td>Tim Cook(CEO)</td>\n",
       "      <td>Consumer electronics, Software Service, Online...</td>\n",
       "      <td>https://www.apple.com/</td>\n",
       "      <td>1</td>\n",
       "      <td>1</td>\n",
       "      <td>355079.97</td>\n",
       "      <td>263374.70</td>\n",
       "      <td>35%</td>\n",
       "      <td>AAA</td>\n",
       "      <td>AAA</td>\n",
       "    </tr>\n",
       "    <tr>\n",
       "      <th>1</th>\n",
       "      <td>Amazon</td>\n",
       "      <td>Jeff Bezos</td>\n",
       "      <td>1994</td>\n",
       "      <td>United States</td>\n",
       "      <td>Andy Jassy(CEO)</td>\n",
       "      <td>E-Commerce, Cloud Computing, Artificial Intell...</td>\n",
       "      <td>https://www.amazon.com/</td>\n",
       "      <td>2</td>\n",
       "      <td>2</td>\n",
       "      <td>350273.25</td>\n",
       "      <td>254187.58</td>\n",
       "      <td>38%</td>\n",
       "      <td>AAA+</td>\n",
       "      <td>AAA+</td>\n",
       "    </tr>\n",
       "    <tr>\n",
       "      <th>2</th>\n",
       "      <td>Google</td>\n",
       "      <td>Larry Page, Sergey Brin</td>\n",
       "      <td>1998</td>\n",
       "      <td>United States</td>\n",
       "      <td>Sundar Pichai(CEO)</td>\n",
       "      <td>Artificial Intelligence, Advertising, Cloud Co...</td>\n",
       "      <td>https://www.google.com/</td>\n",
       "      <td>3</td>\n",
       "      <td>3</td>\n",
       "      <td>263424.93</td>\n",
       "      <td>191214.84</td>\n",
       "      <td>38%</td>\n",
       "      <td>AAA+</td>\n",
       "      <td>AAA</td>\n",
       "    </tr>\n",
       "    <tr>\n",
       "      <th>3</th>\n",
       "      <td>Microsoft</td>\n",
       "      <td>Bill Gates, Paul Allen</td>\n",
       "      <td>1975</td>\n",
       "      <td>United States</td>\n",
       "      <td>Satya Nadella(CEO)</td>\n",
       "      <td>Information Technology</td>\n",
       "      <td>https://www.microsoft.com/</td>\n",
       "      <td>4</td>\n",
       "      <td>4</td>\n",
       "      <td>184244.52</td>\n",
       "      <td>140435.35</td>\n",
       "      <td>31%</td>\n",
       "      <td>AAA</td>\n",
       "      <td>AAA</td>\n",
       "    </tr>\n",
       "    <tr>\n",
       "      <th>4</th>\n",
       "      <td>Walmart</td>\n",
       "      <td>Sam Walton</td>\n",
       "      <td>1962</td>\n",
       "      <td>United States</td>\n",
       "      <td>Doug McMillon(CEO)</td>\n",
       "      <td>Retail</td>\n",
       "      <td>https://www.walmart.com/</td>\n",
       "      <td>5</td>\n",
       "      <td>6</td>\n",
       "      <td>111918.32</td>\n",
       "      <td>93185.28</td>\n",
       "      <td>20%</td>\n",
       "      <td>AAA-</td>\n",
       "      <td>AA+</td>\n",
       "    </tr>\n",
       "    <tr>\n",
       "      <th>...</th>\n",
       "      <td>...</td>\n",
       "      <td>...</td>\n",
       "      <td>...</td>\n",
       "      <td>...</td>\n",
       "      <td>...</td>\n",
       "      <td>...</td>\n",
       "      <td>...</td>\n",
       "      <td>...</td>\n",
       "      <td>...</td>\n",
       "      <td>...</td>\n",
       "      <td>...</td>\n",
       "      <td>...</td>\n",
       "      <td>...</td>\n",
       "      <td>...</td>\n",
       "    </tr>\n",
       "    <tr>\n",
       "      <th>95</th>\n",
       "      <td>CRCC</td>\n",
       "      <td>Formerly an arm of People's Liberation Army, t...</td>\n",
       "      <td>1948</td>\n",
       "      <td>China</td>\n",
       "      <td>Fengchao Meng(Chairman)</td>\n",
       "      <td>Construction</td>\n",
       "      <td>https://www.crcc.cn/</td>\n",
       "      <td>96</td>\n",
       "      <td>112</td>\n",
       "      <td>19687.30</td>\n",
       "      <td>15910.79</td>\n",
       "      <td>24%</td>\n",
       "      <td>AA+</td>\n",
       "      <td>AA-</td>\n",
       "    </tr>\n",
       "    <tr>\n",
       "      <th>96</th>\n",
       "      <td>Walgreens</td>\n",
       "      <td>Charles Rudolph Walgreen</td>\n",
       "      <td>1901</td>\n",
       "      <td>United States</td>\n",
       "      <td>Rosalind Brewer(CEO)</td>\n",
       "      <td>Retail</td>\n",
       "      <td>http://walgreens.com/</td>\n",
       "      <td>97</td>\n",
       "      <td>108</td>\n",
       "      <td>19685.87</td>\n",
       "      <td>16096.58</td>\n",
       "      <td>22%</td>\n",
       "      <td>AA+</td>\n",
       "      <td>AA</td>\n",
       "    </tr>\n",
       "    <tr>\n",
       "      <th>97</th>\n",
       "      <td>Vodafone</td>\n",
       "      <td>Ernest Harrison, Gerry Whent</td>\n",
       "      <td>1991</td>\n",
       "      <td>United Kingdom</td>\n",
       "      <td>Nick Read(CEO)</td>\n",
       "      <td>Telecommunications</td>\n",
       "      <td>http://www.vodafone.com/</td>\n",
       "      <td>98</td>\n",
       "      <td>89</td>\n",
       "      <td>19506.03</td>\n",
       "      <td>19252.35</td>\n",
       "      <td>1%</td>\n",
       "      <td>AA</td>\n",
       "      <td>AA+</td>\n",
       "    </tr>\n",
       "    <tr>\n",
       "      <th>98</th>\n",
       "      <td>Aldi</td>\n",
       "      <td>Karl, Theo Albrecht</td>\n",
       "      <td>1946</td>\n",
       "      <td>Germany</td>\n",
       "      <td>Torsten Hufnagel(CEO of Aldi Nord)\\nGiles Hurl...</td>\n",
       "      <td>Retail</td>\n",
       "      <td>http://aldi.com/</td>\n",
       "      <td>99</td>\n",
       "      <td>118</td>\n",
       "      <td>19236.62</td>\n",
       "      <td>15487.07</td>\n",
       "      <td>24%</td>\n",
       "      <td>AAA-</td>\n",
       "      <td>AAA-</td>\n",
       "    </tr>\n",
       "    <tr>\n",
       "      <th>99</th>\n",
       "      <td>RBC</td>\n",
       "      <td>The Merchants Bank of Halifax, found in 1864 a...</td>\n",
       "      <td>1864</td>\n",
       "      <td>Canada</td>\n",
       "      <td>David I. McKay(President and CEO)</td>\n",
       "      <td>Financial Services</td>\n",
       "      <td>http://rbc.com/</td>\n",
       "      <td>100</td>\n",
       "      <td>114</td>\n",
       "      <td>19039.81</td>\n",
       "      <td>15817.97</td>\n",
       "      <td>20%</td>\n",
       "      <td>AAA-</td>\n",
       "      <td>AAA</td>\n",
       "    </tr>\n",
       "  </tbody>\n",
       "</table>\n",
       "<p>100 rows × 14 columns</p>\n",
       "</div>"
      ],
      "text/plain": [
       "        Brand                      Founded By/How it was founded  Founded In  \\\n",
       "0       Apple             Steve Jobs, Steve Wozniak,Ronald Wayne        1976   \n",
       "1      Amazon                                         Jeff Bezos        1994   \n",
       "2      Google                            Larry Page, Sergey Brin        1998   \n",
       "3   Microsoft                             Bill Gates, Paul Allen        1975   \n",
       "4     Walmart                                         Sam Walton        1962   \n",
       "..        ...                                                ...         ...   \n",
       "95       CRCC  Formerly an arm of People's Liberation Army, t...        1948   \n",
       "96  Walgreens                           Charles Rudolph Walgreen        1901   \n",
       "97   Vodafone                       Ernest Harrison, Gerry Whent        1991   \n",
       "98       Aldi                                Karl, Theo Albrecht        1946   \n",
       "99        RBC  The Merchants Bank of Halifax, found in 1864 a...        1864   \n",
       "\n",
       "           Country                                         Key People  \\\n",
       "0    United States                                      Tim Cook(CEO)   \n",
       "1    United States                                    Andy Jassy(CEO)   \n",
       "2    United States                                 Sundar Pichai(CEO)   \n",
       "3    United States                                 Satya Nadella(CEO)   \n",
       "4    United States                                 Doug McMillon(CEO)   \n",
       "..             ...                                                ...   \n",
       "95           China                            Fengchao Meng(Chairman)   \n",
       "96   United States                               Rosalind Brewer(CEO)   \n",
       "97  United Kingdom                                     Nick Read(CEO)   \n",
       "98         Germany  Torsten Hufnagel(CEO of Aldi Nord)\\nGiles Hurl...   \n",
       "99          Canada                  David I. McKay(President and CEO)   \n",
       "\n",
       "                                       Genre/Industry  \\\n",
       "0   Consumer electronics, Software Service, Online...   \n",
       "1   E-Commerce, Cloud Computing, Artificial Intell...   \n",
       "2   Artificial Intelligence, Advertising, Cloud Co...   \n",
       "3                              Information Technology   \n",
       "4                                              Retail   \n",
       "..                                                ...   \n",
       "95                                       Construction   \n",
       "96                                             Retail   \n",
       "97                                 Telecommunications   \n",
       "98                                             Retail   \n",
       "99                                 Financial Services   \n",
       "\n",
       "                       Website  Rank in 2022 Rank in 2021  \\\n",
       "0       https://www.apple.com/             1            1   \n",
       "1      https://www.amazon.com/             2            2   \n",
       "2      https://www.google.com/             3            3   \n",
       "3   https://www.microsoft.com/             4            4   \n",
       "4     https://www.walmart.com/             5            6   \n",
       "..                         ...           ...          ...   \n",
       "95        https://www.crcc.cn/            96          112   \n",
       "96       http://walgreens.com/            97          108   \n",
       "97    http://www.vodafone.com/            98           89   \n",
       "98            http://aldi.com/            99          118   \n",
       "99             http://rbc.com/           100          114   \n",
       "\n",
       "    Brand Value ($M) in 2022  Brand Value ($M) in 2021 % Change  \\\n",
       "0                  355079.97                 263374.70      35%   \n",
       "1                  350273.25                 254187.58      38%   \n",
       "2                  263424.93                 191214.84      38%   \n",
       "3                  184244.52                 140435.35      31%   \n",
       "4                  111918.32                  93185.28      20%   \n",
       "..                       ...                       ...      ...   \n",
       "95                  19687.30                  15910.79      24%   \n",
       "96                  19685.87                  16096.58      22%   \n",
       "97                  19506.03                  19252.35       1%   \n",
       "98                  19236.62                  15487.07      24%   \n",
       "99                  19039.81                  15817.97      20%   \n",
       "\n",
       "   Rating in 2022 Rating in 2021   \n",
       "0             AAA             AAA  \n",
       "1            AAA+            AAA+  \n",
       "2            AAA+             AAA  \n",
       "3             AAA             AAA  \n",
       "4            AAA-             AA+  \n",
       "..            ...             ...  \n",
       "95            AA+             AA-  \n",
       "96            AA+              AA  \n",
       "97             AA             AA+  \n",
       "98           AAA-            AAA-  \n",
       "99           AAA-             AAA  \n",
       "\n",
       "[100 rows x 14 columns]"
      ]
     },
     "execution_count": 2,
     "metadata": {},
     "output_type": "execute_result"
    }
   ],
   "source": [
    "# Loading the 'top_100_brand.csv' dataset into a pandas DataFrame with specified encoding to handle special characters\n",
    "brands=pd.read_csv('top_100_brands.csv',encoding='ISO-8859-1')         # Reads the CSV file and stores it in the 'df' DataFrame\n",
    "brands        # Displays the DataFrame to examine the loaded data"
   ]
  },
  {
   "cell_type": "markdown",
   "id": "634b9d80-4dd0-44ea-89fd-42c844587923",
   "metadata": {},
   "source": [
    "#### Data Exploration and Preprocessing"
   ]
  },
  {
   "cell_type": "code",
   "execution_count": 3,
   "id": "597ddb3a-f7ac-4997-9ab3-4f02f0cf947d",
   "metadata": {
    "tags": []
   },
   "outputs": [
    {
     "data": {
      "text/plain": [
       "(100, 14)"
      ]
     },
     "execution_count": 3,
     "metadata": {},
     "output_type": "execute_result"
    }
   ],
   "source": [
    "# Displaying the dimensions (rows and columns) of the dataset to understand its structure\n",
    "brands.shape     # Returns the number of rows and columns in the DataFrame"
   ]
  },
  {
   "cell_type": "code",
   "execution_count": 4,
   "id": "e5f93f78-7f69-40d5-b472-15fdd62cdd90",
   "metadata": {
    "tags": []
   },
   "outputs": [
    {
     "data": {
      "text/plain": [
       "Index(['Brand', 'Founded By/How it was founded', 'Founded In', 'Country',\n",
       "       'Key People', 'Genre/Industry', 'Website', 'Rank in 2022',\n",
       "       'Rank in 2021', 'Brand Value ($M) in 2022', 'Brand Value ($M) in 2021',\n",
       "       '% Change', 'Rating in 2022', 'Rating in 2021 '],\n",
       "      dtype='object')"
      ]
     },
     "execution_count": 4,
     "metadata": {},
     "output_type": "execute_result"
    }
   ],
   "source": [
    "# Displaying the column names of the dataset to understand its features\n",
    "brands.columns     # Returns the list of column names in the DataFrame"
   ]
  },
  {
   "cell_type": "code",
   "execution_count": 5,
   "id": "0ff26b2f-f5da-4844-8b56-28031e728840",
   "metadata": {
    "tags": []
   },
   "outputs": [
    {
     "name": "stdout",
     "output_type": "stream",
     "text": [
      "<class 'pandas.core.frame.DataFrame'>\n",
      "RangeIndex: 100 entries, 0 to 99\n",
      "Data columns (total 14 columns):\n",
      " #   Column                         Non-Null Count  Dtype  \n",
      "---  ------                         --------------  -----  \n",
      " 0   Brand                          100 non-null    object \n",
      " 1   Founded By/How it was founded  100 non-null    object \n",
      " 2   Founded In                     100 non-null    int64  \n",
      " 3   Country                        100 non-null    object \n",
      " 4   Key People                     100 non-null    object \n",
      " 5   Genre/Industry                 100 non-null    object \n",
      " 6   Website                        100 non-null    object \n",
      " 7   Rank in 2022                   100 non-null    int64  \n",
      " 8   Rank in 2021                   100 non-null    object \n",
      " 9   Brand Value ($M) in 2022       100 non-null    float64\n",
      " 10  Brand Value ($M) in 2021       100 non-null    float64\n",
      " 11  % Change                       100 non-null    object \n",
      " 12  Rating in 2022                 100 non-null    object \n",
      " 13  Rating in 2021                 100 non-null    object \n",
      "dtypes: float64(2), int64(2), object(10)\n",
      "memory usage: 11.1+ KB\n"
     ]
    }
   ],
   "source": [
    "# Displaying the summary information of the dataset, including data types and missing values\n",
    "brands.info()      # Provides an overview of the DataFrame, including the number of non-null entries and data types for each column"
   ]
  },
  {
   "cell_type": "code",
   "execution_count": 6,
   "id": "9f04aaa4-cee6-4b0d-8705-33f5e3b1c43a",
   "metadata": {
    "tags": []
   },
   "outputs": [
    {
     "name": "stdout",
     "output_type": "stream",
     "text": [
      "<class 'pandas.core.frame.DataFrame'>\n",
      "RangeIndex: 100 entries, 0 to 99\n",
      "Data columns (total 14 columns):\n",
      " #   Column                         Non-Null Count  Dtype  \n",
      "---  ------                         --------------  -----  \n",
      " 0   Brand                          100 non-null    object \n",
      " 1   Founded By/How it was founded  100 non-null    object \n",
      " 2   Founded In                     100 non-null    object \n",
      " 3   Country                        100 non-null    object \n",
      " 4   Key People                     100 non-null    object \n",
      " 5   Genre/Industry                 100 non-null    object \n",
      " 6   Website                        100 non-null    object \n",
      " 7   Rank in 2022                   100 non-null    object \n",
      " 8   Rank in 2021                   100 non-null    object \n",
      " 9   Brand Value ($M) in 2022       100 non-null    float64\n",
      " 10  Brand Value ($M) in 2021       100 non-null    float64\n",
      " 11  % Change                       100 non-null    object \n",
      " 12  Rating in 2022                 100 non-null    object \n",
      " 13  Rating in 2021                 100 non-null    object \n",
      "dtypes: float64(2), object(12)\n",
      "memory usage: 11.1+ KB\n"
     ]
    }
   ],
   "source": [
    "# Converting the 'Founded In' and 'Rank in 2022' columns to the 'object' data type for consistent data handling\n",
    "brands=brands.astype({\"Founded In\":\"object\"})       # Changes 'Founded In' column to object type (string)\n",
    "brands=brands.astype({'Rank in 2022':\"object\"})      # Changes 'Rank in 2022' column to object type (string)\n",
    "brands.info()       # Displays the updated data types and non-null counts for all columns in the DataFrame"
   ]
  },
  {
   "cell_type": "code",
   "execution_count": 7,
   "id": "7a9c4ec6-07fa-4e15-b24a-ac5431001558",
   "metadata": {
    "tags": []
   },
   "outputs": [
    {
     "data": {
      "text/plain": [
       "Brand                            100\n",
       "Founded By/How it was founded     99\n",
       "Founded In                        76\n",
       "Country                           14\n",
       "Key People                        97\n",
       "Genre/Industry                    54\n",
       "Website                          100\n",
       "Rank in 2022                     100\n",
       "Rank in 2021                      99\n",
       "Brand Value ($M) in 2022         100\n",
       "Brand Value ($M) in 2021         100\n",
       "% Change                          50\n",
       "Rating in 2022                     7\n",
       "Rating in 2021                     8\n",
       "dtype: int64"
      ]
     },
     "execution_count": 7,
     "metadata": {},
     "output_type": "execute_result"
    }
   ],
   "source": [
    "# Calculating the number of unique values for each column in the dataset to understand data variability\n",
    "brands.nunique()     # Returns the count of unique values for each column in the DataFrame"
   ]
  },
  {
   "cell_type": "code",
   "execution_count": 8,
   "id": "9122f45c-8af9-476f-b90b-436e73712acd",
   "metadata": {
    "tags": []
   },
   "outputs": [
    {
     "data": {
      "text/plain": [
       "Brand                            0\n",
       "Founded By/How it was founded    0\n",
       "Founded In                       0\n",
       "Country                          0\n",
       "Key People                       0\n",
       "Genre/Industry                   0\n",
       "Website                          0\n",
       "Rank in 2022                     0\n",
       "Rank in 2021                     0\n",
       "Brand Value ($M) in 2022         0\n",
       "Brand Value ($M) in 2021         0\n",
       "% Change                         0\n",
       "Rating in 2022                   0\n",
       "Rating in 2021                   0\n",
       "dtype: int64"
      ]
     },
     "execution_count": 8,
     "metadata": {},
     "output_type": "execute_result"
    }
   ],
   "source": [
    "# Checking for missing values in the dataset by summing the null entries for each column\n",
    "brands.isnull().sum()        # Returns the total number of missing (null) values for each column in the DataFrame"
   ]
  },
  {
   "cell_type": "code",
   "execution_count": 9,
   "id": "7f2977fd-1f65-4d71-a597-7494ce38ae81",
   "metadata": {
    "tags": []
   },
   "outputs": [
    {
     "data": {
      "text/plain": [
       "array(['AAA', 'AAA+', 'AAA-', 'AA+', 'AA', 'AA-', 'A+'], dtype=object)"
      ]
     },
     "execution_count": 9,
     "metadata": {},
     "output_type": "execute_result"
    }
   ],
   "source": [
    "# Displaying the unique values in the 'Rating in 2022' column to understand its distribution\n",
    "brands['Rating in 2022'].unique()       # Returns an array of unique ratings present in the 'Rating in 2022' column"
   ]
  },
  {
   "cell_type": "code",
   "execution_count": 10,
   "id": "8f2f349a-4a04-4bec-aded-17a925df500f",
   "metadata": {
    "tags": []
   },
   "outputs": [
    {
     "data": {
      "text/plain": [
       "Brand                             object\n",
       "Founded By/How it was founded     object\n",
       "Founded In                        object\n",
       "Country                           object\n",
       "Key People                        object\n",
       "Genre/Industry                    object\n",
       "Website                           object\n",
       "Rank in 2022                      object\n",
       "Rank in 2021                      object\n",
       "Brand Value ($M) in 2022         float64\n",
       "Brand Value ($M) in 2021         float64\n",
       "% Change                          object\n",
       "Rating in 2022                    object\n",
       "Rating in 2021                    object\n",
       "dtype: object"
      ]
     },
     "execution_count": 10,
     "metadata": {},
     "output_type": "execute_result"
    }
   ],
   "source": [
    "# Displaying the data types of each column to assess the structure and ensure proper data types for analysis\n",
    "brands.dtypes      # Returns the data type of each column in the DataFrame"
   ]
  },
  {
   "cell_type": "code",
   "execution_count": 11,
   "id": "6927e5fe-768a-4449-a185-3f462e93c1b0",
   "metadata": {
    "tags": []
   },
   "outputs": [
    {
     "data": {
      "text/html": [
       "<div>\n",
       "<style scoped>\n",
       "    .dataframe tbody tr th:only-of-type {\n",
       "        vertical-align: middle;\n",
       "    }\n",
       "\n",
       "    .dataframe tbody tr th {\n",
       "        vertical-align: top;\n",
       "    }\n",
       "\n",
       "    .dataframe thead th {\n",
       "        text-align: right;\n",
       "    }\n",
       "</style>\n",
       "<table border=\"1\" class=\"dataframe\">\n",
       "  <thead>\n",
       "    <tr style=\"text-align: right;\">\n",
       "      <th></th>\n",
       "      <th>Brand</th>\n",
       "      <th>Founded By/How it was founded</th>\n",
       "      <th>Founded In</th>\n",
       "      <th>Country</th>\n",
       "      <th>Key People</th>\n",
       "      <th>Genre/Industry</th>\n",
       "      <th>Website</th>\n",
       "      <th>Rank in 2022</th>\n",
       "      <th>Rank in 2021</th>\n",
       "      <th>Brand Value ($M) in 2022</th>\n",
       "      <th>Brand Value ($M) in 2021</th>\n",
       "      <th>% Change</th>\n",
       "      <th>Rating in 2022</th>\n",
       "      <th>Rating in 2021</th>\n",
       "    </tr>\n",
       "  </thead>\n",
       "  <tbody>\n",
       "  </tbody>\n",
       "</table>\n",
       "</div>"
      ],
      "text/plain": [
       "Empty DataFrame\n",
       "Columns: [Brand, Founded By/How it was founded, Founded In, Country, Key People, Genre/Industry, Website, Rank in 2022, Rank in 2021, Brand Value ($M) in 2022, Brand Value ($M) in 2021, % Change, Rating in 2022, Rating in 2021 ]\n",
       "Index: []"
      ]
     },
     "execution_count": 11,
     "metadata": {},
     "output_type": "execute_result"
    }
   ],
   "source": [
    "# Identifying and displaying any duplicate rows in the dataset to ensure data integrity\n",
    "brands[brands.duplicated()]        # Returns the rows that are duplicates (excluding the first occurrence) in the DataFrame"
   ]
  },
  {
   "cell_type": "markdown",
   "id": "af6cde86-bd80-4b24-a0c4-bd07c40676e9",
   "metadata": {},
   "source": [
    "#### The dataframe has been cleaned, with duplicates and null values removed, and the analysis phase can now be proceeded with."
   ]
  },
  {
   "cell_type": "markdown",
   "id": "28c43dda-5a96-409f-852b-9b9115c3af09",
   "metadata": {},
   "source": [
    "#### Perform Data Analysis"
   ]
  },
  {
   "cell_type": "code",
   "execution_count": 12,
   "id": "d27dd2de-cfb7-4d15-8863-1126eeae126b",
   "metadata": {
    "tags": []
   },
   "outputs": [
    {
     "data": {
      "text/plain": [
       "4759873.68"
      ]
     },
     "execution_count": 12,
     "metadata": {},
     "output_type": "execute_result"
    }
   ],
   "source": [
    "# Calculating the total brand value in millions for 2022 and rounding the result to two decimal places\n",
    "brands['Brand Value ($M) in 2022'].sum().round(2)      # Sums the 'Brand Value ($M) in 2022' column and rounds the total to 2 decimal places"
   ]
  },
  {
   "cell_type": "code",
   "execution_count": 13,
   "id": "6e908660-21ac-470d-85fe-e1b5febb0e89",
   "metadata": {
    "tags": []
   },
   "outputs": [
    {
     "data": {
      "text/plain": [
       "4104898.91"
      ]
     },
     "execution_count": 13,
     "metadata": {},
     "output_type": "execute_result"
    }
   ],
   "source": [
    "# Calculating the total brand value in millions for 2021 and rounding the result to two decimal places\n",
    "brands['Brand Value ($M) in 2021'].sum().round(2)        # Sums the 'Brand Value ($M) in 2021' column and rounds the total to 2 decimal places"
   ]
  },
  {
   "cell_type": "code",
   "execution_count": 14,
   "id": "ee1d9992-b783-43f1-a740-a06c9fbc9652",
   "metadata": {
    "tags": []
   },
   "outputs": [
    {
     "data": {
      "text/html": [
       "<div>\n",
       "<style scoped>\n",
       "    .dataframe tbody tr th:only-of-type {\n",
       "        vertical-align: middle;\n",
       "    }\n",
       "\n",
       "    .dataframe tbody tr th {\n",
       "        vertical-align: top;\n",
       "    }\n",
       "\n",
       "    .dataframe thead th {\n",
       "        text-align: right;\n",
       "    }\n",
       "</style>\n",
       "<table border=\"1\" class=\"dataframe\">\n",
       "  <thead>\n",
       "    <tr style=\"text-align: right;\">\n",
       "      <th></th>\n",
       "      <th>Brand Value ($M) in 2022</th>\n",
       "      <th>Brand Value ($M) in 2021</th>\n",
       "    </tr>\n",
       "  </thead>\n",
       "  <tbody>\n",
       "    <tr>\n",
       "      <th>count</th>\n",
       "      <td>100.000000</td>\n",
       "      <td>100.000000</td>\n",
       "    </tr>\n",
       "    <tr>\n",
       "      <th>mean</th>\n",
       "      <td>47598.736800</td>\n",
       "      <td>41048.989100</td>\n",
       "    </tr>\n",
       "    <tr>\n",
       "      <th>std</th>\n",
       "      <td>54600.630407</td>\n",
       "      <td>40424.690221</td>\n",
       "    </tr>\n",
       "    <tr>\n",
       "      <th>min</th>\n",
       "      <td>19039.810000</td>\n",
       "      <td>12297.960000</td>\n",
       "    </tr>\n",
       "    <tr>\n",
       "      <th>25%</th>\n",
       "      <td>24291.250000</td>\n",
       "      <td>21388.482500</td>\n",
       "    </tr>\n",
       "    <tr>\n",
       "      <th>50%</th>\n",
       "      <td>32104.380000</td>\n",
       "      <td>29471.930000</td>\n",
       "    </tr>\n",
       "    <tr>\n",
       "      <th>75%</th>\n",
       "      <td>47552.012500</td>\n",
       "      <td>47437.320000</td>\n",
       "    </tr>\n",
       "    <tr>\n",
       "      <th>max</th>\n",
       "      <td>355079.970000</td>\n",
       "      <td>263374.700000</td>\n",
       "    </tr>\n",
       "  </tbody>\n",
       "</table>\n",
       "</div>"
      ],
      "text/plain": [
       "       Brand Value ($M) in 2022  Brand Value ($M) in 2021\n",
       "count                100.000000                100.000000\n",
       "mean               47598.736800              41048.989100\n",
       "std                54600.630407              40424.690221\n",
       "min                19039.810000              12297.960000\n",
       "25%                24291.250000              21388.482500\n",
       "50%                32104.380000              29471.930000\n",
       "75%                47552.012500              47437.320000\n",
       "max               355079.970000             263374.700000"
      ]
     },
     "execution_count": 14,
     "metadata": {},
     "output_type": "execute_result"
    }
   ],
   "source": [
    "# Generating summary statistics for the numerical columns in the dataset, providing insights into their distribution\n",
    "brands.describe()       # Returns summary statistics (count, mean, std, min, 25%, 50%, 75%, max) for all numerical columns in the DataFrame"
   ]
  },
  {
   "cell_type": "code",
   "execution_count": 15,
   "id": "30c8415e-3cf7-47ce-ae23-0f95189d21a6",
   "metadata": {
    "tags": []
   },
   "outputs": [
    {
     "data": {
      "text/plain": [
       "Country\n",
       "United States     46\n",
       "China             23\n",
       "Germany            8\n",
       "Japan              7\n",
       "South Korea        4\n",
       "United Kingdom     4\n",
       "Saudi Arabia       1\n",
       "Ireland            1\n",
       "England            1\n",
       "India              1\n",
       "France             1\n",
       "Switerland         1\n",
       "Taiwan             1\n",
       "Canada             1\n",
       "Name: count, dtype: int64"
      ]
     },
     "execution_count": 15,
     "metadata": {},
     "output_type": "execute_result"
    }
   ],
   "source": [
    "# Counting the occurrences of each unique value in the 'Country' column to understand the distribution of countries in the dataset\n",
    "brands['Country'].value_counts()       # Returns the count of unique values (countries) in the 'Country' column"
   ]
  },
  {
   "cell_type": "markdown",
   "id": "d85e9945-507a-4854-85ac-a50284a2d91f",
   "metadata": {},
   "source": [
    "#### The analysis reveals that the USA has the highest number of companies in the Top 100 Worldwide, followed by China with 23 brands. Additionally, the remaining 12 countries each have fewer than 10 brands represented in the Top 100 list.\n",
    "#### Let’s create a bar plot to visually represent the data."
   ]
  },
  {
   "cell_type": "code",
   "execution_count": 16,
   "id": "fd70d5a5-ffc1-4dc3-b5ad-dfbebdfeaf29",
   "metadata": {
    "tags": []
   },
   "outputs": [
    {
     "data": {
      "image/png": "[encoded data removed]",
      "text/plain": [
       "<Figure size 640x480 with 1 Axes>"
      ]
     },
     "metadata": {},
     "output_type": "display_data"
    }
   ],
   "source": [
    "# Creating a bar plot to visualize the distribution of companies across different countries, with country names on the y-axis and the number of companies on the x-axis\n",
    "brcv=brands['Country'].value_counts().values     # Retrieves the counts of companies for each country\n",
    "brci=brands['Country'].value_counts().index      # Retrieves the country names corresponding to the counts\n",
    "ax=sns.barplot(x=brcv,y=brci,err_kws={'linewidth':0})      # Plots the bar chart with no error bars\n",
    "for i in ax.containers:         # Adding labels to each bar in the bar chart\n",
    "    ax.bar_label(i,)       # Displays the count value on top of each bar"
   ]
  },
  {
   "cell_type": "code",
   "execution_count": 17,
   "id": "f1dc5faa-4e7a-41bc-849f-25facf454905",
   "metadata": {
    "tags": []
   },
   "outputs": [
    {
     "data": {
      "text/plain": [
       "6"
      ]
     },
     "execution_count": 17,
     "metadata": {},
     "output_type": "execute_result"
    }
   ],
   "source": [
    "# Filtering the dataset to include only companies from the United States founded after 2000, and then counting the total number of such companies\n",
    "brands[(brands.Country=='United States') & (brands['Founded In']>2000)].value_counts().sum()    # Returns the total count of companies from the United States founded after 2000"
   ]
  },
  {
   "cell_type": "markdown",
   "id": "d924f43c-17b3-4eea-a21e-a6562374b429",
   "metadata": {},
   "source": [
    "#### It is observed that only 6 US companies or brands have been founded after 2000, out of a total of 46 brands."
   ]
  },
  {
   "cell_type": "markdown",
   "id": "d3f4ea72-e2c8-4f70-988f-33032b93f204",
   "metadata": {},
   "source": [
    "#### Let’s examine the brands that were launched after 2000."
   ]
  },
  {
   "cell_type": "code",
   "execution_count": 18,
   "id": "7cb89323-3f14-4cb6-99ac-373994a4f1d6",
   "metadata": {
    "tags": []
   },
   "outputs": [
    {
     "data": {
      "text/html": [
       "<div>\n",
       "<style scoped>\n",
       "    .dataframe tbody tr th:only-of-type {\n",
       "        vertical-align: middle;\n",
       "    }\n",
       "\n",
       "    .dataframe tbody tr th {\n",
       "        vertical-align: top;\n",
       "    }\n",
       "\n",
       "    .dataframe thead th {\n",
       "        text-align: right;\n",
       "    }\n",
       "</style>\n",
       "<table border=\"1\" class=\"dataframe\">\n",
       "  <thead>\n",
       "    <tr style=\"text-align: right;\">\n",
       "      <th></th>\n",
       "      <th>Brand</th>\n",
       "      <th>Founded By/How it was founded</th>\n",
       "      <th>Founded In</th>\n",
       "      <th>Country</th>\n",
       "      <th>Key People</th>\n",
       "      <th>Genre/Industry</th>\n",
       "      <th>Website</th>\n",
       "      <th>Rank in 2022</th>\n",
       "      <th>Rank in 2021</th>\n",
       "      <th>Brand Value ($M) in 2022</th>\n",
       "      <th>Brand Value ($M) in 2021</th>\n",
       "      <th>% Change</th>\n",
       "      <th>Rating in 2022</th>\n",
       "      <th>Rating in 2021</th>\n",
       "    </tr>\n",
       "  </thead>\n",
       "  <tbody>\n",
       "    <tr>\n",
       "      <th>6</th>\n",
       "      <td>Facebook</td>\n",
       "      <td>Mark Zuckerberg, Eduardo Saverin</td>\n",
       "      <td>2004</td>\n",
       "      <td>United States</td>\n",
       "      <td>Mark Zuckerberg(CEO)</td>\n",
       "      <td>Social Networking Service, Publishing</td>\n",
       "      <td>https://facebook.com/</td>\n",
       "      <td>7</td>\n",
       "      <td>7</td>\n",
       "      <td>101200.52</td>\n",
       "      <td>81476.37</td>\n",
       "      <td>24%</td>\n",
       "      <td>AA+</td>\n",
       "      <td>AA+</td>\n",
       "    </tr>\n",
       "    <tr>\n",
       "      <th>27</th>\n",
       "      <td>Tesla</td>\n",
       "      <td>Martin Eberhard, Marc Tarpenning</td>\n",
       "      <td>2003</td>\n",
       "      <td>United States</td>\n",
       "      <td>Elon Musk(CEO)</td>\n",
       "      <td>Automotive, Renewable energy</td>\n",
       "      <td>https://www.tesla.com/</td>\n",
       "      <td>28</td>\n",
       "      <td>42</td>\n",
       "      <td>46009.69</td>\n",
       "      <td>31985.90</td>\n",
       "      <td>44%</td>\n",
       "      <td>AA+</td>\n",
       "      <td>AA+</td>\n",
       "    </tr>\n",
       "    <tr>\n",
       "      <th>46</th>\n",
       "      <td>Instagram</td>\n",
       "      <td>Kevin Systrom, Mike Krieger</td>\n",
       "      <td>2010</td>\n",
       "      <td>United States</td>\n",
       "      <td>Adam Mosseri(Head Of Instagram)</td>\n",
       "      <td>Video Sharing, Social Networking service</td>\n",
       "      <td>https://instagram.com/</td>\n",
       "      <td>47</td>\n",
       "      <td>63</td>\n",
       "      <td>33483.24</td>\n",
       "      <td>25073.11</td>\n",
       "      <td>34%</td>\n",
       "      <td>AAA+</td>\n",
       "      <td>AAA</td>\n",
       "    </tr>\n",
       "    <tr>\n",
       "      <th>78</th>\n",
       "      <td>YouTube</td>\n",
       "      <td>Chad Hurley, Steve Chen, Jawed Karim</td>\n",
       "      <td>2005</td>\n",
       "      <td>United States</td>\n",
       "      <td>Susan Wojcicki(CEO)</td>\n",
       "      <td>Internet, Video Hosting Service</td>\n",
       "      <td>https://www.youtube.com/</td>\n",
       "      <td>79</td>\n",
       "      <td>102</td>\n",
       "      <td>23891.37</td>\n",
       "      <td>17286.13</td>\n",
       "      <td>38%</td>\n",
       "      <td>AAA+</td>\n",
       "      <td>AAA</td>\n",
       "    </tr>\n",
       "    <tr>\n",
       "      <th>84</th>\n",
       "      <td>Uber</td>\n",
       "      <td>Garrett Camp, Travis Kalanick</td>\n",
       "      <td>2009</td>\n",
       "      <td>United States</td>\n",
       "      <td>Dara Khosrowshahi(CEO)</td>\n",
       "      <td>Transportation, Mobility as a service</td>\n",
       "      <td>https://www.uber.com/</td>\n",
       "      <td>85</td>\n",
       "      <td>82</td>\n",
       "      <td>22819.98</td>\n",
       "      <td>20477.90</td>\n",
       "      <td>11%</td>\n",
       "      <td>AA-</td>\n",
       "      <td>AA-</td>\n",
       "    </tr>\n",
       "    <tr>\n",
       "      <th>86</th>\n",
       "      <td>Dell Technologies</td>\n",
       "      <td>Michael Dell( formed as merger of Dell and EMC...</td>\n",
       "      <td>2016</td>\n",
       "      <td>United States</td>\n",
       "      <td>Michael Dell(Chairman and CEO)</td>\n",
       "      <td>Computer Hardware, Software, Cloud Computing, ...</td>\n",
       "      <td>http://dell.com/</td>\n",
       "      <td>87</td>\n",
       "      <td>94</td>\n",
       "      <td>22220.00</td>\n",
       "      <td>18427.00</td>\n",
       "      <td>21%</td>\n",
       "      <td>AA</td>\n",
       "      <td>AA</td>\n",
       "    </tr>\n",
       "  </tbody>\n",
       "</table>\n",
       "</div>"
      ],
      "text/plain": [
       "                Brand                      Founded By/How it was founded  \\\n",
       "6            Facebook                   Mark Zuckerberg, Eduardo Saverin   \n",
       "27              Tesla                   Martin Eberhard, Marc Tarpenning   \n",
       "46          Instagram                        Kevin Systrom, Mike Krieger   \n",
       "78            YouTube               Chad Hurley, Steve Chen, Jawed Karim   \n",
       "84               Uber                      Garrett Camp, Travis Kalanick   \n",
       "86  Dell Technologies  Michael Dell( formed as merger of Dell and EMC...   \n",
       "\n",
       "   Founded In        Country                       Key People  \\\n",
       "6        2004  United States             Mark Zuckerberg(CEO)   \n",
       "27       2003  United States                   Elon Musk(CEO)   \n",
       "46       2010  United States  Adam Mosseri(Head Of Instagram)   \n",
       "78       2005  United States              Susan Wojcicki(CEO)   \n",
       "84       2009  United States           Dara Khosrowshahi(CEO)   \n",
       "86       2016  United States   Michael Dell(Chairman and CEO)   \n",
       "\n",
       "                                       Genre/Industry  \\\n",
       "6               Social Networking Service, Publishing   \n",
       "27                       Automotive, Renewable energy   \n",
       "46           Video Sharing, Social Networking service   \n",
       "78                    Internet, Video Hosting Service   \n",
       "84              Transportation, Mobility as a service   \n",
       "86  Computer Hardware, Software, Cloud Computing, ...   \n",
       "\n",
       "                     Website Rank in 2022 Rank in 2021  \\\n",
       "6      https://facebook.com/            7            7   \n",
       "27    https://www.tesla.com/           28           42   \n",
       "46    https://instagram.com/           47           63   \n",
       "78  https://www.youtube.com/           79          102   \n",
       "84     https://www.uber.com/           85           82   \n",
       "86          http://dell.com/           87           94   \n",
       "\n",
       "    Brand Value ($M) in 2022  Brand Value ($M) in 2021 % Change  \\\n",
       "6                  101200.52                  81476.37      24%   \n",
       "27                  46009.69                  31985.90      44%   \n",
       "46                  33483.24                  25073.11      34%   \n",
       "78                  23891.37                  17286.13      38%   \n",
       "84                  22819.98                  20477.90      11%   \n",
       "86                  22220.00                  18427.00      21%   \n",
       "\n",
       "   Rating in 2022 Rating in 2021   \n",
       "6             AA+             AA+  \n",
       "27            AA+             AA+  \n",
       "46           AAA+             AAA  \n",
       "78           AAA+             AAA  \n",
       "84            AA-             AA-  \n",
       "86             AA              AA  "
      ]
     },
     "execution_count": 18,
     "metadata": {},
     "output_type": "execute_result"
    }
   ],
   "source": [
    "# Filtering the dataset to include only companies from the United States that were founded after 2000\n",
    "brands[(brands.Country=='United States') & (brands['Founded In']>2000)]     # Returns rows where the company is based in the United States and was founded after 2000"
   ]
  },
  {
   "cell_type": "code",
   "execution_count": 19,
   "id": "968ec63d-2425-469c-a3f6-5cf10043b4cd",
   "metadata": {
    "tags": []
   },
   "outputs": [
    {
     "data": {
      "text/plain": [
       "23"
      ]
     },
     "execution_count": 19,
     "metadata": {},
     "output_type": "execute_result"
    }
   ],
   "source": [
    "# Filtering the dataset to include only companies from the United States founded between 1950 and 2000, and then counting the total number of such companies\n",
    "brands[(brands.Country=='United States') & (brands['Founded In']>1950) & (brands['Founded In']<2000)].value_counts().sum()       # Returns the total count of US companies founded between 1950 and 2000"
   ]
  },
  {
   "cell_type": "code",
   "execution_count": 20,
   "id": "2407f578-9454-423b-bb07-ce44447d6fb6",
   "metadata": {
    "tags": []
   },
   "outputs": [
    {
     "data": {
      "text/plain": [
       "9"
      ]
     },
     "execution_count": 20,
     "metadata": {},
     "output_type": "execute_result"
    }
   ],
   "source": [
    "# Filtering the dataset to include only companies from the United States founded between 1900 and 1950, and then counting the total number of such companies\n",
    "brands[(brands.Country=='United States') & (brands['Founded In']>1900) & (brands['Founded In']<1950)].value_counts().sum()    # Returns the total count of US companies founded between 1900 and 1950"
   ]
  },
  {
   "cell_type": "code",
   "execution_count": 21,
   "id": "6c1af0fe-95a5-4d0a-823f-7c6b235be0fa",
   "metadata": {
    "tags": []
   },
   "outputs": [
    {
     "data": {
      "text/plain": [
       "8"
      ]
     },
     "execution_count": 21,
     "metadata": {},
     "output_type": "execute_result"
    }
   ],
   "source": [
    "# Filtering the dataset to include only companies from the United States that were founded before 1900, and then counting the total number of such companies\n",
    "brands[(brands.Country=='United States') & (brands['Founded In']<1900)].value_counts().sum()       # Returns the total count of US companies founded before 1900"
   ]
  },
  {
   "cell_type": "markdown",
   "id": "3d1402c1-f0d5-4c8b-bcd6-2e21f6898da3",
   "metadata": {},
   "source": [
    "#### Let’s examine the brands that were launched in the United States before 1900."
   ]
  },
  {
   "cell_type": "code",
   "execution_count": 22,
   "id": "17f203d5-63d5-4df7-b9e5-6de6a2e0b7d7",
   "metadata": {
    "tags": []
   },
   "outputs": [
    {
     "data": {
      "text/html": [
       "<div>\n",
       "<style scoped>\n",
       "    .dataframe tbody tr th:only-of-type {\n",
       "        vertical-align: middle;\n",
       "    }\n",
       "\n",
       "    .dataframe tbody tr th {\n",
       "        vertical-align: top;\n",
       "    }\n",
       "\n",
       "    .dataframe thead th {\n",
       "        text-align: right;\n",
       "    }\n",
       "</style>\n",
       "<table border=\"1\" class=\"dataframe\">\n",
       "  <thead>\n",
       "    <tr style=\"text-align: right;\">\n",
       "      <th></th>\n",
       "      <th>Brand</th>\n",
       "      <th>Founded By/How it was founded</th>\n",
       "      <th>Founded In</th>\n",
       "      <th>Country</th>\n",
       "      <th>Key People</th>\n",
       "      <th>Genre/Industry</th>\n",
       "      <th>Website</th>\n",
       "      <th>Rank in 2022</th>\n",
       "      <th>Rank in 2021</th>\n",
       "      <th>Brand Value ($M) in 2022</th>\n",
       "      <th>Brand Value ($M) in 2021</th>\n",
       "      <th>% Change</th>\n",
       "      <th>Rating in 2022</th>\n",
       "      <th>Rating in 2021</th>\n",
       "    </tr>\n",
       "  </thead>\n",
       "  <tbody>\n",
       "    <tr>\n",
       "      <th>25</th>\n",
       "      <td>AT&amp;T</td>\n",
       "      <td>Alexander Graham Bell, Gardiner Greene Hubbard</td>\n",
       "      <td>1885</td>\n",
       "      <td>United States</td>\n",
       "      <td>John Stankey(CEO)</td>\n",
       "      <td>Telecommunications, Technology</td>\n",
       "      <td>https://about.att.com/</td>\n",
       "      <td>26</td>\n",
       "      <td>21</td>\n",
       "      <td>47008.54</td>\n",
       "      <td>51372.34</td>\n",
       "      <td>-8%</td>\n",
       "      <td>AA</td>\n",
       "      <td>AA</td>\n",
       "    </tr>\n",
       "    <tr>\n",
       "      <th>43</th>\n",
       "      <td>Coca-Cola</td>\n",
       "      <td>John Stith Pemberton</td>\n",
       "      <td>1886</td>\n",
       "      <td>United States</td>\n",
       "      <td>James Quincey(CEO of The Coca-Cola Company whi...</td>\n",
       "      <td>Carbonated Soft Drink</td>\n",
       "      <td>https://www.coca-cola.com/</td>\n",
       "      <td>44</td>\n",
       "      <td>39</td>\n",
       "      <td>35379.02</td>\n",
       "      <td>33166.17</td>\n",
       "      <td>7%</td>\n",
       "      <td>AAA+</td>\n",
       "      <td>AAA+</td>\n",
       "    </tr>\n",
       "    <tr>\n",
       "      <th>51</th>\n",
       "      <td>Chase</td>\n",
       "      <td>Subsidiary of JPMorgan Chase. Was known as Cha...</td>\n",
       "      <td>1799</td>\n",
       "      <td>United States</td>\n",
       "      <td>Jamie Dimon(CEO)</td>\n",
       "      <td>Banking</td>\n",
       "      <td>https://www.chase.com/</td>\n",
       "      <td>52</td>\n",
       "      <td>52</td>\n",
       "      <td>30148.31</td>\n",
       "      <td>28849.24</td>\n",
       "      <td>5%</td>\n",
       "      <td>AA</td>\n",
       "      <td>AA+</td>\n",
       "    </tr>\n",
       "    <tr>\n",
       "      <th>52</th>\n",
       "      <td>Wells Fargo</td>\n",
       "      <td>Henry Wells, William Fargo</td>\n",
       "      <td>1852</td>\n",
       "      <td>United States</td>\n",
       "      <td>Charles Scharf(CEO)</td>\n",
       "      <td>Financial services</td>\n",
       "      <td>https://www.wellsfargo.com/</td>\n",
       "      <td>53</td>\n",
       "      <td>44</td>\n",
       "      <td>30054.20</td>\n",
       "      <td>31804.69</td>\n",
       "      <td>-6%</td>\n",
       "      <td>AA</td>\n",
       "      <td>AA+</td>\n",
       "    </tr>\n",
       "    <tr>\n",
       "      <th>57</th>\n",
       "      <td>JP Morgan</td>\n",
       "      <td>J. P. Morgan</td>\n",
       "      <td>1871</td>\n",
       "      <td>United States</td>\n",
       "      <td>Jamie Dimon(CEO)</td>\n",
       "      <td>Investment banking, commercial banking, asset ...</td>\n",
       "      <td>https://www.jpmorgan.com/</td>\n",
       "      <td>58</td>\n",
       "      <td>66</td>\n",
       "      <td>28887.99</td>\n",
       "      <td>23565.13</td>\n",
       "      <td>23%</td>\n",
       "      <td>AAA-</td>\n",
       "      <td>AAA</td>\n",
       "    </tr>\n",
       "    <tr>\n",
       "      <th>62</th>\n",
       "      <td>American Express</td>\n",
       "      <td>Founded as a joint-stock corporation by the me...</td>\n",
       "      <td>1850</td>\n",
       "      <td>United States</td>\n",
       "      <td>Stephen J. Squeri(Chairman and CEO)</td>\n",
       "      <td>Banking, Financial services</td>\n",
       "      <td>https://www.americanexpress.com/</td>\n",
       "      <td>63</td>\n",
       "      <td>67</td>\n",
       "      <td>27247.50</td>\n",
       "      <td>23558.79</td>\n",
       "      <td>16%</td>\n",
       "      <td>AA+</td>\n",
       "      <td>AA+</td>\n",
       "    </tr>\n",
       "    <tr>\n",
       "      <th>91</th>\n",
       "      <td>Pepsi</td>\n",
       "      <td>Caleb Bradham</td>\n",
       "      <td>1893</td>\n",
       "      <td>United States</td>\n",
       "      <td>Ramon Laguarta(CEO of the manufacturing compan...</td>\n",
       "      <td>Cola(carbonated drink)</td>\n",
       "      <td>http://www.pepsi.com/</td>\n",
       "      <td>92</td>\n",
       "      <td>93</td>\n",
       "      <td>20712.25</td>\n",
       "      <td>18455.47</td>\n",
       "      <td>12%</td>\n",
       "      <td>AAA+</td>\n",
       "      <td>AAA</td>\n",
       "    </tr>\n",
       "    <tr>\n",
       "      <th>94</th>\n",
       "      <td>General Electric</td>\n",
       "      <td>Charles A. Coffin, Thomas Edison, J. P. Morgan</td>\n",
       "      <td>1892</td>\n",
       "      <td>United States</td>\n",
       "      <td>H. Lawrence Culp Jr.(Chairman and CEO)</td>\n",
       "      <td>Conglomerate</td>\n",
       "      <td>https://www.ge.com/</td>\n",
       "      <td>95</td>\n",
       "      <td>97</td>\n",
       "      <td>19725.44</td>\n",
       "      <td>18028.43</td>\n",
       "      <td>9%</td>\n",
       "      <td>AA+</td>\n",
       "      <td>AA+</td>\n",
       "    </tr>\n",
       "  </tbody>\n",
       "</table>\n",
       "</div>"
      ],
      "text/plain": [
       "               Brand                      Founded By/How it was founded  \\\n",
       "25              AT&T     Alexander Graham Bell, Gardiner Greene Hubbard   \n",
       "43         Coca-Cola                               John Stith Pemberton   \n",
       "51             Chase  Subsidiary of JPMorgan Chase. Was known as Cha...   \n",
       "52       Wells Fargo                         Henry Wells, William Fargo   \n",
       "57         JP Morgan                                       J. P. Morgan   \n",
       "62  American Express  Founded as a joint-stock corporation by the me...   \n",
       "91             Pepsi                                      Caleb Bradham   \n",
       "94  General Electric     Charles A. Coffin, Thomas Edison, J. P. Morgan   \n",
       "\n",
       "   Founded In        Country  \\\n",
       "25       1885  United States   \n",
       "43       1886  United States   \n",
       "51       1799  United States   \n",
       "52       1852  United States   \n",
       "57       1871  United States   \n",
       "62       1850  United States   \n",
       "91       1893  United States   \n",
       "94       1892  United States   \n",
       "\n",
       "                                           Key People  \\\n",
       "25                                  John Stankey(CEO)   \n",
       "43  James Quincey(CEO of The Coca-Cola Company whi...   \n",
       "51                                   Jamie Dimon(CEO)   \n",
       "52                                Charles Scharf(CEO)   \n",
       "57                                   Jamie Dimon(CEO)   \n",
       "62                Stephen J. Squeri(Chairman and CEO)   \n",
       "91  Ramon Laguarta(CEO of the manufacturing compan...   \n",
       "94             H. Lawrence Culp Jr.(Chairman and CEO)   \n",
       "\n",
       "                                       Genre/Industry  \\\n",
       "25                     Telecommunications, Technology   \n",
       "43                              Carbonated Soft Drink   \n",
       "51                                            Banking   \n",
       "52                                 Financial services   \n",
       "57  Investment banking, commercial banking, asset ...   \n",
       "62                        Banking, Financial services   \n",
       "91                             Cola(carbonated drink)   \n",
       "94                                       Conglomerate   \n",
       "\n",
       "                             Website Rank in 2022 Rank in 2021  \\\n",
       "25            https://about.att.com/           26           21   \n",
       "43        https://www.coca-cola.com/           44           39   \n",
       "51            https://www.chase.com/           52           52   \n",
       "52       https://www.wellsfargo.com/           53           44   \n",
       "57         https://www.jpmorgan.com/           58           66   \n",
       "62  https://www.americanexpress.com/           63           67   \n",
       "91             http://www.pepsi.com/           92           93   \n",
       "94               https://www.ge.com/           95           97   \n",
       "\n",
       "    Brand Value ($M) in 2022  Brand Value ($M) in 2021 % Change  \\\n",
       "25                  47008.54                  51372.34      -8%   \n",
       "43                  35379.02                  33166.17       7%   \n",
       "51                  30148.31                  28849.24       5%   \n",
       "52                  30054.20                  31804.69      -6%   \n",
       "57                  28887.99                  23565.13      23%   \n",
       "62                  27247.50                  23558.79      16%   \n",
       "91                  20712.25                  18455.47      12%   \n",
       "94                  19725.44                  18028.43       9%   \n",
       "\n",
       "   Rating in 2022 Rating in 2021   \n",
       "25             AA              AA  \n",
       "43           AAA+            AAA+  \n",
       "51             AA             AA+  \n",
       "52             AA             AA+  \n",
       "57           AAA-             AAA  \n",
       "62            AA+             AA+  \n",
       "91           AAA+             AAA  \n",
       "94            AA+             AA+  "
      ]
     },
     "execution_count": 22,
     "metadata": {},
     "output_type": "execute_result"
    }
   ],
   "source": [
    "# Filtering the dataset to include only companies from the United States that were founded before 1900\n",
    "brands[(brands.Country=='United States') & (brands['Founded In']<1900)]     # Returns the rows where the company is based in the United States and was founded before 1900"
   ]
  },
  {
   "cell_type": "code",
   "execution_count": 23,
   "id": "a5a14c1c-bb05-4309-a31f-4536ed5aeeda",
   "metadata": {
    "tags": []
   },
   "outputs": [
    {
     "data": {
      "text/plain": [
       "6"
      ]
     },
     "execution_count": 23,
     "metadata": {},
     "output_type": "execute_result"
    }
   ],
   "source": [
    "# Filtering the dataset to include only companies from China that were founded after 2000, and then counting the total number of such companies\n",
    "brands[(brands.Country=='China') & (brands['Founded In']>2000)].value_counts().sum()     # Returns the total count of companies from China that were founded after 2000"
   ]
  },
  {
   "cell_type": "code",
   "execution_count": 24,
   "id": "84f5a5c7-759e-44c7-8ba9-ddfd3c20a130",
   "metadata": {
    "tags": []
   },
   "outputs": [
    {
     "data": {
      "text/html": [
       "<div>\n",
       "<style scoped>\n",
       "    .dataframe tbody tr th:only-of-type {\n",
       "        vertical-align: middle;\n",
       "    }\n",
       "\n",
       "    .dataframe tbody tr th {\n",
       "        vertical-align: top;\n",
       "    }\n",
       "\n",
       "    .dataframe thead th {\n",
       "        text-align: right;\n",
       "    }\n",
       "</style>\n",
       "<table border=\"1\" class=\"dataframe\">\n",
       "  <thead>\n",
       "    <tr style=\"text-align: right;\">\n",
       "      <th></th>\n",
       "      <th>Brand</th>\n",
       "      <th>Founded By/How it was founded</th>\n",
       "      <th>Founded In</th>\n",
       "      <th>Country</th>\n",
       "      <th>Key People</th>\n",
       "      <th>Genre/Industry</th>\n",
       "      <th>Website</th>\n",
       "      <th>Rank in 2022</th>\n",
       "      <th>Rank in 2021</th>\n",
       "      <th>Brand Value ($M) in 2022</th>\n",
       "      <th>Brand Value ($M) in 2021</th>\n",
       "      <th>% Change</th>\n",
       "      <th>Rating in 2022</th>\n",
       "      <th>Rating in 2021</th>\n",
       "    </tr>\n",
       "  </thead>\n",
       "  <tbody>\n",
       "    <tr>\n",
       "      <th>12</th>\n",
       "      <td>WeChat</td>\n",
       "      <td>Tencent</td>\n",
       "      <td>2011</td>\n",
       "      <td>China</td>\n",
       "      <td>Ma Huateng(CEO of Tencent which develops WeChat)</td>\n",
       "      <td>Instant messaging, social Media and mobile pay...</td>\n",
       "      <td>https://www.wechat.com/</td>\n",
       "      <td>13</td>\n",
       "      <td>10</td>\n",
       "      <td>62302.54</td>\n",
       "      <td>67901.98</td>\n",
       "      <td>-8%</td>\n",
       "      <td>AAA+</td>\n",
       "      <td>AAA+</td>\n",
       "    </tr>\n",
       "    <tr>\n",
       "      <th>15</th>\n",
       "      <td>State Grid</td>\n",
       "      <td>State Council of China</td>\n",
       "      <td>2002</td>\n",
       "      <td>China</td>\n",
       "      <td>Shu Yinbiao(Chairman)</td>\n",
       "      <td>Electric utility</td>\n",
       "      <td>http://www.sgcc.com.cn/</td>\n",
       "      <td>16</td>\n",
       "      <td>16</td>\n",
       "      <td>60174.88</td>\n",
       "      <td>55202.86</td>\n",
       "      <td>9%</td>\n",
       "      <td>AAA</td>\n",
       "      <td>AAA-</td>\n",
       "    </tr>\n",
       "    <tr>\n",
       "      <th>17</th>\n",
       "      <td>TikTok/Douyin</td>\n",
       "      <td>ByteDance</td>\n",
       "      <td>2016</td>\n",
       "      <td>China</td>\n",
       "      <td>Shou Zi Chew(CEO)</td>\n",
       "      <td>Video Hosting</td>\n",
       "      <td>https://www.tiktok.com/\\n\\nhttps://www.douyin....</td>\n",
       "      <td>18</td>\n",
       "      <td>-</td>\n",
       "      <td>58979.93</td>\n",
       "      <td>18700.00</td>\n",
       "      <td>215%</td>\n",
       "      <td>AA+</td>\n",
       "      <td>-</td>\n",
       "    </tr>\n",
       "    <tr>\n",
       "      <th>21</th>\n",
       "      <td>Taobao</td>\n",
       "      <td>Alibaba group</td>\n",
       "      <td>2003</td>\n",
       "      <td>China</td>\n",
       "      <td>Trudy Dai Shan(chairwoman)</td>\n",
       "      <td>C2C, E-commerce</td>\n",
       "      <td>https://www.taobao.com/</td>\n",
       "      <td>22</td>\n",
       "      <td>18</td>\n",
       "      <td>53761.50</td>\n",
       "      <td>53335.29</td>\n",
       "      <td>1%</td>\n",
       "      <td>AAA-</td>\n",
       "      <td>AAA</td>\n",
       "    </tr>\n",
       "    <tr>\n",
       "      <th>24</th>\n",
       "      <td>Tmall</td>\n",
       "      <td>Alibaba group</td>\n",
       "      <td>2008</td>\n",
       "      <td>China</td>\n",
       "      <td>Trudy Dai Shan(chairwoman)</td>\n",
       "      <td>E-commerce, Retail</td>\n",
       "      <td>https://www.tmall.com/</td>\n",
       "      <td>25</td>\n",
       "      <td>24</td>\n",
       "      <td>49182.43</td>\n",
       "      <td>49178.92</td>\n",
       "      <td>0%</td>\n",
       "      <td>AA+</td>\n",
       "      <td>AAA</td>\n",
       "    </tr>\n",
       "    <tr>\n",
       "      <th>63</th>\n",
       "      <td>JD.com</td>\n",
       "      <td>Liu Qiangdong</td>\n",
       "      <td>2009</td>\n",
       "      <td>China</td>\n",
       "      <td>Xu Lei(President and CEO)</td>\n",
       "      <td>E-Commerce, Artificial Intelligence, Robotics,...</td>\n",
       "      <td>http://www.joybuy.com/</td>\n",
       "      <td>64</td>\n",
       "      <td>68</td>\n",
       "      <td>27152.47</td>\n",
       "      <td>23539.49</td>\n",
       "      <td>15%</td>\n",
       "      <td>AAA-</td>\n",
       "      <td>AAA</td>\n",
       "    </tr>\n",
       "  </tbody>\n",
       "</table>\n",
       "</div>"
      ],
      "text/plain": [
       "            Brand Founded By/How it was founded Founded In Country  \\\n",
       "12         WeChat                       Tencent       2011   China   \n",
       "15     State Grid        State Council of China       2002   China   \n",
       "17  TikTok/Douyin                     ByteDance       2016   China   \n",
       "21         Taobao                 Alibaba group       2003   China   \n",
       "24          Tmall                 Alibaba group       2008   China   \n",
       "63         JD.com                 Liu Qiangdong       2009   China   \n",
       "\n",
       "                                          Key People  \\\n",
       "12  Ma Huateng(CEO of Tencent which develops WeChat)   \n",
       "15                             Shu Yinbiao(Chairman)   \n",
       "17                                 Shou Zi Chew(CEO)   \n",
       "21                        Trudy Dai Shan(chairwoman)   \n",
       "24                        Trudy Dai Shan(chairwoman)   \n",
       "63                         Xu Lei(President and CEO)   \n",
       "\n",
       "                                       Genre/Industry  \\\n",
       "12  Instant messaging, social Media and mobile pay...   \n",
       "15                                   Electric utility   \n",
       "17                                      Video Hosting   \n",
       "21                                    C2C, E-commerce   \n",
       "24                                 E-commerce, Retail   \n",
       "63  E-Commerce, Artificial Intelligence, Robotics,...   \n",
       "\n",
       "                                              Website Rank in 2022  \\\n",
       "12                            https://www.wechat.com/           13   \n",
       "15                            http://www.sgcc.com.cn/           16   \n",
       "17  https://www.tiktok.com/\\n\\nhttps://www.douyin....           18   \n",
       "21                            https://www.taobao.com/           22   \n",
       "24                             https://www.tmall.com/           25   \n",
       "63                             http://www.joybuy.com/           64   \n",
       "\n",
       "   Rank in 2021  Brand Value ($M) in 2022  Brand Value ($M) in 2021 % Change  \\\n",
       "12           10                  62302.54                  67901.98      -8%   \n",
       "15           16                  60174.88                  55202.86       9%   \n",
       "17            -                  58979.93                  18700.00     215%   \n",
       "21           18                  53761.50                  53335.29       1%   \n",
       "24           24                  49182.43                  49178.92       0%   \n",
       "63           68                  27152.47                  23539.49      15%   \n",
       "\n",
       "   Rating in 2022 Rating in 2021   \n",
       "12           AAA+            AAA+  \n",
       "15            AAA            AAA-  \n",
       "17            AA+               -  \n",
       "21           AAA-             AAA  \n",
       "24            AA+             AAA  \n",
       "63           AAA-             AAA  "
      ]
     },
     "execution_count": 24,
     "metadata": {},
     "output_type": "execute_result"
    }
   ],
   "source": [
    "# Filtering the dataset to include only companies from China that were founded after 2000\n",
    "brands[(brands.Country=='China') & (brands['Founded In']>2000)]      # Returns the rows where the company is based in China and was founded after 2000"
   ]
  },
  {
   "cell_type": "code",
   "execution_count": 25,
   "id": "919d8292-2e99-456e-9baf-c3437abe0379",
   "metadata": {
    "tags": []
   },
   "outputs": [
    {
     "data": {
      "text/plain": [
       "13"
      ]
     },
     "execution_count": 25,
     "metadata": {},
     "output_type": "execute_result"
    }
   ],
   "source": [
    "# Filtering the dataset to include only companies from China that were founded between 1950 and 2000, and then calculating the total number of such companies\n",
    "brands[(brands.Country=='China') & (brands['Founded In']>1950) & (brands['Founded In']<2000)].value_counts().sum()    # Returns the total count of Chinese companies that were founded between 1950 and 2000"
   ]
  },
  {
   "cell_type": "code",
   "execution_count": 26,
   "id": "234023c7-230f-4fc5-8cb8-3542678d8e23",
   "metadata": {
    "tags": []
   },
   "outputs": [
    {
     "data": {
      "text/plain": [
       "6"
      ]
     },
     "execution_count": 26,
     "metadata": {},
     "output_type": "execute_result"
    }
   ],
   "source": [
    "# Filtering the dataset to include only companies from Japan that were founded before 1950, and then counting the total number of such companies\n",
    "brands[(brands.Country=='Japan') & (brands['Founded In']<1950)].value_counts().sum()     # Returns the total count of Japanese companies that were founded before 1950"
   ]
  },
  {
   "cell_type": "markdown",
   "id": "1f53beba-b2ba-4635-a1dd-cc86e72703d1",
   "metadata": {},
   "source": [
    "#### The analysis reveals that Japan has 7 brands in the Top 100 Worldwide list, with 6 brands founded before 1950 and only 1 brand founded after 1950.\n",
    "**Let’s identify the brand from Japan that was founded after 1950.**"
   ]
  },
  {
   "cell_type": "code",
   "execution_count": 27,
   "id": "92cc4bf0-5930-4158-b9af-011da7fcc138",
   "metadata": {
    "tags": []
   },
   "outputs": [
    {
     "data": {
      "text/html": [
       "<div>\n",
       "<style scoped>\n",
       "    .dataframe tbody tr th:only-of-type {\n",
       "        vertical-align: middle;\n",
       "    }\n",
       "\n",
       "    .dataframe tbody tr th {\n",
       "        vertical-align: top;\n",
       "    }\n",
       "\n",
       "    .dataframe thead th {\n",
       "        text-align: right;\n",
       "    }\n",
       "</style>\n",
       "<table border=\"1\" class=\"dataframe\">\n",
       "  <thead>\n",
       "    <tr style=\"text-align: right;\">\n",
       "      <th></th>\n",
       "      <th>Brand</th>\n",
       "      <th>Founded By/How it was founded</th>\n",
       "      <th>Founded In</th>\n",
       "      <th>Country</th>\n",
       "      <th>Key People</th>\n",
       "      <th>Genre/Industry</th>\n",
       "      <th>Website</th>\n",
       "      <th>Rank in 2022</th>\n",
       "      <th>Rank in 2021</th>\n",
       "      <th>Brand Value ($M) in 2022</th>\n",
       "      <th>Brand Value ($M) in 2021</th>\n",
       "      <th>% Change</th>\n",
       "      <th>Rating in 2022</th>\n",
       "      <th>Rating in 2021</th>\n",
       "    </tr>\n",
       "  </thead>\n",
       "  <tbody>\n",
       "    <tr>\n",
       "      <th>34</th>\n",
       "      <td>NTT Group</td>\n",
       "      <td>Government of Japan</td>\n",
       "      <td>1952</td>\n",
       "      <td>Japan</td>\n",
       "      <td>Akira Shimada(CEO)</td>\n",
       "      <td>Telecommunications</td>\n",
       "      <td>https://group.ntt/en/ AND https://www.global.ntt/</td>\n",
       "      <td>35</td>\n",
       "      <td>37</td>\n",
       "      <td>40691.0</td>\n",
       "      <td>34238.0</td>\n",
       "      <td>19%</td>\n",
       "      <td>AA+</td>\n",
       "      <td>AA</td>\n",
       "    </tr>\n",
       "  </tbody>\n",
       "</table>\n",
       "</div>"
      ],
      "text/plain": [
       "        Brand Founded By/How it was founded Founded In Country  \\\n",
       "34  NTT Group           Government of Japan       1952   Japan   \n",
       "\n",
       "            Key People      Genre/Industry  \\\n",
       "34  Akira Shimada(CEO)  Telecommunications   \n",
       "\n",
       "                                              Website Rank in 2022  \\\n",
       "34  https://group.ntt/en/ AND https://www.global.ntt/           35   \n",
       "\n",
       "   Rank in 2021  Brand Value ($M) in 2022  Brand Value ($M) in 2021 % Change  \\\n",
       "34           37                   40691.0                   34238.0      19%   \n",
       "\n",
       "   Rating in 2022 Rating in 2021   \n",
       "34            AA+              AA  "
      ]
     },
     "execution_count": 27,
     "metadata": {},
     "output_type": "execute_result"
    }
   ],
   "source": [
    "# Filtering the dataset to include only companies from Japan that were founded after 1950\n",
    "brands[(brands.Country=='Japan') & (brands['Founded In']>1950)]     # Returns the rows where the company is based in Japan and was founded after 1950"
   ]
  },
  {
   "cell_type": "markdown",
   "id": "e0076fe1-d62b-42cf-bdae-e24195be94e7",
   "metadata": {},
   "source": [
    "#### Let's examine the brands from India in the Top 100 Worldwide list."
   ]
  },
  {
   "cell_type": "code",
   "execution_count": 28,
   "id": "f117d9bd-4a81-432e-8e89-d1b3b5fc151a",
   "metadata": {
    "tags": []
   },
   "outputs": [
    {
     "data": {
      "text/html": [
       "<div>\n",
       "<style scoped>\n",
       "    .dataframe tbody tr th:only-of-type {\n",
       "        vertical-align: middle;\n",
       "    }\n",
       "\n",
       "    .dataframe tbody tr th {\n",
       "        vertical-align: top;\n",
       "    }\n",
       "\n",
       "    .dataframe thead th {\n",
       "        text-align: right;\n",
       "    }\n",
       "</style>\n",
       "<table border=\"1\" class=\"dataframe\">\n",
       "  <thead>\n",
       "    <tr style=\"text-align: right;\">\n",
       "      <th></th>\n",
       "      <th>Brand</th>\n",
       "      <th>Founded By/How it was founded</th>\n",
       "      <th>Founded In</th>\n",
       "      <th>Country</th>\n",
       "      <th>Key People</th>\n",
       "      <th>Genre/Industry</th>\n",
       "      <th>Website</th>\n",
       "      <th>Rank in 2022</th>\n",
       "      <th>Rank in 2021</th>\n",
       "      <th>Brand Value ($M) in 2022</th>\n",
       "      <th>Brand Value ($M) in 2021</th>\n",
       "      <th>% Change</th>\n",
       "      <th>Rating in 2022</th>\n",
       "      <th>Rating in 2021</th>\n",
       "    </tr>\n",
       "  </thead>\n",
       "  <tbody>\n",
       "    <tr>\n",
       "      <th>77</th>\n",
       "      <td>TATA Group</td>\n",
       "      <td>Jamsedji Tata</td>\n",
       "      <td>1868</td>\n",
       "      <td>India</td>\n",
       "      <td>Natarajan Chandrasekaran(Chairman and Managing...</td>\n",
       "      <td>Conglomerate</td>\n",
       "      <td>https://www.tata.com/</td>\n",
       "      <td>78</td>\n",
       "      <td>77</td>\n",
       "      <td>23919.8</td>\n",
       "      <td>21283.1</td>\n",
       "      <td>12%</td>\n",
       "      <td>AAA-</td>\n",
       "      <td>AAA-</td>\n",
       "    </tr>\n",
       "  </tbody>\n",
       "</table>\n",
       "</div>"
      ],
      "text/plain": [
       "         Brand Founded By/How it was founded Founded In Country  \\\n",
       "77  TATA Group                 Jamsedji Tata       1868   India   \n",
       "\n",
       "                                           Key People Genre/Industry  \\\n",
       "77  Natarajan Chandrasekaran(Chairman and Managing...   Conglomerate   \n",
       "\n",
       "                  Website Rank in 2022 Rank in 2021  Brand Value ($M) in 2022  \\\n",
       "77  https://www.tata.com/           78           77                   23919.8   \n",
       "\n",
       "    Brand Value ($M) in 2021 % Change Rating in 2022 Rating in 2021   \n",
       "77                   21283.1      12%           AAA-            AAA-  "
      ]
     },
     "execution_count": 28,
     "metadata": {},
     "output_type": "execute_result"
    }
   ],
   "source": [
    "# Filtering the dataset to include only companies from India\n",
    "brands[brands.Country=='India']     # Returns all rows where the company is based in India from the Top 100 Worldwide list"
   ]
  },
  {
   "cell_type": "markdown",
   "id": "73a32d61-2881-4041-90de-6e18906c257b",
   "metadata": {},
   "source": [
    "#### The only Indian brand in the Top 100 Worldwide list is TATA Group, which holds the 78th rank in 2022."
   ]
  },
  {
   "cell_type": "markdown",
   "id": "9a5d9929-697b-439a-a9dd-f0d22d58eae0",
   "metadata": {},
   "source": [
    "#### Let’s examine how many brands have a brand value exceeding $50,000 million in 2022."
   ]
  },
  {
   "cell_type": "code",
   "execution_count": 29,
   "id": "c264f02b-fa2b-4e3b-87aa-b2bdcbbcc053",
   "metadata": {
    "tags": []
   },
   "outputs": [
    {
     "data": {
      "text/plain": [
       "22"
      ]
     },
     "execution_count": 29,
     "metadata": {},
     "output_type": "execute_result"
    }
   ],
   "source": [
    "# Filtering the dataset to include only companies with a brand value greater than 50,000 in 2022\n",
    "brands[(brands['Brand Value ($M) in 2022']>50000)].value_counts().sum()       # Returns the total count of rows where the 'Brand Value ($M) in 2022' is greater than 50,000"
   ]
  },
  {
   "cell_type": "markdown",
   "id": "81fc6fee-b498-4791-9777-a716b4b00545",
   "metadata": {},
   "source": [
    "#### Now, let's check how many brands have a brand value exceeding $50,000 million in 2021."
   ]
  },
  {
   "cell_type": "code",
   "execution_count": 30,
   "id": "492ff157-d9f8-413d-85d8-f17f6a2e7875",
   "metadata": {
    "tags": []
   },
   "outputs": [
    {
     "data": {
      "text/plain": [
       "23"
      ]
     },
     "execution_count": 30,
     "metadata": {},
     "output_type": "execute_result"
    }
   ],
   "source": [
    "# Filtering the dataset to include brands with a value greater than 50,000 million in 2021\n",
    "brands[(brands['Brand Value ($M) in 2021']>50000)].value_counts().sum()       # Returns the total count of brands with a brand value exceeding 50,000 million in 2021"
   ]
  },
  {
   "cell_type": "markdown",
   "id": "98766e3c-c290-42ef-8950-dc98cc4e8844",
   "metadata": {},
   "source": [
    "#### Here, it has been found that in 2022, there are 22 brands, while in 2021, there are 23 brands with a brand value exceeding $50,000 million.\n",
    "#### Let's take a look at those brands."
   ]
  },
  {
   "cell_type": "code",
   "execution_count": 31,
   "id": "2c6ef966-e396-4613-b588-d8926ad31322",
   "metadata": {
    "tags": []
   },
   "outputs": [
    {
     "data": {
      "text/html": [
       "<div>\n",
       "<style scoped>\n",
       "    .dataframe tbody tr th:only-of-type {\n",
       "        vertical-align: middle;\n",
       "    }\n",
       "\n",
       "    .dataframe tbody tr th {\n",
       "        vertical-align: top;\n",
       "    }\n",
       "\n",
       "    .dataframe thead th {\n",
       "        text-align: right;\n",
       "    }\n",
       "</style>\n",
       "<table border=\"1\" class=\"dataframe\">\n",
       "  <thead>\n",
       "    <tr style=\"text-align: right;\">\n",
       "      <th></th>\n",
       "      <th>Brand</th>\n",
       "      <th>Founded By/How it was founded</th>\n",
       "      <th>Founded In</th>\n",
       "      <th>Country</th>\n",
       "      <th>Key People</th>\n",
       "      <th>Genre/Industry</th>\n",
       "      <th>Website</th>\n",
       "      <th>Rank in 2022</th>\n",
       "      <th>Rank in 2021</th>\n",
       "      <th>Brand Value ($M) in 2022</th>\n",
       "      <th>Brand Value ($M) in 2021</th>\n",
       "      <th>% Change</th>\n",
       "      <th>Rating in 2022</th>\n",
       "      <th>Rating in 2021</th>\n",
       "    </tr>\n",
       "  </thead>\n",
       "  <tbody>\n",
       "    <tr>\n",
       "      <th>25</th>\n",
       "      <td>AT&amp;T</td>\n",
       "      <td>Alexander Graham Bell, Gardiner Greene Hubbard</td>\n",
       "      <td>1885</td>\n",
       "      <td>United States</td>\n",
       "      <td>John Stankey(CEO)</td>\n",
       "      <td>Telecommunications, Technology</td>\n",
       "      <td>https://about.att.com/</td>\n",
       "      <td>26</td>\n",
       "      <td>21</td>\n",
       "      <td>47008.54</td>\n",
       "      <td>51372.34</td>\n",
       "      <td>-8%</td>\n",
       "      <td>AA</td>\n",
       "      <td>AA</td>\n",
       "    </tr>\n",
       "    <tr>\n",
       "      <th>26</th>\n",
       "      <td>Tencent</td>\n",
       "      <td>Pony Ma, Tony Zhang, Xu Chenye, Charles Chen, ...</td>\n",
       "      <td>1998</td>\n",
       "      <td>China</td>\n",
       "      <td>Pony Ma(CEO)</td>\n",
       "      <td>Conglomerate</td>\n",
       "      <td>https://www.tencent.com/en-us/index.html</td>\n",
       "      <td>27</td>\n",
       "      <td>14</td>\n",
       "      <td>46652.50</td>\n",
       "      <td>56432.39</td>\n",
       "      <td>-17%</td>\n",
       "      <td>AAA-</td>\n",
       "      <td>AAA</td>\n",
       "    </tr>\n",
       "  </tbody>\n",
       "</table>\n",
       "</div>"
      ],
      "text/plain": [
       "      Brand                      Founded By/How it was founded Founded In  \\\n",
       "25     AT&T     Alexander Graham Bell, Gardiner Greene Hubbard       1885   \n",
       "26  Tencent  Pony Ma, Tony Zhang, Xu Chenye, Charles Chen, ...       1998   \n",
       "\n",
       "          Country         Key People                  Genre/Industry  \\\n",
       "25  United States  John Stankey(CEO)  Telecommunications, Technology   \n",
       "26          China       Pony Ma(CEO)                    Conglomerate   \n",
       "\n",
       "                                     Website Rank in 2022 Rank in 2021  \\\n",
       "25                    https://about.att.com/           26           21   \n",
       "26  https://www.tencent.com/en-us/index.html           27           14   \n",
       "\n",
       "    Brand Value ($M) in 2022  Brand Value ($M) in 2021 % Change  \\\n",
       "25                  47008.54                  51372.34      -8%   \n",
       "26                  46652.50                  56432.39     -17%   \n",
       "\n",
       "   Rating in 2022 Rating in 2021   \n",
       "25             AA              AA  \n",
       "26           AAA-             AAA  "
      ]
     },
     "execution_count": 31,
     "metadata": {},
     "output_type": "execute_result"
    }
   ],
   "source": [
    "# Filtering the dataset to include brands with a value less than 50,000 million in 2022, but greater than 50,000 million in 2021\n",
    "brands[(brands['Brand Value ($M) in 2022']<50000) & (brands['Brand Value ($M) in 2021']>50000)]    # Returns brands with a lower value in 2022 compared to 2021, where 2021 value exceeds 50,000 million"
   ]
  },
  {
   "cell_type": "markdown",
   "id": "ca208afc-c5ee-4b91-9191-84734ce222f9",
   "metadata": {},
   "source": [
    "#### The result indicates that there are two brands, whereas only one was expected. Let's examine the brand whose value is less than $50,000 million in 2021 but greater in 2022."
   ]
  },
  {
   "cell_type": "code",
   "execution_count": 32,
   "id": "d531f3e3-409a-4a34-941c-27f3f2172785",
   "metadata": {
    "tags": []
   },
   "outputs": [
    {
     "data": {
      "text/html": [
       "<div>\n",
       "<style scoped>\n",
       "    .dataframe tbody tr th:only-of-type {\n",
       "        vertical-align: middle;\n",
       "    }\n",
       "\n",
       "    .dataframe tbody tr th {\n",
       "        vertical-align: top;\n",
       "    }\n",
       "\n",
       "    .dataframe thead th {\n",
       "        text-align: right;\n",
       "    }\n",
       "</style>\n",
       "<table border=\"1\" class=\"dataframe\">\n",
       "  <thead>\n",
       "    <tr style=\"text-align: right;\">\n",
       "      <th></th>\n",
       "      <th>Brand</th>\n",
       "      <th>Founded By/How it was founded</th>\n",
       "      <th>Founded In</th>\n",
       "      <th>Country</th>\n",
       "      <th>Key People</th>\n",
       "      <th>Genre/Industry</th>\n",
       "      <th>Website</th>\n",
       "      <th>Rank in 2022</th>\n",
       "      <th>Rank in 2021</th>\n",
       "      <th>Brand Value ($M) in 2022</th>\n",
       "      <th>Brand Value ($M) in 2021</th>\n",
       "      <th>% Change</th>\n",
       "      <th>Rating in 2022</th>\n",
       "      <th>Rating in 2021</th>\n",
       "    </tr>\n",
       "  </thead>\n",
       "  <tbody>\n",
       "    <tr>\n",
       "      <th>17</th>\n",
       "      <td>TikTok/Douyin</td>\n",
       "      <td>ByteDance</td>\n",
       "      <td>2016</td>\n",
       "      <td>China</td>\n",
       "      <td>Shou Zi Chew(CEO)</td>\n",
       "      <td>Video Hosting</td>\n",
       "      <td>https://www.tiktok.com/\\n\\nhttps://www.douyin....</td>\n",
       "      <td>18</td>\n",
       "      <td>-</td>\n",
       "      <td>58979.93</td>\n",
       "      <td>18700.0</td>\n",
       "      <td>215%</td>\n",
       "      <td>AA+</td>\n",
       "      <td>-</td>\n",
       "    </tr>\n",
       "  </tbody>\n",
       "</table>\n",
       "</div>"
      ],
      "text/plain": [
       "            Brand Founded By/How it was founded Founded In Country  \\\n",
       "17  TikTok/Douyin                     ByteDance       2016   China   \n",
       "\n",
       "           Key People Genre/Industry  \\\n",
       "17  Shou Zi Chew(CEO)  Video Hosting   \n",
       "\n",
       "                                              Website Rank in 2022  \\\n",
       "17  https://www.tiktok.com/\\n\\nhttps://www.douyin....           18   \n",
       "\n",
       "   Rank in 2021  Brand Value ($M) in 2022  Brand Value ($M) in 2021 % Change  \\\n",
       "17            -                  58979.93                   18700.0     215%   \n",
       "\n",
       "   Rating in 2022 Rating in 2021   \n",
       "17            AA+               -  "
      ]
     },
     "execution_count": 32,
     "metadata": {},
     "output_type": "execute_result"
    }
   ],
   "source": [
    "# Filtering the dataset to include brands with a value greater than 50,000 million in 2022, but less than 50,000 million in 2021\n",
    "brands[(brands['Brand Value ($M) in 2022']>50000) & (brands['Brand Value ($M) in 2021']<50000)]     # Returns brands with a higher value in 2022 compared to 2021, where 2021 value is below 50,000 million"
   ]
  },
  {
   "cell_type": "markdown",
   "id": "df47e419-a322-4d73-96f2-42d7630b5220",
   "metadata": {},
   "source": [
    "#### It has been found that TikTok's brand value has increased by a significant percentage of 215%."
   ]
  },
  {
   "cell_type": "code",
   "execution_count": 33,
   "id": "1213ced2-9f12-444e-8057-5ea2732ab086",
   "metadata": {
    "tags": []
   },
   "outputs": [
    {
     "data": {
      "text/plain": [
       "12"
      ]
     },
     "execution_count": 33,
     "metadata": {},
     "output_type": "execute_result"
    }
   ],
   "source": [
    "# Filtering the dataset to include brands with a 'AAA+' rating in 2022\n",
    "brands[(brands['Rating in 2022']=='AAA+')].value_counts().sum()     # Returns the total count of brands with a 'AAA+' rating in 2022"
   ]
  },
  {
   "cell_type": "code",
   "execution_count": 34,
   "id": "8c8af511-ddef-4ce7-ba39-ea59b2ad3101",
   "metadata": {
    "tags": []
   },
   "outputs": [
    {
     "data": {
      "text/plain": [
       "1"
      ]
     },
     "execution_count": 34,
     "metadata": {},
     "output_type": "execute_result"
    }
   ],
   "source": [
    "# Filtering the dataset to include brands with an 'A+' rating in 2022\n",
    "brands[(brands['Rating in 2022']=='A+')].value_counts().sum()      # Returns the total count of brands with an 'A+' rating in 2022"
   ]
  },
  {
   "cell_type": "markdown",
   "id": "c163ed1b-3945-4e27-9cd3-2de702a936a6",
   "metadata": {},
   "source": [
    "#### It has been found that only one brand has an 'A+' rating in 2022. Let's examine that brand."
   ]
  },
  {
   "cell_type": "code",
   "execution_count": 35,
   "id": "9ddfee4b-858b-4bdf-8818-10e36183fadb",
   "metadata": {
    "tags": []
   },
   "outputs": [
    {
     "data": {
      "text/html": [
       "<div>\n",
       "<style scoped>\n",
       "    .dataframe tbody tr th:only-of-type {\n",
       "        vertical-align: middle;\n",
       "    }\n",
       "\n",
       "    .dataframe tbody tr th {\n",
       "        vertical-align: top;\n",
       "    }\n",
       "\n",
       "    .dataframe thead th {\n",
       "        text-align: right;\n",
       "    }\n",
       "</style>\n",
       "<table border=\"1\" class=\"dataframe\">\n",
       "  <thead>\n",
       "    <tr style=\"text-align: right;\">\n",
       "      <th></th>\n",
       "      <th>Brand</th>\n",
       "      <th>Founded By/How it was founded</th>\n",
       "      <th>Founded In</th>\n",
       "      <th>Country</th>\n",
       "      <th>Key People</th>\n",
       "      <th>Genre/Industry</th>\n",
       "      <th>Website</th>\n",
       "      <th>Rank in 2022</th>\n",
       "      <th>Rank in 2021</th>\n",
       "      <th>Brand Value ($M) in 2022</th>\n",
       "      <th>Brand Value ($M) in 2021</th>\n",
       "      <th>% Change</th>\n",
       "      <th>Rating in 2022</th>\n",
       "      <th>Rating in 2021</th>\n",
       "    </tr>\n",
       "  </thead>\n",
       "  <tbody>\n",
       "    <tr>\n",
       "      <th>74</th>\n",
       "      <td>Mitsui</td>\n",
       "      <td>Mitsui Takatoshi</td>\n",
       "      <td>1876</td>\n",
       "      <td>Japan</td>\n",
       "      <td>-</td>\n",
       "      <td>Conglomerate</td>\n",
       "      <td>https://www.mitsui.com/jp/en/index.html</td>\n",
       "      <td>75</td>\n",
       "      <td>73</td>\n",
       "      <td>24329.0</td>\n",
       "      <td>22495.82</td>\n",
       "      <td>8%</td>\n",
       "      <td>A+</td>\n",
       "      <td>A+</td>\n",
       "    </tr>\n",
       "  </tbody>\n",
       "</table>\n",
       "</div>"
      ],
      "text/plain": [
       "     Brand Founded By/How it was founded Founded In Country Key People  \\\n",
       "74  Mitsui              Mitsui Takatoshi       1876   Japan          -   \n",
       "\n",
       "   Genre/Industry                                  Website Rank in 2022  \\\n",
       "74   Conglomerate  https://www.mitsui.com/jp/en/index.html           75   \n",
       "\n",
       "   Rank in 2021  Brand Value ($M) in 2022  Brand Value ($M) in 2021 % Change  \\\n",
       "74           73                   24329.0                  22495.82       8%   \n",
       "\n",
       "   Rating in 2022 Rating in 2021   \n",
       "74             A+              A+  "
      ]
     },
     "execution_count": 35,
     "metadata": {},
     "output_type": "execute_result"
    }
   ],
   "source": [
    "# Filtering the dataset to include brands with an 'A+' rating in 2022\n",
    "brands[(brands['Rating in 2022']=='A+')]      # Returns all rows with an 'A+' rating in 2022"
   ]
  },
  {
   "cell_type": "markdown",
   "id": "5957dae9-db46-476c-baa7-b123c48ce8df",
   "metadata": {},
   "source": [
    "#### Let's remove the '%' symbol from the values in the '% change' column."
   ]
  },
  {
   "cell_type": "code",
   "execution_count": 36,
   "id": "299e8c00-0da1-443a-8838-0b8243cc47ea",
   "metadata": {
    "tags": []
   },
   "outputs": [],
   "source": [
    "# Extracting numerical values from the '% Change' column and converting them to integers\n",
    "brands[['Change %']]=brands['% Change'].str.extract(r'(\\d+)').astype(int)     # Creates a new column 'Change %' with integer values extracted from the '% Change' column"
   ]
  },
  {
   "cell_type": "code",
   "execution_count": 37,
   "id": "1b1e03f8-4a9c-4aa6-97d5-62d2cfddca99",
   "metadata": {
    "tags": []
   },
   "outputs": [
    {
     "data": {
      "text/html": [
       "<div>\n",
       "<style scoped>\n",
       "    .dataframe tbody tr th:only-of-type {\n",
       "        vertical-align: middle;\n",
       "    }\n",
       "\n",
       "    .dataframe tbody tr th {\n",
       "        vertical-align: top;\n",
       "    }\n",
       "\n",
       "    .dataframe thead th {\n",
       "        text-align: right;\n",
       "    }\n",
       "</style>\n",
       "<table border=\"1\" class=\"dataframe\">\n",
       "  <thead>\n",
       "    <tr style=\"text-align: right;\">\n",
       "      <th></th>\n",
       "      <th>Brand</th>\n",
       "      <th>Founded By/How it was founded</th>\n",
       "      <th>Founded In</th>\n",
       "      <th>Country</th>\n",
       "      <th>Key People</th>\n",
       "      <th>Genre/Industry</th>\n",
       "      <th>Website</th>\n",
       "      <th>Rank in 2022</th>\n",
       "      <th>Rank in 2021</th>\n",
       "      <th>Brand Value ($M) in 2022</th>\n",
       "      <th>Brand Value ($M) in 2021</th>\n",
       "      <th>% Change</th>\n",
       "      <th>Rating in 2022</th>\n",
       "      <th>Rating in 2021</th>\n",
       "      <th>Change %</th>\n",
       "    </tr>\n",
       "  </thead>\n",
       "  <tbody>\n",
       "    <tr>\n",
       "      <th>0</th>\n",
       "      <td>Apple</td>\n",
       "      <td>Steve Jobs, Steve Wozniak,Ronald Wayne</td>\n",
       "      <td>1976</td>\n",
       "      <td>United States</td>\n",
       "      <td>Tim Cook(CEO)</td>\n",
       "      <td>Consumer electronics, Software Service, Online...</td>\n",
       "      <td>https://www.apple.com/</td>\n",
       "      <td>1</td>\n",
       "      <td>1</td>\n",
       "      <td>355079.97</td>\n",
       "      <td>263374.70</td>\n",
       "      <td>35%</td>\n",
       "      <td>AAA</td>\n",
       "      <td>AAA</td>\n",
       "      <td>35</td>\n",
       "    </tr>\n",
       "    <tr>\n",
       "      <th>1</th>\n",
       "      <td>Amazon</td>\n",
       "      <td>Jeff Bezos</td>\n",
       "      <td>1994</td>\n",
       "      <td>United States</td>\n",
       "      <td>Andy Jassy(CEO)</td>\n",
       "      <td>E-Commerce, Cloud Computing, Artificial Intell...</td>\n",
       "      <td>https://www.amazon.com/</td>\n",
       "      <td>2</td>\n",
       "      <td>2</td>\n",
       "      <td>350273.25</td>\n",
       "      <td>254187.58</td>\n",
       "      <td>38%</td>\n",
       "      <td>AAA+</td>\n",
       "      <td>AAA+</td>\n",
       "      <td>38</td>\n",
       "    </tr>\n",
       "    <tr>\n",
       "      <th>2</th>\n",
       "      <td>Google</td>\n",
       "      <td>Larry Page, Sergey Brin</td>\n",
       "      <td>1998</td>\n",
       "      <td>United States</td>\n",
       "      <td>Sundar Pichai(CEO)</td>\n",
       "      <td>Artificial Intelligence, Advertising, Cloud Co...</td>\n",
       "      <td>https://www.google.com/</td>\n",
       "      <td>3</td>\n",
       "      <td>3</td>\n",
       "      <td>263424.93</td>\n",
       "      <td>191214.84</td>\n",
       "      <td>38%</td>\n",
       "      <td>AAA+</td>\n",
       "      <td>AAA</td>\n",
       "      <td>38</td>\n",
       "    </tr>\n",
       "    <tr>\n",
       "      <th>3</th>\n",
       "      <td>Microsoft</td>\n",
       "      <td>Bill Gates, Paul Allen</td>\n",
       "      <td>1975</td>\n",
       "      <td>United States</td>\n",
       "      <td>Satya Nadella(CEO)</td>\n",
       "      <td>Information Technology</td>\n",
       "      <td>https://www.microsoft.com/</td>\n",
       "      <td>4</td>\n",
       "      <td>4</td>\n",
       "      <td>184244.52</td>\n",
       "      <td>140435.35</td>\n",
       "      <td>31%</td>\n",
       "      <td>AAA</td>\n",
       "      <td>AAA</td>\n",
       "      <td>31</td>\n",
       "    </tr>\n",
       "    <tr>\n",
       "      <th>4</th>\n",
       "      <td>Walmart</td>\n",
       "      <td>Sam Walton</td>\n",
       "      <td>1962</td>\n",
       "      <td>United States</td>\n",
       "      <td>Doug McMillon(CEO)</td>\n",
       "      <td>Retail</td>\n",
       "      <td>https://www.walmart.com/</td>\n",
       "      <td>5</td>\n",
       "      <td>6</td>\n",
       "      <td>111918.32</td>\n",
       "      <td>93185.28</td>\n",
       "      <td>20%</td>\n",
       "      <td>AAA-</td>\n",
       "      <td>AA+</td>\n",
       "      <td>20</td>\n",
       "    </tr>\n",
       "  </tbody>\n",
       "</table>\n",
       "</div>"
      ],
      "text/plain": [
       "       Brand           Founded By/How it was founded Founded In  \\\n",
       "0      Apple  Steve Jobs, Steve Wozniak,Ronald Wayne       1976   \n",
       "1     Amazon                              Jeff Bezos       1994   \n",
       "2     Google                 Larry Page, Sergey Brin       1998   \n",
       "3  Microsoft                  Bill Gates, Paul Allen       1975   \n",
       "4    Walmart                              Sam Walton       1962   \n",
       "\n",
       "         Country          Key People  \\\n",
       "0  United States       Tim Cook(CEO)   \n",
       "1  United States     Andy Jassy(CEO)   \n",
       "2  United States  Sundar Pichai(CEO)   \n",
       "3  United States  Satya Nadella(CEO)   \n",
       "4  United States  Doug McMillon(CEO)   \n",
       "\n",
       "                                      Genre/Industry  \\\n",
       "0  Consumer electronics, Software Service, Online...   \n",
       "1  E-Commerce, Cloud Computing, Artificial Intell...   \n",
       "2  Artificial Intelligence, Advertising, Cloud Co...   \n",
       "3                             Information Technology   \n",
       "4                                             Retail   \n",
       "\n",
       "                      Website Rank in 2022 Rank in 2021  \\\n",
       "0      https://www.apple.com/            1            1   \n",
       "1     https://www.amazon.com/            2            2   \n",
       "2     https://www.google.com/            3            3   \n",
       "3  https://www.microsoft.com/            4            4   \n",
       "4    https://www.walmart.com/            5            6   \n",
       "\n",
       "   Brand Value ($M) in 2022  Brand Value ($M) in 2021 % Change Rating in 2022  \\\n",
       "0                 355079.97                 263374.70      35%            AAA   \n",
       "1                 350273.25                 254187.58      38%           AAA+   \n",
       "2                 263424.93                 191214.84      38%           AAA+   \n",
       "3                 184244.52                 140435.35      31%            AAA   \n",
       "4                 111918.32                  93185.28      20%           AAA-   \n",
       "\n",
       "  Rating in 2021   Change %  \n",
       "0             AAA        35  \n",
       "1            AAA+        38  \n",
       "2             AAA        38  \n",
       "3             AAA        31  \n",
       "4             AA+        20  "
      ]
     },
     "execution_count": 37,
     "metadata": {},
     "output_type": "execute_result"
    }
   ],
   "source": [
    "# Displaying the first few rows of the dataset after removing the '%' symbol from the '% Change' column\n",
    "brands.head()     # Returns the first 5 rows of the DataFrame to inspect the updated data"
   ]
  },
  {
   "cell_type": "code",
   "execution_count": 38,
   "id": "0360996f-405a-4e33-b2e4-04201b60cc30",
   "metadata": {
    "tags": []
   },
   "outputs": [
    {
     "data": {
      "text/html": [
       "<div>\n",
       "<style scoped>\n",
       "    .dataframe tbody tr th:only-of-type {\n",
       "        vertical-align: middle;\n",
       "    }\n",
       "\n",
       "    .dataframe tbody tr th {\n",
       "        vertical-align: top;\n",
       "    }\n",
       "\n",
       "    .dataframe thead th {\n",
       "        text-align: right;\n",
       "    }\n",
       "</style>\n",
       "<table border=\"1\" class=\"dataframe\">\n",
       "  <thead>\n",
       "    <tr style=\"text-align: right;\">\n",
       "      <th></th>\n",
       "      <th>Brand</th>\n",
       "      <th>Founded By/How it was founded</th>\n",
       "      <th>Founded In</th>\n",
       "      <th>Country</th>\n",
       "      <th>Key People</th>\n",
       "      <th>Genre/Industry</th>\n",
       "      <th>Website</th>\n",
       "      <th>Rank in 2022</th>\n",
       "      <th>Rank in 2021</th>\n",
       "      <th>Brand Value ($M) in 2022</th>\n",
       "      <th>Brand Value ($M) in 2021</th>\n",
       "      <th>% Change</th>\n",
       "      <th>Rating in 2022</th>\n",
       "      <th>Rating in 2021</th>\n",
       "      <th>Change %</th>\n",
       "    </tr>\n",
       "  </thead>\n",
       "  <tbody>\n",
       "    <tr>\n",
       "      <th>17</th>\n",
       "      <td>TikTok/Douyin</td>\n",
       "      <td>ByteDance</td>\n",
       "      <td>2016</td>\n",
       "      <td>China</td>\n",
       "      <td>Shou Zi Chew(CEO)</td>\n",
       "      <td>Video Hosting</td>\n",
       "      <td>https://www.tiktok.com/\\n\\nhttps://www.douyin....</td>\n",
       "      <td>18</td>\n",
       "      <td>-</td>\n",
       "      <td>58979.93</td>\n",
       "      <td>18700.00</td>\n",
       "      <td>215%</td>\n",
       "      <td>AA+</td>\n",
       "      <td>-</td>\n",
       "      <td>215</td>\n",
       "    </tr>\n",
       "    <tr>\n",
       "      <th>29</th>\n",
       "      <td>Allianz Group</td>\n",
       "      <td>Carl von Thieme</td>\n",
       "      <td>1890</td>\n",
       "      <td>Germany</td>\n",
       "      <td>Oliver Bäte(CEO)</td>\n",
       "      <td>Financial services</td>\n",
       "      <td>http://allianz.com/</td>\n",
       "      <td>30</td>\n",
       "      <td>-</td>\n",
       "      <td>45203.47</td>\n",
       "      <td>15174.00</td>\n",
       "      <td>198%</td>\n",
       "      <td>AAA-</td>\n",
       "      <td>-</td>\n",
       "      <td>198</td>\n",
       "    </tr>\n",
       "    <tr>\n",
       "      <th>80</th>\n",
       "      <td>Louis Vuitton</td>\n",
       "      <td>Louis Vuitton</td>\n",
       "      <td>1955</td>\n",
       "      <td>France</td>\n",
       "      <td>Michael Burke(Chairman and CEO)</td>\n",
       "      <td>Fashion</td>\n",
       "      <td>https://www.louisvuitton.com/</td>\n",
       "      <td>81</td>\n",
       "      <td>123</td>\n",
       "      <td>23425.92</td>\n",
       "      <td>14857.61</td>\n",
       "      <td>58%</td>\n",
       "      <td>AAA</td>\n",
       "      <td>AAA-</td>\n",
       "      <td>58</td>\n",
       "    </tr>\n",
       "    <tr>\n",
       "      <th>92</th>\n",
       "      <td>TSMC</td>\n",
       "      <td>Morris Chang</td>\n",
       "      <td>1987</td>\n",
       "      <td>Taiwan</td>\n",
       "      <td>C.C. Wei(CEO)</td>\n",
       "      <td>Semiconductors, GPUs, Graphic cards, Consumer ...</td>\n",
       "      <td>https://www.tsmc.com/</td>\n",
       "      <td>93</td>\n",
       "      <td>148</td>\n",
       "      <td>20474.00</td>\n",
       "      <td>12297.96</td>\n",
       "      <td>66%</td>\n",
       "      <td>AAA-</td>\n",
       "      <td>AAA-</td>\n",
       "      <td>66</td>\n",
       "    </tr>\n",
       "  </tbody>\n",
       "</table>\n",
       "</div>"
      ],
      "text/plain": [
       "            Brand Founded By/How it was founded Founded In  Country  \\\n",
       "17  TikTok/Douyin                     ByteDance       2016    China   \n",
       "29  Allianz Group               Carl von Thieme       1890  Germany   \n",
       "80  Louis Vuitton                 Louis Vuitton       1955   France   \n",
       "92           TSMC                  Morris Chang       1987   Taiwan   \n",
       "\n",
       "                         Key People  \\\n",
       "17                Shou Zi Chew(CEO)   \n",
       "29                 Oliver Bäte(CEO)   \n",
       "80  Michael Burke(Chairman and CEO)   \n",
       "92                    C.C. Wei(CEO)   \n",
       "\n",
       "                                       Genre/Industry  \\\n",
       "17                                      Video Hosting   \n",
       "29                                 Financial services   \n",
       "80                                            Fashion   \n",
       "92  Semiconductors, GPUs, Graphic cards, Consumer ...   \n",
       "\n",
       "                                              Website Rank in 2022  \\\n",
       "17  https://www.tiktok.com/\\n\\nhttps://www.douyin....           18   \n",
       "29                                http://allianz.com/           30   \n",
       "80                      https://www.louisvuitton.com/           81   \n",
       "92                              https://www.tsmc.com/           93   \n",
       "\n",
       "   Rank in 2021  Brand Value ($M) in 2022  Brand Value ($M) in 2021 % Change  \\\n",
       "17            -                  58979.93                  18700.00     215%   \n",
       "29            -                  45203.47                  15174.00     198%   \n",
       "80          123                  23425.92                  14857.61      58%   \n",
       "92          148                  20474.00                  12297.96      66%   \n",
       "\n",
       "   Rating in 2022 Rating in 2021   Change %  \n",
       "17            AA+               -       215  \n",
       "29           AAA-               -       198  \n",
       "80            AAA            AAA-        58  \n",
       "92           AAA-            AAA-        66  "
      ]
     },
     "execution_count": 38,
     "metadata": {},
     "output_type": "execute_result"
    }
   ],
   "source": [
    "# Filtering the dataset to include rows where the 'Change %' is greater than 50\n",
    "brands[(brands['Change %']>50)]     # Returns all rows where the 'Change %' value exceeds 50"
   ]
  },
  {
   "cell_type": "markdown",
   "id": "b45a3cec-c2ab-459d-85a5-5a88809f35f0",
   "metadata": {},
   "source": [
    "#### It has been found that the brand value of TikTok (Douyin) has increased by 215%, followed by Allianz Group with an increase of 198%."
   ]
  },
  {
   "cell_type": "code",
   "execution_count": 39,
   "id": "c7a55689-13e4-4513-855f-5559edc955be",
   "metadata": {
    "tags": []
   },
   "outputs": [
    {
     "data": {
      "text/plain": [
       "17"
      ]
     },
     "execution_count": 39,
     "metadata": {},
     "output_type": "execute_result"
    }
   ],
   "source": [
    "# Filtering the dataset to include brands where the brand value in 2022 is less than the brand value in 2021\n",
    "brands[(brands['Brand Value ($M) in 2022']) < (brands['Brand Value ($M) in 2021'])].value_counts().sum()    # Returns the total count of brands with a lower value in 2022 compared to 2021"
   ]
  },
  {
   "cell_type": "markdown",
   "id": "9d0b07d9-1ada-4013-a8d5-04fc748b313c",
   "metadata": {},
   "source": [
    "#### It has been found that 17 brands experienced a decline in their brand values in 2022 compared to 2021. Let's examine those 17 brands."
   ]
  },
  {
   "cell_type": "code",
   "execution_count": 40,
   "id": "275453a5-a9a5-44f6-84bc-c7504cb29784",
   "metadata": {
    "tags": []
   },
   "outputs": [
    {
     "data": {
      "text/html": [
       "<div>\n",
       "<style scoped>\n",
       "    .dataframe tbody tr th:only-of-type {\n",
       "        vertical-align: middle;\n",
       "    }\n",
       "\n",
       "    .dataframe tbody tr th {\n",
       "        vertical-align: top;\n",
       "    }\n",
       "\n",
       "    .dataframe thead th {\n",
       "        text-align: right;\n",
       "    }\n",
       "</style>\n",
       "<table border=\"1\" class=\"dataframe\">\n",
       "  <thead>\n",
       "    <tr style=\"text-align: right;\">\n",
       "      <th></th>\n",
       "      <th>Brand</th>\n",
       "      <th>Founded By/How it was founded</th>\n",
       "      <th>Founded In</th>\n",
       "      <th>Country</th>\n",
       "      <th>Key People</th>\n",
       "      <th>Genre/Industry</th>\n",
       "      <th>Website</th>\n",
       "      <th>Rank in 2022</th>\n",
       "      <th>Rank in 2021</th>\n",
       "      <th>Brand Value ($M) in 2022</th>\n",
       "      <th>Brand Value ($M) in 2021</th>\n",
       "      <th>% Change</th>\n",
       "      <th>Rating in 2022</th>\n",
       "      <th>Rating in 2021</th>\n",
       "      <th>Change %</th>\n",
       "    </tr>\n",
       "  </thead>\n",
       "  <tbody>\n",
       "    <tr>\n",
       "      <th>12</th>\n",
       "      <td>WeChat</td>\n",
       "      <td>Tencent</td>\n",
       "      <td>2011</td>\n",
       "      <td>China</td>\n",
       "      <td>Ma Huateng(CEO of Tencent which develops WeChat)</td>\n",
       "      <td>Instant messaging, social Media and mobile pay...</td>\n",
       "      <td>https://www.wechat.com/</td>\n",
       "      <td>13</td>\n",
       "      <td>10</td>\n",
       "      <td>62302.54</td>\n",
       "      <td>67901.98</td>\n",
       "      <td>-8%</td>\n",
       "      <td>AAA+</td>\n",
       "      <td>AAA+</td>\n",
       "      <td>8</td>\n",
       "    </tr>\n",
       "    <tr>\n",
       "      <th>20</th>\n",
       "      <td>Ping An</td>\n",
       "      <td>Ma Mingzhe</td>\n",
       "      <td>1988</td>\n",
       "      <td>China</td>\n",
       "      <td>Xie Yonglin(Co-CEO), Tan Sin Yin(Co-CEO), Yao ...</td>\n",
       "      <td>Financial Services</td>\n",
       "      <td>https://group.pingan.com/</td>\n",
       "      <td>21</td>\n",
       "      <td>17</td>\n",
       "      <td>54354.00</td>\n",
       "      <td>54579.00</td>\n",
       "      <td>0%</td>\n",
       "      <td>AAA-</td>\n",
       "      <td>AAA-</td>\n",
       "      <td>0</td>\n",
       "    </tr>\n",
       "    <tr>\n",
       "      <th>25</th>\n",
       "      <td>AT&amp;T</td>\n",
       "      <td>Alexander Graham Bell, Gardiner Greene Hubbard</td>\n",
       "      <td>1885</td>\n",
       "      <td>United States</td>\n",
       "      <td>John Stankey(CEO)</td>\n",
       "      <td>Telecommunications, Technology</td>\n",
       "      <td>https://about.att.com/</td>\n",
       "      <td>26</td>\n",
       "      <td>21</td>\n",
       "      <td>47008.54</td>\n",
       "      <td>51372.34</td>\n",
       "      <td>-8%</td>\n",
       "      <td>AA</td>\n",
       "      <td>AA</td>\n",
       "      <td>8</td>\n",
       "    </tr>\n",
       "    <tr>\n",
       "      <th>26</th>\n",
       "      <td>Tencent</td>\n",
       "      <td>Pony Ma, Tony Zhang, Xu Chenye, Charles Chen, ...</td>\n",
       "      <td>1998</td>\n",
       "      <td>China</td>\n",
       "      <td>Pony Ma(CEO)</td>\n",
       "      <td>Conglomerate</td>\n",
       "      <td>https://www.tencent.com/en-us/index.html</td>\n",
       "      <td>27</td>\n",
       "      <td>14</td>\n",
       "      <td>46652.50</td>\n",
       "      <td>56432.39</td>\n",
       "      <td>-17%</td>\n",
       "      <td>AAA-</td>\n",
       "      <td>AAA</td>\n",
       "      <td>17</td>\n",
       "    </tr>\n",
       "    <tr>\n",
       "      <th>31</th>\n",
       "      <td>Moutai</td>\n",
       "      <td>Kweichow Moutai Group</td>\n",
       "      <td>1999</td>\n",
       "      <td>China</td>\n",
       "      <td>Ding Xiongjun(CEO)</td>\n",
       "      <td>Alcohol industry</td>\n",
       "      <td>http://www.moutaichina.com/</td>\n",
       "      <td>32</td>\n",
       "      <td>27</td>\n",
       "      <td>42905.18</td>\n",
       "      <td>45333.22</td>\n",
       "      <td>-5%</td>\n",
       "      <td>AAA</td>\n",
       "      <td>AAA</td>\n",
       "      <td>5</td>\n",
       "    </tr>\n",
       "    <tr>\n",
       "      <th>32</th>\n",
       "      <td>Volkswagen</td>\n",
       "      <td>German Labour Front</td>\n",
       "      <td>1937</td>\n",
       "      <td>Germany</td>\n",
       "      <td>Ralf Brandstaetter(CEO)</td>\n",
       "      <td>Automotive</td>\n",
       "      <td>https://www.vw.com/en.html</td>\n",
       "      <td>33</td>\n",
       "      <td>26</td>\n",
       "      <td>41046.00</td>\n",
       "      <td>47020.00</td>\n",
       "      <td>-13%</td>\n",
       "      <td>AAA-</td>\n",
       "      <td>AAA-</td>\n",
       "      <td>13</td>\n",
       "    </tr>\n",
       "    <tr>\n",
       "      <th>38</th>\n",
       "      <td>BMW</td>\n",
       "      <td>Camillo Castiglioni, Franz Josef Popp, Karl Rapp</td>\n",
       "      <td>1916</td>\n",
       "      <td>Germany</td>\n",
       "      <td>Oliver Zipse(CEO)</td>\n",
       "      <td>Automotive</td>\n",
       "      <td>https://www.bmwgroup.com/en.html AND https://w...</td>\n",
       "      <td>39</td>\n",
       "      <td>29</td>\n",
       "      <td>37945.39</td>\n",
       "      <td>40447.11</td>\n",
       "      <td>-6%</td>\n",
       "      <td>AAA-</td>\n",
       "      <td>AAA-</td>\n",
       "      <td>6</td>\n",
       "    </tr>\n",
       "    <tr>\n",
       "      <th>45</th>\n",
       "      <td>Porsche</td>\n",
       "      <td>Ferdinand Porsche</td>\n",
       "      <td>1931</td>\n",
       "      <td>Germany</td>\n",
       "      <td>Oliver Blume(CEO)</td>\n",
       "      <td>Automotive</td>\n",
       "      <td>https://www.porsche.com/</td>\n",
       "      <td>46</td>\n",
       "      <td>36</td>\n",
       "      <td>33712.92</td>\n",
       "      <td>34325.53</td>\n",
       "      <td>-2%</td>\n",
       "      <td>AAA</td>\n",
       "      <td>AAA-</td>\n",
       "      <td>2</td>\n",
       "    </tr>\n",
       "    <tr>\n",
       "      <th>52</th>\n",
       "      <td>Wells Fargo</td>\n",
       "      <td>Henry Wells, William Fargo</td>\n",
       "      <td>1852</td>\n",
       "      <td>United States</td>\n",
       "      <td>Charles Scharf(CEO)</td>\n",
       "      <td>Financial services</td>\n",
       "      <td>https://www.wellsfargo.com/</td>\n",
       "      <td>53</td>\n",
       "      <td>44</td>\n",
       "      <td>30054.20</td>\n",
       "      <td>31804.69</td>\n",
       "      <td>-6%</td>\n",
       "      <td>AA</td>\n",
       "      <td>AA+</td>\n",
       "      <td>6</td>\n",
       "    </tr>\n",
       "    <tr>\n",
       "      <th>54</th>\n",
       "      <td>PetroChina</td>\n",
       "      <td>Founded as a joint stock company with limited ...</td>\n",
       "      <td>1999</td>\n",
       "      <td>China</td>\n",
       "      <td>Wang Dongjin(CEO)</td>\n",
       "      <td>Oil and gas</td>\n",
       "      <td>http://www.petrochina.com.cn/ptr/</td>\n",
       "      <td>55</td>\n",
       "      <td>45</td>\n",
       "      <td>29656.09</td>\n",
       "      <td>31414.63</td>\n",
       "      <td>-6%</td>\n",
       "      <td>AA</td>\n",
       "      <td>AA+</td>\n",
       "      <td>6</td>\n",
       "    </tr>\n",
       "    <tr>\n",
       "      <th>60</th>\n",
       "      <td>Honda</td>\n",
       "      <td>Soichiro Honda</td>\n",
       "      <td>1946</td>\n",
       "      <td>Japan</td>\n",
       "      <td>Toshihiro Mibe(CEO)</td>\n",
       "      <td>Manufacturing</td>\n",
       "      <td>https://global.honda/</td>\n",
       "      <td>61</td>\n",
       "      <td>46</td>\n",
       "      <td>28243.00</td>\n",
       "      <td>31366.00</td>\n",
       "      <td>-10%</td>\n",
       "      <td>AAA-</td>\n",
       "      <td>AAA</td>\n",
       "      <td>10</td>\n",
       "    </tr>\n",
       "    <tr>\n",
       "      <th>61</th>\n",
       "      <td>CSCEC</td>\n",
       "      <td>Founded as a state company</td>\n",
       "      <td>1957</td>\n",
       "      <td>China</td>\n",
       "      <td>Zhou Naixiang(Chairman)</td>\n",
       "      <td>Construction</td>\n",
       "      <td>http://www.cscec.com.cn/</td>\n",
       "      <td>62</td>\n",
       "      <td>48</td>\n",
       "      <td>27385.67</td>\n",
       "      <td>30383.30</td>\n",
       "      <td>-10%</td>\n",
       "      <td>AA</td>\n",
       "      <td>AA</td>\n",
       "      <td>10</td>\n",
       "    </tr>\n",
       "    <tr>\n",
       "      <th>66</th>\n",
       "      <td>CVS</td>\n",
       "      <td>Stanley Goldstein, Sidney Goldstein, Ralph Hoa...</td>\n",
       "      <td>1963</td>\n",
       "      <td>United States</td>\n",
       "      <td>Karen S. Lynch(CEO)</td>\n",
       "      <td>Retail</td>\n",
       "      <td>http://cvs.com/</td>\n",
       "      <td>67</td>\n",
       "      <td>55</td>\n",
       "      <td>26185.00</td>\n",
       "      <td>26942.29</td>\n",
       "      <td>-3%</td>\n",
       "      <td>AA</td>\n",
       "      <td>AA+</td>\n",
       "      <td>3</td>\n",
       "    </tr>\n",
       "    <tr>\n",
       "      <th>68</th>\n",
       "      <td>Intel</td>\n",
       "      <td>Gordon Moore, Robert Noyce</td>\n",
       "      <td>1968</td>\n",
       "      <td>United States</td>\n",
       "      <td>Pat Gelsinger(CEO)</td>\n",
       "      <td>Semiconductors, Computer hardware, Autonomous ...</td>\n",
       "      <td>https://www.intel.com/</td>\n",
       "      <td>69</td>\n",
       "      <td>43</td>\n",
       "      <td>25612.10</td>\n",
       "      <td>31817.20</td>\n",
       "      <td>-20%</td>\n",
       "      <td>AA+</td>\n",
       "      <td>AAA</td>\n",
       "      <td>20</td>\n",
       "    </tr>\n",
       "    <tr>\n",
       "      <th>69</th>\n",
       "      <td>Sinopec</td>\n",
       "      <td>Established as a joint stock entity under the ...</td>\n",
       "      <td>2000</td>\n",
       "      <td>China</td>\n",
       "      <td>Zhao Dong(President)</td>\n",
       "      <td>Oil and gas</td>\n",
       "      <td>http://www.sinopec.com/listco/en/</td>\n",
       "      <td>70</td>\n",
       "      <td>58</td>\n",
       "      <td>25164.93</td>\n",
       "      <td>26397.98</td>\n",
       "      <td>-5%</td>\n",
       "      <td>AA+</td>\n",
       "      <td>AA+</td>\n",
       "      <td>5</td>\n",
       "    </tr>\n",
       "    <tr>\n",
       "      <th>83</th>\n",
       "      <td>Alibaba.com</td>\n",
       "      <td>Jack Ma</td>\n",
       "      <td>1993</td>\n",
       "      <td>China</td>\n",
       "      <td>Daniel Zhang(CEO)</td>\n",
       "      <td>Technology</td>\n",
       "      <td>https://www.alibabagroup.com/en-US/</td>\n",
       "      <td>84</td>\n",
       "      <td>30</td>\n",
       "      <td>22842.66</td>\n",
       "      <td>39155.52</td>\n",
       "      <td>-42%</td>\n",
       "      <td>AA+</td>\n",
       "      <td>AAA</td>\n",
       "      <td>42</td>\n",
       "    </tr>\n",
       "    <tr>\n",
       "      <th>88</th>\n",
       "      <td>IBM</td>\n",
       "      <td>Charles Ranlett Flint</td>\n",
       "      <td>1911</td>\n",
       "      <td>United States</td>\n",
       "      <td>Arvind Krishna(Chairman and CEO)</td>\n",
       "      <td>Information Technology</td>\n",
       "      <td>https://www.ibm.com/</td>\n",
       "      <td>89</td>\n",
       "      <td>53</td>\n",
       "      <td>21383.00</td>\n",
       "      <td>27428.00</td>\n",
       "      <td>-22%</td>\n",
       "      <td>AA+</td>\n",
       "      <td>AA+</td>\n",
       "      <td>22</td>\n",
       "    </tr>\n",
       "  </tbody>\n",
       "</table>\n",
       "</div>"
      ],
      "text/plain": [
       "          Brand                      Founded By/How it was founded Founded In  \\\n",
       "12       WeChat                                            Tencent       2011   \n",
       "20      Ping An                                         Ma Mingzhe       1988   \n",
       "25         AT&T     Alexander Graham Bell, Gardiner Greene Hubbard       1885   \n",
       "26      Tencent  Pony Ma, Tony Zhang, Xu Chenye, Charles Chen, ...       1998   \n",
       "31       Moutai                              Kweichow Moutai Group       1999   \n",
       "32   Volkswagen                                German Labour Front       1937   \n",
       "38          BMW   Camillo Castiglioni, Franz Josef Popp, Karl Rapp       1916   \n",
       "45      Porsche                                  Ferdinand Porsche       1931   \n",
       "52  Wells Fargo                         Henry Wells, William Fargo       1852   \n",
       "54   PetroChina  Founded as a joint stock company with limited ...       1999   \n",
       "60        Honda                                     Soichiro Honda       1946   \n",
       "61        CSCEC                         Founded as a state company       1957   \n",
       "66          CVS  Stanley Goldstein, Sidney Goldstein, Ralph Hoa...       1963   \n",
       "68        Intel                         Gordon Moore, Robert Noyce       1968   \n",
       "69      Sinopec  Established as a joint stock entity under the ...       2000   \n",
       "83  Alibaba.com                                            Jack Ma       1993   \n",
       "88          IBM                              Charles Ranlett Flint       1911   \n",
       "\n",
       "          Country                                         Key People  \\\n",
       "12          China   Ma Huateng(CEO of Tencent which develops WeChat)   \n",
       "20          China  Xie Yonglin(Co-CEO), Tan Sin Yin(Co-CEO), Yao ...   \n",
       "25  United States                                  John Stankey(CEO)   \n",
       "26          China                                       Pony Ma(CEO)   \n",
       "31          China                                 Ding Xiongjun(CEO)   \n",
       "32        Germany                            Ralf Brandstaetter(CEO)   \n",
       "38        Germany                                  Oliver Zipse(CEO)   \n",
       "45        Germany                                  Oliver Blume(CEO)   \n",
       "52  United States                                Charles Scharf(CEO)   \n",
       "54          China                                  Wang Dongjin(CEO)   \n",
       "60          Japan                                Toshihiro Mibe(CEO)   \n",
       "61          China                            Zhou Naixiang(Chairman)   \n",
       "66  United States                                Karen S. Lynch(CEO)   \n",
       "68  United States                                 Pat Gelsinger(CEO)   \n",
       "69          China                               Zhao Dong(President)   \n",
       "83          China                                  Daniel Zhang(CEO)   \n",
       "88  United States                   Arvind Krishna(Chairman and CEO)   \n",
       "\n",
       "                                       Genre/Industry  \\\n",
       "12  Instant messaging, social Media and mobile pay...   \n",
       "20                                 Financial Services   \n",
       "25                     Telecommunications, Technology   \n",
       "26                                       Conglomerate   \n",
       "31                                   Alcohol industry   \n",
       "32                                         Automotive   \n",
       "38                                         Automotive   \n",
       "45                                         Automotive   \n",
       "52                                 Financial services   \n",
       "54                                        Oil and gas   \n",
       "60                                      Manufacturing   \n",
       "61                                       Construction   \n",
       "66                                             Retail   \n",
       "68  Semiconductors, Computer hardware, Autonomous ...   \n",
       "69                                        Oil and gas   \n",
       "83                                         Technology   \n",
       "88                             Information Technology   \n",
       "\n",
       "                                              Website Rank in 2022  \\\n",
       "12                            https://www.wechat.com/           13   \n",
       "20                          https://group.pingan.com/           21   \n",
       "25                             https://about.att.com/           26   \n",
       "26           https://www.tencent.com/en-us/index.html           27   \n",
       "31                        http://www.moutaichina.com/           32   \n",
       "32                         https://www.vw.com/en.html           33   \n",
       "38  https://www.bmwgroup.com/en.html AND https://w...           39   \n",
       "45                           https://www.porsche.com/           46   \n",
       "52                        https://www.wellsfargo.com/           53   \n",
       "54                  http://www.petrochina.com.cn/ptr/           55   \n",
       "60                              https://global.honda/           61   \n",
       "61                           http://www.cscec.com.cn/           62   \n",
       "66                                    http://cvs.com/           67   \n",
       "68                             https://www.intel.com/           69   \n",
       "69                  http://www.sinopec.com/listco/en/           70   \n",
       "83                https://www.alibabagroup.com/en-US/           84   \n",
       "88                               https://www.ibm.com/           89   \n",
       "\n",
       "   Rank in 2021  Brand Value ($M) in 2022  Brand Value ($M) in 2021 % Change  \\\n",
       "12           10                  62302.54                  67901.98      -8%   \n",
       "20           17                  54354.00                  54579.00       0%   \n",
       "25           21                  47008.54                  51372.34      -8%   \n",
       "26           14                  46652.50                  56432.39     -17%   \n",
       "31           27                  42905.18                  45333.22      -5%   \n",
       "32           26                  41046.00                  47020.00     -13%   \n",
       "38           29                  37945.39                  40447.11      -6%   \n",
       "45           36                  33712.92                  34325.53      -2%   \n",
       "52           44                  30054.20                  31804.69      -6%   \n",
       "54           45                  29656.09                  31414.63      -6%   \n",
       "60           46                  28243.00                  31366.00     -10%   \n",
       "61           48                  27385.67                  30383.30     -10%   \n",
       "66           55                  26185.00                  26942.29      -3%   \n",
       "68           43                  25612.10                  31817.20     -20%   \n",
       "69           58                  25164.93                  26397.98      -5%   \n",
       "83           30                  22842.66                  39155.52     -42%   \n",
       "88           53                  21383.00                  27428.00     -22%   \n",
       "\n",
       "   Rating in 2022 Rating in 2021   Change %  \n",
       "12           AAA+            AAA+         8  \n",
       "20           AAA-            AAA-         0  \n",
       "25             AA              AA         8  \n",
       "26           AAA-             AAA        17  \n",
       "31            AAA             AAA         5  \n",
       "32           AAA-            AAA-        13  \n",
       "38           AAA-            AAA-         6  \n",
       "45            AAA            AAA-         2  \n",
       "52             AA             AA+         6  \n",
       "54             AA             AA+         6  \n",
       "60           AAA-             AAA        10  \n",
       "61             AA              AA        10  \n",
       "66             AA             AA+         3  \n",
       "68            AA+             AAA        20  \n",
       "69            AA+             AA+         5  \n",
       "83            AA+             AAA        42  \n",
       "88            AA+             AA+        22  "
      ]
     },
     "execution_count": 40,
     "metadata": {},
     "output_type": "execute_result"
    }
   ],
   "source": [
    "# Filtering the dataset to include brands where the brand value in 2022 is less than the brand value in 2021\n",
    "brands[(brands['Brand Value ($M) in 2022']) < (brands['Brand Value ($M) in 2021'])]    # Returns brands with a lower brand value in 2022 compared to 2021"
   ]
  },
  {
   "cell_type": "markdown",
   "id": "4510e76a-1d22-404f-8af2-602973584322",
   "metadata": {},
   "source": [
    "#### It has been found that Alibaba.com experienced the maximum loss or negative change in brand value, with a decline of 42%."
   ]
  },
  {
   "cell_type": "code",
   "execution_count": 41,
   "id": "75e463b1-7121-4c52-b664-cf4aad92948d",
   "metadata": {
    "tags": []
   },
   "outputs": [
    {
     "data": {
      "text/plain": [
       "8"
      ]
     },
     "execution_count": 41,
     "metadata": {},
     "output_type": "execute_result"
    }
   ],
   "source": [
    "# Filtering the dataset to include brands from the 'Retail' industry\n",
    "brands[(brands['Genre/Industry']=='Retail')].value_counts().sum()   #Returns the total count of brands in the 'Retail' industry"
   ]
  },
  {
   "cell_type": "code",
   "execution_count": 42,
   "id": "0e1f2406-4735-4317-9bfe-a1e79bf8bd6a",
   "metadata": {
    "tags": []
   },
   "outputs": [
    {
     "data": {
      "text/plain": [
       "11"
      ]
     },
     "execution_count": 42,
     "metadata": {},
     "output_type": "execute_result"
    }
   ],
   "source": [
    "# Filtering the dataset to include brands from the 'Conglomerate' industry\n",
    "brands[(brands['Genre/Industry']=='Conglomerate')].value_counts().sum()      # Returns the total count of brands in the 'Conglomerate' industry"
   ]
  },
  {
   "cell_type": "markdown",
   "id": "975cb87f-635e-4fa0-9589-31d245b5a314",
   "metadata": {},
   "source": [
    "### Conclusion:\n",
    "(This dataset covers the years 2021 and 2022)\n",
    "\n",
    "1. The United States has the highest number of brands in the Top 100 Worldwide Rankings, with 46 brands, followed by China in second place with 23 brands.\n",
    "2. Japan has 7 brands in the Top 100, 6 of which were founded before 1950, with only 1 brand founded after 1950.\n",
    "3. India has only 1 brand (Tata Group) in the Top 100 Worldwide Rankings.\n",
    "4. TikTok/Douyin has seen the most significant growth, with a 215% increase in brand value.\n",
    "5. Alibaba's brand value has decreased by 42%, reflecting a substantial loss.\n",
    "6. Among the Top 100, 11 brands belong to the Conglomerate industry, while 8 brands are from the Retail industry.\n",
    "7. The top 3 brands (Apple, Amazon, and Google) operate in multiple industries, including AI, Consumer Electronics, Entertainment, and Cloud Computing."
   ]
  },
  {
   "cell_type": "code",
   "execution_count": null,
   "id": "f76fc2bd-569d-4455-a6e1-f99f37c5312b",
   "metadata": {},
   "outputs": [],
   "source": []
  }
 ],
 "metadata": {
  "kernelspec": {
   "display_name": "Python 3 (ipykernel)",
   "language": "python",
   "name": "python3"
  },
  "language_info": {
   "codemirror_mode": {
    "name": "ipython",
    "version": 3
   },
   "file_extension": ".py",
   "mimetype": "text/x-python",
   "name": "python",
   "nbconvert_exporter": "python",
   "pygments_lexer": "ipython3",
   "version": "3.12.6"
  }
 },
 "nbformat": 4,
 "nbformat_minor": 5
}
